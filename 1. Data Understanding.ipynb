{
  "nbformat": 4,
  "nbformat_minor": 0,
  "metadata": {
    "colab": {
      "provenance": []
    },
    "kernelspec": {
      "name": "python3",
      "display_name": "Python 3"
    },
    "language_info": {
      "name": "python"
    }
  },
  "cells": [
    {
      "cell_type": "markdown",
      "source": [
        "## **TUGAS INDIVIDU PRAKTIKUM 1 DAMIN**\n",
        "NAMA : ANNISA NOVANTIKA\\\n",
        "NIM : 121450005\\\n",
        "KELAS : RC"
      ],
      "metadata": {
        "id": "AcqKT7nJwuL7"
      }
    },
    {
      "cell_type": "markdown",
      "source": [
        "##**a) Lakukan deskripsi data dengan menggunakan fitur python yang ada pada bagian Describing Data using pandas. Kemudian jelaskan perbedaan karakteristik dari kedua dataset yaitu dataset diabetes_RS1 dan diabetes_RS2 !**\n",
        "\n"
      ],
      "metadata": {
        "id": "CQh748pQ2VXF"
      }
    },
    {
      "cell_type": "markdown",
      "source": [
        "###**Deskripsi Data**\n"
      ],
      "metadata": {
        "id": "rb-Clj2C236K"
      }
    },
    {
      "cell_type": "markdown",
      "source": [
        "**Membaca dataset diabetes_RS1 dan diabetes_RS2 melalui file csv**"
      ],
      "metadata": {
        "id": "M2eGttxG3XEx"
      }
    },
    {
      "cell_type": "code",
      "execution_count": null,
      "metadata": {
        "id": "mHy5JBSIfj-Y"
      },
      "outputs": [],
      "source": [
        "import pandas as pd\n",
        "df1 = pd.read_csv(\"diabetes_RS1.csv\")\n",
        "df2 = pd.read_csv(\"diabetes_RS2.csv\")"
      ]
    },
    {
      "cell_type": "markdown",
      "source": [
        "**Menampilkan size data**"
      ],
      "metadata": {
        "id": "7lweg1nU3miT"
      }
    },
    {
      "cell_type": "markdown",
      "source": [
        "Dataset 1"
      ],
      "metadata": {
        "id": "wpQVzPisU79w"
      }
    },
    {
      "cell_type": "code",
      "source": [
        "df1.shape"
      ],
      "metadata": {
        "colab": {
          "base_uri": "https://localhost:8080/"
        },
        "id": "D_6OP9Afg3TV",
        "outputId": "23e6381e-4afa-4f1e-af85-17b79bd6c1b7"
      },
      "execution_count": null,
      "outputs": [
        {
          "output_type": "execute_result",
          "data": {
            "text/plain": [
              "(768, 9)"
            ]
          },
          "metadata": {},
          "execution_count": 2
        }
      ]
    },
    {
      "cell_type": "markdown",
      "source": [
        "Dataset 2"
      ],
      "metadata": {
        "id": "CVp8OxIEU-Ro"
      }
    },
    {
      "cell_type": "code",
      "source": [
        "df2.shape"
      ],
      "metadata": {
        "colab": {
          "base_uri": "https://localhost:8080/"
        },
        "id": "wlLXAblTiLZ5",
        "outputId": "966720ff-d8ff-43b2-df98-a3c20e0a0ae1"
      },
      "execution_count": null,
      "outputs": [
        {
          "output_type": "execute_result",
          "data": {
            "text/plain": [
              "(1009, 14)"
            ]
          },
          "metadata": {},
          "execution_count": 3
        }
      ]
    },
    {
      "cell_type": "markdown",
      "source": [
        "**Menampilkan baris 5 teratas**"
      ],
      "metadata": {
        "id": "zce2wk6r3s_a"
      }
    },
    {
      "cell_type": "markdown",
      "source": [
        "Dataset 1"
      ],
      "metadata": {
        "id": "etvwd5CqVBRR"
      }
    },
    {
      "cell_type": "code",
      "source": [],
      "metadata": {
        "id": "i5roLFe_VKFU"
      },
      "execution_count": null,
      "outputs": []
    },
    {
      "cell_type": "code",
      "source": [
        "df1.head(5)"
      ],
      "metadata": {
        "colab": {
          "base_uri": "https://localhost:8080/",
          "height": 226
        },
        "id": "UHNlx2k1hAl7",
        "outputId": "c64d4ce7-ceaf-4555-ff50-f7b446b4ab8c"
      },
      "execution_count": null,
      "outputs": [
        {
          "output_type": "execute_result",
          "data": {
            "text/plain": [
              "   Pregnancies  Glucose  BloodPressure  SkinThickness  Insulin   BMI  \\\n",
              "0            6      148             72             35        0  33.6   \n",
              "1            1       85             66             29        0  26.6   \n",
              "2            8      183             64              0        0  23.3   \n",
              "3            1       89             66             23       94  28.1   \n",
              "4            0      137             40             35      168  43.1   \n",
              "\n",
              "   DiabetesPedigreeFunction  Age  Outcome  \n",
              "0                     0.627   50        1  \n",
              "1                     0.351   31        0  \n",
              "2                     0.672   32        1  \n",
              "3                     0.167   21        0  \n",
              "4                     2.288   33        1  "
            ],
            "text/html": [
              "\n",
              "  <div id=\"df-55c017e2-d72e-4436-bd4c-f0bc8b458f52\" class=\"colab-df-container\">\n",
              "    <div>\n",
              "<style scoped>\n",
              "    .dataframe tbody tr th:only-of-type {\n",
              "        vertical-align: middle;\n",
              "    }\n",
              "\n",
              "    .dataframe tbody tr th {\n",
              "        vertical-align: top;\n",
              "    }\n",
              "\n",
              "    .dataframe thead th {\n",
              "        text-align: right;\n",
              "    }\n",
              "</style>\n",
              "<table border=\"1\" class=\"dataframe\">\n",
              "  <thead>\n",
              "    <tr style=\"text-align: right;\">\n",
              "      <th></th>\n",
              "      <th>Pregnancies</th>\n",
              "      <th>Glucose</th>\n",
              "      <th>BloodPressure</th>\n",
              "      <th>SkinThickness</th>\n",
              "      <th>Insulin</th>\n",
              "      <th>BMI</th>\n",
              "      <th>DiabetesPedigreeFunction</th>\n",
              "      <th>Age</th>\n",
              "      <th>Outcome</th>\n",
              "    </tr>\n",
              "  </thead>\n",
              "  <tbody>\n",
              "    <tr>\n",
              "      <th>0</th>\n",
              "      <td>6</td>\n",
              "      <td>148</td>\n",
              "      <td>72</td>\n",
              "      <td>35</td>\n",
              "      <td>0</td>\n",
              "      <td>33.6</td>\n",
              "      <td>0.627</td>\n",
              "      <td>50</td>\n",
              "      <td>1</td>\n",
              "    </tr>\n",
              "    <tr>\n",
              "      <th>1</th>\n",
              "      <td>1</td>\n",
              "      <td>85</td>\n",
              "      <td>66</td>\n",
              "      <td>29</td>\n",
              "      <td>0</td>\n",
              "      <td>26.6</td>\n",
              "      <td>0.351</td>\n",
              "      <td>31</td>\n",
              "      <td>0</td>\n",
              "    </tr>\n",
              "    <tr>\n",
              "      <th>2</th>\n",
              "      <td>8</td>\n",
              "      <td>183</td>\n",
              "      <td>64</td>\n",
              "      <td>0</td>\n",
              "      <td>0</td>\n",
              "      <td>23.3</td>\n",
              "      <td>0.672</td>\n",
              "      <td>32</td>\n",
              "      <td>1</td>\n",
              "    </tr>\n",
              "    <tr>\n",
              "      <th>3</th>\n",
              "      <td>1</td>\n",
              "      <td>89</td>\n",
              "      <td>66</td>\n",
              "      <td>23</td>\n",
              "      <td>94</td>\n",
              "      <td>28.1</td>\n",
              "      <td>0.167</td>\n",
              "      <td>21</td>\n",
              "      <td>0</td>\n",
              "    </tr>\n",
              "    <tr>\n",
              "      <th>4</th>\n",
              "      <td>0</td>\n",
              "      <td>137</td>\n",
              "      <td>40</td>\n",
              "      <td>35</td>\n",
              "      <td>168</td>\n",
              "      <td>43.1</td>\n",
              "      <td>2.288</td>\n",
              "      <td>33</td>\n",
              "      <td>1</td>\n",
              "    </tr>\n",
              "  </tbody>\n",
              "</table>\n",
              "</div>\n",
              "    <div class=\"colab-df-buttons\">\n",
              "\n",
              "  <div class=\"colab-df-container\">\n",
              "    <button class=\"colab-df-convert\" onclick=\"convertToInteractive('df-55c017e2-d72e-4436-bd4c-f0bc8b458f52')\"\n",
              "            title=\"Convert this dataframe to an interactive table.\"\n",
              "            style=\"display:none;\">\n",
              "\n",
              "  <svg xmlns=\"http://www.w3.org/2000/svg\" height=\"24px\" viewBox=\"0 -960 960 960\">\n",
              "    <path d=\"M120-120v-720h720v720H120Zm60-500h600v-160H180v160Zm220 220h160v-160H400v160Zm0 220h160v-160H400v160ZM180-400h160v-160H180v160Zm440 0h160v-160H620v160ZM180-180h160v-160H180v160Zm440 0h160v-160H620v160Z\"/>\n",
              "  </svg>\n",
              "    </button>\n",
              "\n",
              "  <style>\n",
              "    .colab-df-container {\n",
              "      display:flex;\n",
              "      gap: 12px;\n",
              "    }\n",
              "\n",
              "    .colab-df-convert {\n",
              "      background-color: #E8F0FE;\n",
              "      border: none;\n",
              "      border-radius: 50%;\n",
              "      cursor: pointer;\n",
              "      display: none;\n",
              "      fill: #1967D2;\n",
              "      height: 32px;\n",
              "      padding: 0 0 0 0;\n",
              "      width: 32px;\n",
              "    }\n",
              "\n",
              "    .colab-df-convert:hover {\n",
              "      background-color: #E2EBFA;\n",
              "      box-shadow: 0px 1px 2px rgba(60, 64, 67, 0.3), 0px 1px 3px 1px rgba(60, 64, 67, 0.15);\n",
              "      fill: #174EA6;\n",
              "    }\n",
              "\n",
              "    .colab-df-buttons div {\n",
              "      margin-bottom: 4px;\n",
              "    }\n",
              "\n",
              "    [theme=dark] .colab-df-convert {\n",
              "      background-color: #3B4455;\n",
              "      fill: #D2E3FC;\n",
              "    }\n",
              "\n",
              "    [theme=dark] .colab-df-convert:hover {\n",
              "      background-color: #434B5C;\n",
              "      box-shadow: 0px 1px 3px 1px rgba(0, 0, 0, 0.15);\n",
              "      filter: drop-shadow(0px 1px 2px rgba(0, 0, 0, 0.3));\n",
              "      fill: #FFFFFF;\n",
              "    }\n",
              "  </style>\n",
              "\n",
              "    <script>\n",
              "      const buttonEl =\n",
              "        document.querySelector('#df-55c017e2-d72e-4436-bd4c-f0bc8b458f52 button.colab-df-convert');\n",
              "      buttonEl.style.display =\n",
              "        google.colab.kernel.accessAllowed ? 'block' : 'none';\n",
              "\n",
              "      async function convertToInteractive(key) {\n",
              "        const element = document.querySelector('#df-55c017e2-d72e-4436-bd4c-f0bc8b458f52');\n",
              "        const dataTable =\n",
              "          await google.colab.kernel.invokeFunction('convertToInteractive',\n",
              "                                                    [key], {});\n",
              "        if (!dataTable) return;\n",
              "\n",
              "        const docLinkHtml = 'Like what you see? Visit the ' +\n",
              "          '<a target=\"_blank\" href=https://colab.research.google.com/notebooks/data_table.ipynb>data table notebook</a>'\n",
              "          + ' to learn more about interactive tables.';\n",
              "        element.innerHTML = '';\n",
              "        dataTable['output_type'] = 'display_data';\n",
              "        await google.colab.output.renderOutput(dataTable, element);\n",
              "        const docLink = document.createElement('div');\n",
              "        docLink.innerHTML = docLinkHtml;\n",
              "        element.appendChild(docLink);\n",
              "      }\n",
              "    </script>\n",
              "  </div>\n",
              "\n",
              "\n",
              "<div id=\"df-0b41f60b-fa5a-4f08-abdf-52e1d0f3fc64\">\n",
              "  <button class=\"colab-df-quickchart\" onclick=\"quickchart('df-0b41f60b-fa5a-4f08-abdf-52e1d0f3fc64')\"\n",
              "            title=\"Suggest charts.\"\n",
              "            style=\"display:none;\">\n",
              "\n",
              "<svg xmlns=\"http://www.w3.org/2000/svg\" height=\"24px\"viewBox=\"0 0 24 24\"\n",
              "     width=\"24px\">\n",
              "    <g>\n",
              "        <path d=\"M19 3H5c-1.1 0-2 .9-2 2v14c0 1.1.9 2 2 2h14c1.1 0 2-.9 2-2V5c0-1.1-.9-2-2-2zM9 17H7v-7h2v7zm4 0h-2V7h2v10zm4 0h-2v-4h2v4z\"/>\n",
              "    </g>\n",
              "</svg>\n",
              "  </button>\n",
              "\n",
              "<style>\n",
              "  .colab-df-quickchart {\n",
              "      --bg-color: #E8F0FE;\n",
              "      --fill-color: #1967D2;\n",
              "      --hover-bg-color: #E2EBFA;\n",
              "      --hover-fill-color: #174EA6;\n",
              "      --disabled-fill-color: #AAA;\n",
              "      --disabled-bg-color: #DDD;\n",
              "  }\n",
              "\n",
              "  [theme=dark] .colab-df-quickchart {\n",
              "      --bg-color: #3B4455;\n",
              "      --fill-color: #D2E3FC;\n",
              "      --hover-bg-color: #434B5C;\n",
              "      --hover-fill-color: #FFFFFF;\n",
              "      --disabled-bg-color: #3B4455;\n",
              "      --disabled-fill-color: #666;\n",
              "  }\n",
              "\n",
              "  .colab-df-quickchart {\n",
              "    background-color: var(--bg-color);\n",
              "    border: none;\n",
              "    border-radius: 50%;\n",
              "    cursor: pointer;\n",
              "    display: none;\n",
              "    fill: var(--fill-color);\n",
              "    height: 32px;\n",
              "    padding: 0;\n",
              "    width: 32px;\n",
              "  }\n",
              "\n",
              "  .colab-df-quickchart:hover {\n",
              "    background-color: var(--hover-bg-color);\n",
              "    box-shadow: 0 1px 2px rgba(60, 64, 67, 0.3), 0 1px 3px 1px rgba(60, 64, 67, 0.15);\n",
              "    fill: var(--button-hover-fill-color);\n",
              "  }\n",
              "\n",
              "  .colab-df-quickchart-complete:disabled,\n",
              "  .colab-df-quickchart-complete:disabled:hover {\n",
              "    background-color: var(--disabled-bg-color);\n",
              "    fill: var(--disabled-fill-color);\n",
              "    box-shadow: none;\n",
              "  }\n",
              "\n",
              "  .colab-df-spinner {\n",
              "    border: 2px solid var(--fill-color);\n",
              "    border-color: transparent;\n",
              "    border-bottom-color: var(--fill-color);\n",
              "    animation:\n",
              "      spin 1s steps(1) infinite;\n",
              "  }\n",
              "\n",
              "  @keyframes spin {\n",
              "    0% {\n",
              "      border-color: transparent;\n",
              "      border-bottom-color: var(--fill-color);\n",
              "      border-left-color: var(--fill-color);\n",
              "    }\n",
              "    20% {\n",
              "      border-color: transparent;\n",
              "      border-left-color: var(--fill-color);\n",
              "      border-top-color: var(--fill-color);\n",
              "    }\n",
              "    30% {\n",
              "      border-color: transparent;\n",
              "      border-left-color: var(--fill-color);\n",
              "      border-top-color: var(--fill-color);\n",
              "      border-right-color: var(--fill-color);\n",
              "    }\n",
              "    40% {\n",
              "      border-color: transparent;\n",
              "      border-right-color: var(--fill-color);\n",
              "      border-top-color: var(--fill-color);\n",
              "    }\n",
              "    60% {\n",
              "      border-color: transparent;\n",
              "      border-right-color: var(--fill-color);\n",
              "    }\n",
              "    80% {\n",
              "      border-color: transparent;\n",
              "      border-right-color: var(--fill-color);\n",
              "      border-bottom-color: var(--fill-color);\n",
              "    }\n",
              "    90% {\n",
              "      border-color: transparent;\n",
              "      border-bottom-color: var(--fill-color);\n",
              "    }\n",
              "  }\n",
              "</style>\n",
              "\n",
              "  <script>\n",
              "    async function quickchart(key) {\n",
              "      const quickchartButtonEl =\n",
              "        document.querySelector('#' + key + ' button');\n",
              "      quickchartButtonEl.disabled = true;  // To prevent multiple clicks.\n",
              "      quickchartButtonEl.classList.add('colab-df-spinner');\n",
              "      try {\n",
              "        const charts = await google.colab.kernel.invokeFunction(\n",
              "            'suggestCharts', [key], {});\n",
              "      } catch (error) {\n",
              "        console.error('Error during call to suggestCharts:', error);\n",
              "      }\n",
              "      quickchartButtonEl.classList.remove('colab-df-spinner');\n",
              "      quickchartButtonEl.classList.add('colab-df-quickchart-complete');\n",
              "    }\n",
              "    (() => {\n",
              "      let quickchartButtonEl =\n",
              "        document.querySelector('#df-0b41f60b-fa5a-4f08-abdf-52e1d0f3fc64 button');\n",
              "      quickchartButtonEl.style.display =\n",
              "        google.colab.kernel.accessAllowed ? 'block' : 'none';\n",
              "    })();\n",
              "  </script>\n",
              "</div>\n",
              "    </div>\n",
              "  </div>\n"
            ]
          },
          "metadata": {},
          "execution_count": 4
        }
      ]
    },
    {
      "cell_type": "markdown",
      "source": [
        "Dataset 2"
      ],
      "metadata": {
        "id": "cLcdOP-WVPEI"
      }
    },
    {
      "cell_type": "code",
      "source": [
        "df2.head(5)"
      ],
      "metadata": {
        "colab": {
          "base_uri": "https://localhost:8080/",
          "height": 206
        },
        "id": "2EnE1bjYiEvb",
        "outputId": "2b685a38-5ba6-419d-b826-eb00cc623af2"
      },
      "execution_count": null,
      "outputs": [
        {
          "output_type": "execute_result",
          "data": {
            "text/plain": [
              "    ID  No_Pation Gender   AGE  Urea    Cr  HbA1c  Chol   TG  HDL  LDL  VLDL  \\\n",
              "0  502      17975      F  50.0   4.7  46.0    4.9   4.2  0.9  2.4  1.4   0.5   \n",
              "1  735      34221      M  26.0   4.5  62.0    4.9   3.7  1.4  1.1  2.1   0.6   \n",
              "2  420      47975      F  50.0   4.7  46.0    4.9   4.2  0.9  2.4  1.4   0.5   \n",
              "3  680      87656      F  50.0   4.7  46.0    4.9   4.2  0.9  2.4  1.4   0.5   \n",
              "4  504      34223      M  33.0   7.1  46.0    4.9   4.9  1.0  0.8  2.0   0.4   \n",
              "\n",
              "    BMI CLASS  \n",
              "0  24.0     N  \n",
              "1  23.0     N  \n",
              "2  24.0     N  \n",
              "3  24.0     N  \n",
              "4  21.0     N  "
            ],
            "text/html": [
              "\n",
              "  <div id=\"df-697cf8aa-5494-424f-9235-d41998721f0b\" class=\"colab-df-container\">\n",
              "    <div>\n",
              "<style scoped>\n",
              "    .dataframe tbody tr th:only-of-type {\n",
              "        vertical-align: middle;\n",
              "    }\n",
              "\n",
              "    .dataframe tbody tr th {\n",
              "        vertical-align: top;\n",
              "    }\n",
              "\n",
              "    .dataframe thead th {\n",
              "        text-align: right;\n",
              "    }\n",
              "</style>\n",
              "<table border=\"1\" class=\"dataframe\">\n",
              "  <thead>\n",
              "    <tr style=\"text-align: right;\">\n",
              "      <th></th>\n",
              "      <th>ID</th>\n",
              "      <th>No_Pation</th>\n",
              "      <th>Gender</th>\n",
              "      <th>AGE</th>\n",
              "      <th>Urea</th>\n",
              "      <th>Cr</th>\n",
              "      <th>HbA1c</th>\n",
              "      <th>Chol</th>\n",
              "      <th>TG</th>\n",
              "      <th>HDL</th>\n",
              "      <th>LDL</th>\n",
              "      <th>VLDL</th>\n",
              "      <th>BMI</th>\n",
              "      <th>CLASS</th>\n",
              "    </tr>\n",
              "  </thead>\n",
              "  <tbody>\n",
              "    <tr>\n",
              "      <th>0</th>\n",
              "      <td>502</td>\n",
              "      <td>17975</td>\n",
              "      <td>F</td>\n",
              "      <td>50.0</td>\n",
              "      <td>4.7</td>\n",
              "      <td>46.0</td>\n",
              "      <td>4.9</td>\n",
              "      <td>4.2</td>\n",
              "      <td>0.9</td>\n",
              "      <td>2.4</td>\n",
              "      <td>1.4</td>\n",
              "      <td>0.5</td>\n",
              "      <td>24.0</td>\n",
              "      <td>N</td>\n",
              "    </tr>\n",
              "    <tr>\n",
              "      <th>1</th>\n",
              "      <td>735</td>\n",
              "      <td>34221</td>\n",
              "      <td>M</td>\n",
              "      <td>26.0</td>\n",
              "      <td>4.5</td>\n",
              "      <td>62.0</td>\n",
              "      <td>4.9</td>\n",
              "      <td>3.7</td>\n",
              "      <td>1.4</td>\n",
              "      <td>1.1</td>\n",
              "      <td>2.1</td>\n",
              "      <td>0.6</td>\n",
              "      <td>23.0</td>\n",
              "      <td>N</td>\n",
              "    </tr>\n",
              "    <tr>\n",
              "      <th>2</th>\n",
              "      <td>420</td>\n",
              "      <td>47975</td>\n",
              "      <td>F</td>\n",
              "      <td>50.0</td>\n",
              "      <td>4.7</td>\n",
              "      <td>46.0</td>\n",
              "      <td>4.9</td>\n",
              "      <td>4.2</td>\n",
              "      <td>0.9</td>\n",
              "      <td>2.4</td>\n",
              "      <td>1.4</td>\n",
              "      <td>0.5</td>\n",
              "      <td>24.0</td>\n",
              "      <td>N</td>\n",
              "    </tr>\n",
              "    <tr>\n",
              "      <th>3</th>\n",
              "      <td>680</td>\n",
              "      <td>87656</td>\n",
              "      <td>F</td>\n",
              "      <td>50.0</td>\n",
              "      <td>4.7</td>\n",
              "      <td>46.0</td>\n",
              "      <td>4.9</td>\n",
              "      <td>4.2</td>\n",
              "      <td>0.9</td>\n",
              "      <td>2.4</td>\n",
              "      <td>1.4</td>\n",
              "      <td>0.5</td>\n",
              "      <td>24.0</td>\n",
              "      <td>N</td>\n",
              "    </tr>\n",
              "    <tr>\n",
              "      <th>4</th>\n",
              "      <td>504</td>\n",
              "      <td>34223</td>\n",
              "      <td>M</td>\n",
              "      <td>33.0</td>\n",
              "      <td>7.1</td>\n",
              "      <td>46.0</td>\n",
              "      <td>4.9</td>\n",
              "      <td>4.9</td>\n",
              "      <td>1.0</td>\n",
              "      <td>0.8</td>\n",
              "      <td>2.0</td>\n",
              "      <td>0.4</td>\n",
              "      <td>21.0</td>\n",
              "      <td>N</td>\n",
              "    </tr>\n",
              "  </tbody>\n",
              "</table>\n",
              "</div>\n",
              "    <div class=\"colab-df-buttons\">\n",
              "\n",
              "  <div class=\"colab-df-container\">\n",
              "    <button class=\"colab-df-convert\" onclick=\"convertToInteractive('df-697cf8aa-5494-424f-9235-d41998721f0b')\"\n",
              "            title=\"Convert this dataframe to an interactive table.\"\n",
              "            style=\"display:none;\">\n",
              "\n",
              "  <svg xmlns=\"http://www.w3.org/2000/svg\" height=\"24px\" viewBox=\"0 -960 960 960\">\n",
              "    <path d=\"M120-120v-720h720v720H120Zm60-500h600v-160H180v160Zm220 220h160v-160H400v160Zm0 220h160v-160H400v160ZM180-400h160v-160H180v160Zm440 0h160v-160H620v160ZM180-180h160v-160H180v160Zm440 0h160v-160H620v160Z\"/>\n",
              "  </svg>\n",
              "    </button>\n",
              "\n",
              "  <style>\n",
              "    .colab-df-container {\n",
              "      display:flex;\n",
              "      gap: 12px;\n",
              "    }\n",
              "\n",
              "    .colab-df-convert {\n",
              "      background-color: #E8F0FE;\n",
              "      border: none;\n",
              "      border-radius: 50%;\n",
              "      cursor: pointer;\n",
              "      display: none;\n",
              "      fill: #1967D2;\n",
              "      height: 32px;\n",
              "      padding: 0 0 0 0;\n",
              "      width: 32px;\n",
              "    }\n",
              "\n",
              "    .colab-df-convert:hover {\n",
              "      background-color: #E2EBFA;\n",
              "      box-shadow: 0px 1px 2px rgba(60, 64, 67, 0.3), 0px 1px 3px 1px rgba(60, 64, 67, 0.15);\n",
              "      fill: #174EA6;\n",
              "    }\n",
              "\n",
              "    .colab-df-buttons div {\n",
              "      margin-bottom: 4px;\n",
              "    }\n",
              "\n",
              "    [theme=dark] .colab-df-convert {\n",
              "      background-color: #3B4455;\n",
              "      fill: #D2E3FC;\n",
              "    }\n",
              "\n",
              "    [theme=dark] .colab-df-convert:hover {\n",
              "      background-color: #434B5C;\n",
              "      box-shadow: 0px 1px 3px 1px rgba(0, 0, 0, 0.15);\n",
              "      filter: drop-shadow(0px 1px 2px rgba(0, 0, 0, 0.3));\n",
              "      fill: #FFFFFF;\n",
              "    }\n",
              "  </style>\n",
              "\n",
              "    <script>\n",
              "      const buttonEl =\n",
              "        document.querySelector('#df-697cf8aa-5494-424f-9235-d41998721f0b button.colab-df-convert');\n",
              "      buttonEl.style.display =\n",
              "        google.colab.kernel.accessAllowed ? 'block' : 'none';\n",
              "\n",
              "      async function convertToInteractive(key) {\n",
              "        const element = document.querySelector('#df-697cf8aa-5494-424f-9235-d41998721f0b');\n",
              "        const dataTable =\n",
              "          await google.colab.kernel.invokeFunction('convertToInteractive',\n",
              "                                                    [key], {});\n",
              "        if (!dataTable) return;\n",
              "\n",
              "        const docLinkHtml = 'Like what you see? Visit the ' +\n",
              "          '<a target=\"_blank\" href=https://colab.research.google.com/notebooks/data_table.ipynb>data table notebook</a>'\n",
              "          + ' to learn more about interactive tables.';\n",
              "        element.innerHTML = '';\n",
              "        dataTable['output_type'] = 'display_data';\n",
              "        await google.colab.output.renderOutput(dataTable, element);\n",
              "        const docLink = document.createElement('div');\n",
              "        docLink.innerHTML = docLinkHtml;\n",
              "        element.appendChild(docLink);\n",
              "      }\n",
              "    </script>\n",
              "  </div>\n",
              "\n",
              "\n",
              "<div id=\"df-d5b78a05-6e41-40f5-b946-0ff34b3aa328\">\n",
              "  <button class=\"colab-df-quickchart\" onclick=\"quickchart('df-d5b78a05-6e41-40f5-b946-0ff34b3aa328')\"\n",
              "            title=\"Suggest charts.\"\n",
              "            style=\"display:none;\">\n",
              "\n",
              "<svg xmlns=\"http://www.w3.org/2000/svg\" height=\"24px\"viewBox=\"0 0 24 24\"\n",
              "     width=\"24px\">\n",
              "    <g>\n",
              "        <path d=\"M19 3H5c-1.1 0-2 .9-2 2v14c0 1.1.9 2 2 2h14c1.1 0 2-.9 2-2V5c0-1.1-.9-2-2-2zM9 17H7v-7h2v7zm4 0h-2V7h2v10zm4 0h-2v-4h2v4z\"/>\n",
              "    </g>\n",
              "</svg>\n",
              "  </button>\n",
              "\n",
              "<style>\n",
              "  .colab-df-quickchart {\n",
              "      --bg-color: #E8F0FE;\n",
              "      --fill-color: #1967D2;\n",
              "      --hover-bg-color: #E2EBFA;\n",
              "      --hover-fill-color: #174EA6;\n",
              "      --disabled-fill-color: #AAA;\n",
              "      --disabled-bg-color: #DDD;\n",
              "  }\n",
              "\n",
              "  [theme=dark] .colab-df-quickchart {\n",
              "      --bg-color: #3B4455;\n",
              "      --fill-color: #D2E3FC;\n",
              "      --hover-bg-color: #434B5C;\n",
              "      --hover-fill-color: #FFFFFF;\n",
              "      --disabled-bg-color: #3B4455;\n",
              "      --disabled-fill-color: #666;\n",
              "  }\n",
              "\n",
              "  .colab-df-quickchart {\n",
              "    background-color: var(--bg-color);\n",
              "    border: none;\n",
              "    border-radius: 50%;\n",
              "    cursor: pointer;\n",
              "    display: none;\n",
              "    fill: var(--fill-color);\n",
              "    height: 32px;\n",
              "    padding: 0;\n",
              "    width: 32px;\n",
              "  }\n",
              "\n",
              "  .colab-df-quickchart:hover {\n",
              "    background-color: var(--hover-bg-color);\n",
              "    box-shadow: 0 1px 2px rgba(60, 64, 67, 0.3), 0 1px 3px 1px rgba(60, 64, 67, 0.15);\n",
              "    fill: var(--button-hover-fill-color);\n",
              "  }\n",
              "\n",
              "  .colab-df-quickchart-complete:disabled,\n",
              "  .colab-df-quickchart-complete:disabled:hover {\n",
              "    background-color: var(--disabled-bg-color);\n",
              "    fill: var(--disabled-fill-color);\n",
              "    box-shadow: none;\n",
              "  }\n",
              "\n",
              "  .colab-df-spinner {\n",
              "    border: 2px solid var(--fill-color);\n",
              "    border-color: transparent;\n",
              "    border-bottom-color: var(--fill-color);\n",
              "    animation:\n",
              "      spin 1s steps(1) infinite;\n",
              "  }\n",
              "\n",
              "  @keyframes spin {\n",
              "    0% {\n",
              "      border-color: transparent;\n",
              "      border-bottom-color: var(--fill-color);\n",
              "      border-left-color: var(--fill-color);\n",
              "    }\n",
              "    20% {\n",
              "      border-color: transparent;\n",
              "      border-left-color: var(--fill-color);\n",
              "      border-top-color: var(--fill-color);\n",
              "    }\n",
              "    30% {\n",
              "      border-color: transparent;\n",
              "      border-left-color: var(--fill-color);\n",
              "      border-top-color: var(--fill-color);\n",
              "      border-right-color: var(--fill-color);\n",
              "    }\n",
              "    40% {\n",
              "      border-color: transparent;\n",
              "      border-right-color: var(--fill-color);\n",
              "      border-top-color: var(--fill-color);\n",
              "    }\n",
              "    60% {\n",
              "      border-color: transparent;\n",
              "      border-right-color: var(--fill-color);\n",
              "    }\n",
              "    80% {\n",
              "      border-color: transparent;\n",
              "      border-right-color: var(--fill-color);\n",
              "      border-bottom-color: var(--fill-color);\n",
              "    }\n",
              "    90% {\n",
              "      border-color: transparent;\n",
              "      border-bottom-color: var(--fill-color);\n",
              "    }\n",
              "  }\n",
              "</style>\n",
              "\n",
              "  <script>\n",
              "    async function quickchart(key) {\n",
              "      const quickchartButtonEl =\n",
              "        document.querySelector('#' + key + ' button');\n",
              "      quickchartButtonEl.disabled = true;  // To prevent multiple clicks.\n",
              "      quickchartButtonEl.classList.add('colab-df-spinner');\n",
              "      try {\n",
              "        const charts = await google.colab.kernel.invokeFunction(\n",
              "            'suggestCharts', [key], {});\n",
              "      } catch (error) {\n",
              "        console.error('Error during call to suggestCharts:', error);\n",
              "      }\n",
              "      quickchartButtonEl.classList.remove('colab-df-spinner');\n",
              "      quickchartButtonEl.classList.add('colab-df-quickchart-complete');\n",
              "    }\n",
              "    (() => {\n",
              "      let quickchartButtonEl =\n",
              "        document.querySelector('#df-d5b78a05-6e41-40f5-b946-0ff34b3aa328 button');\n",
              "      quickchartButtonEl.style.display =\n",
              "        google.colab.kernel.accessAllowed ? 'block' : 'none';\n",
              "    })();\n",
              "  </script>\n",
              "</div>\n",
              "    </div>\n",
              "  </div>\n"
            ]
          },
          "metadata": {},
          "execution_count": 5
        }
      ]
    },
    {
      "cell_type": "markdown",
      "source": [
        "**Menampilkan baris 5 terbawah**"
      ],
      "metadata": {
        "id": "7sPNLWBe30Sy"
      }
    },
    {
      "cell_type": "markdown",
      "source": [
        "Dataset 1"
      ],
      "metadata": {
        "id": "p1aGfzhAVSLP"
      }
    },
    {
      "cell_type": "code",
      "source": [
        "df1.tail(5)"
      ],
      "metadata": {
        "colab": {
          "base_uri": "https://localhost:8080/",
          "height": 226
        },
        "id": "eDff5JxBhF1s",
        "outputId": "9f443165-da93-4cd6-86d0-6eada9e58868"
      },
      "execution_count": null,
      "outputs": [
        {
          "output_type": "execute_result",
          "data": {
            "text/plain": [
              "     Pregnancies  Glucose  BloodPressure  SkinThickness  Insulin   BMI  \\\n",
              "763           10      101             76             48      180  32.9   \n",
              "764            2      122             70             27        0  36.8   \n",
              "765            5      121             72             23      112  26.2   \n",
              "766            1      126             60              0        0  30.1   \n",
              "767            1       93             70             31        0  30.4   \n",
              "\n",
              "     DiabetesPedigreeFunction  Age  Outcome  \n",
              "763                     0.171   63        0  \n",
              "764                     0.340   27        0  \n",
              "765                     0.245   30        0  \n",
              "766                     0.349   47        1  \n",
              "767                     0.315   23        0  "
            ],
            "text/html": [
              "\n",
              "  <div id=\"df-d6e18524-479f-4fd7-84c4-d14fca525727\" class=\"colab-df-container\">\n",
              "    <div>\n",
              "<style scoped>\n",
              "    .dataframe tbody tr th:only-of-type {\n",
              "        vertical-align: middle;\n",
              "    }\n",
              "\n",
              "    .dataframe tbody tr th {\n",
              "        vertical-align: top;\n",
              "    }\n",
              "\n",
              "    .dataframe thead th {\n",
              "        text-align: right;\n",
              "    }\n",
              "</style>\n",
              "<table border=\"1\" class=\"dataframe\">\n",
              "  <thead>\n",
              "    <tr style=\"text-align: right;\">\n",
              "      <th></th>\n",
              "      <th>Pregnancies</th>\n",
              "      <th>Glucose</th>\n",
              "      <th>BloodPressure</th>\n",
              "      <th>SkinThickness</th>\n",
              "      <th>Insulin</th>\n",
              "      <th>BMI</th>\n",
              "      <th>DiabetesPedigreeFunction</th>\n",
              "      <th>Age</th>\n",
              "      <th>Outcome</th>\n",
              "    </tr>\n",
              "  </thead>\n",
              "  <tbody>\n",
              "    <tr>\n",
              "      <th>763</th>\n",
              "      <td>10</td>\n",
              "      <td>101</td>\n",
              "      <td>76</td>\n",
              "      <td>48</td>\n",
              "      <td>180</td>\n",
              "      <td>32.9</td>\n",
              "      <td>0.171</td>\n",
              "      <td>63</td>\n",
              "      <td>0</td>\n",
              "    </tr>\n",
              "    <tr>\n",
              "      <th>764</th>\n",
              "      <td>2</td>\n",
              "      <td>122</td>\n",
              "      <td>70</td>\n",
              "      <td>27</td>\n",
              "      <td>0</td>\n",
              "      <td>36.8</td>\n",
              "      <td>0.340</td>\n",
              "      <td>27</td>\n",
              "      <td>0</td>\n",
              "    </tr>\n",
              "    <tr>\n",
              "      <th>765</th>\n",
              "      <td>5</td>\n",
              "      <td>121</td>\n",
              "      <td>72</td>\n",
              "      <td>23</td>\n",
              "      <td>112</td>\n",
              "      <td>26.2</td>\n",
              "      <td>0.245</td>\n",
              "      <td>30</td>\n",
              "      <td>0</td>\n",
              "    </tr>\n",
              "    <tr>\n",
              "      <th>766</th>\n",
              "      <td>1</td>\n",
              "      <td>126</td>\n",
              "      <td>60</td>\n",
              "      <td>0</td>\n",
              "      <td>0</td>\n",
              "      <td>30.1</td>\n",
              "      <td>0.349</td>\n",
              "      <td>47</td>\n",
              "      <td>1</td>\n",
              "    </tr>\n",
              "    <tr>\n",
              "      <th>767</th>\n",
              "      <td>1</td>\n",
              "      <td>93</td>\n",
              "      <td>70</td>\n",
              "      <td>31</td>\n",
              "      <td>0</td>\n",
              "      <td>30.4</td>\n",
              "      <td>0.315</td>\n",
              "      <td>23</td>\n",
              "      <td>0</td>\n",
              "    </tr>\n",
              "  </tbody>\n",
              "</table>\n",
              "</div>\n",
              "    <div class=\"colab-df-buttons\">\n",
              "\n",
              "  <div class=\"colab-df-container\">\n",
              "    <button class=\"colab-df-convert\" onclick=\"convertToInteractive('df-d6e18524-479f-4fd7-84c4-d14fca525727')\"\n",
              "            title=\"Convert this dataframe to an interactive table.\"\n",
              "            style=\"display:none;\">\n",
              "\n",
              "  <svg xmlns=\"http://www.w3.org/2000/svg\" height=\"24px\" viewBox=\"0 -960 960 960\">\n",
              "    <path d=\"M120-120v-720h720v720H120Zm60-500h600v-160H180v160Zm220 220h160v-160H400v160Zm0 220h160v-160H400v160ZM180-400h160v-160H180v160Zm440 0h160v-160H620v160ZM180-180h160v-160H180v160Zm440 0h160v-160H620v160Z\"/>\n",
              "  </svg>\n",
              "    </button>\n",
              "\n",
              "  <style>\n",
              "    .colab-df-container {\n",
              "      display:flex;\n",
              "      gap: 12px;\n",
              "    }\n",
              "\n",
              "    .colab-df-convert {\n",
              "      background-color: #E8F0FE;\n",
              "      border: none;\n",
              "      border-radius: 50%;\n",
              "      cursor: pointer;\n",
              "      display: none;\n",
              "      fill: #1967D2;\n",
              "      height: 32px;\n",
              "      padding: 0 0 0 0;\n",
              "      width: 32px;\n",
              "    }\n",
              "\n",
              "    .colab-df-convert:hover {\n",
              "      background-color: #E2EBFA;\n",
              "      box-shadow: 0px 1px 2px rgba(60, 64, 67, 0.3), 0px 1px 3px 1px rgba(60, 64, 67, 0.15);\n",
              "      fill: #174EA6;\n",
              "    }\n",
              "\n",
              "    .colab-df-buttons div {\n",
              "      margin-bottom: 4px;\n",
              "    }\n",
              "\n",
              "    [theme=dark] .colab-df-convert {\n",
              "      background-color: #3B4455;\n",
              "      fill: #D2E3FC;\n",
              "    }\n",
              "\n",
              "    [theme=dark] .colab-df-convert:hover {\n",
              "      background-color: #434B5C;\n",
              "      box-shadow: 0px 1px 3px 1px rgba(0, 0, 0, 0.15);\n",
              "      filter: drop-shadow(0px 1px 2px rgba(0, 0, 0, 0.3));\n",
              "      fill: #FFFFFF;\n",
              "    }\n",
              "  </style>\n",
              "\n",
              "    <script>\n",
              "      const buttonEl =\n",
              "        document.querySelector('#df-d6e18524-479f-4fd7-84c4-d14fca525727 button.colab-df-convert');\n",
              "      buttonEl.style.display =\n",
              "        google.colab.kernel.accessAllowed ? 'block' : 'none';\n",
              "\n",
              "      async function convertToInteractive(key) {\n",
              "        const element = document.querySelector('#df-d6e18524-479f-4fd7-84c4-d14fca525727');\n",
              "        const dataTable =\n",
              "          await google.colab.kernel.invokeFunction('convertToInteractive',\n",
              "                                                    [key], {});\n",
              "        if (!dataTable) return;\n",
              "\n",
              "        const docLinkHtml = 'Like what you see? Visit the ' +\n",
              "          '<a target=\"_blank\" href=https://colab.research.google.com/notebooks/data_table.ipynb>data table notebook</a>'\n",
              "          + ' to learn more about interactive tables.';\n",
              "        element.innerHTML = '';\n",
              "        dataTable['output_type'] = 'display_data';\n",
              "        await google.colab.output.renderOutput(dataTable, element);\n",
              "        const docLink = document.createElement('div');\n",
              "        docLink.innerHTML = docLinkHtml;\n",
              "        element.appendChild(docLink);\n",
              "      }\n",
              "    </script>\n",
              "  </div>\n",
              "\n",
              "\n",
              "<div id=\"df-f10ac917-efef-411b-9717-91f5719e340a\">\n",
              "  <button class=\"colab-df-quickchart\" onclick=\"quickchart('df-f10ac917-efef-411b-9717-91f5719e340a')\"\n",
              "            title=\"Suggest charts.\"\n",
              "            style=\"display:none;\">\n",
              "\n",
              "<svg xmlns=\"http://www.w3.org/2000/svg\" height=\"24px\"viewBox=\"0 0 24 24\"\n",
              "     width=\"24px\">\n",
              "    <g>\n",
              "        <path d=\"M19 3H5c-1.1 0-2 .9-2 2v14c0 1.1.9 2 2 2h14c1.1 0 2-.9 2-2V5c0-1.1-.9-2-2-2zM9 17H7v-7h2v7zm4 0h-2V7h2v10zm4 0h-2v-4h2v4z\"/>\n",
              "    </g>\n",
              "</svg>\n",
              "  </button>\n",
              "\n",
              "<style>\n",
              "  .colab-df-quickchart {\n",
              "      --bg-color: #E8F0FE;\n",
              "      --fill-color: #1967D2;\n",
              "      --hover-bg-color: #E2EBFA;\n",
              "      --hover-fill-color: #174EA6;\n",
              "      --disabled-fill-color: #AAA;\n",
              "      --disabled-bg-color: #DDD;\n",
              "  }\n",
              "\n",
              "  [theme=dark] .colab-df-quickchart {\n",
              "      --bg-color: #3B4455;\n",
              "      --fill-color: #D2E3FC;\n",
              "      --hover-bg-color: #434B5C;\n",
              "      --hover-fill-color: #FFFFFF;\n",
              "      --disabled-bg-color: #3B4455;\n",
              "      --disabled-fill-color: #666;\n",
              "  }\n",
              "\n",
              "  .colab-df-quickchart {\n",
              "    background-color: var(--bg-color);\n",
              "    border: none;\n",
              "    border-radius: 50%;\n",
              "    cursor: pointer;\n",
              "    display: none;\n",
              "    fill: var(--fill-color);\n",
              "    height: 32px;\n",
              "    padding: 0;\n",
              "    width: 32px;\n",
              "  }\n",
              "\n",
              "  .colab-df-quickchart:hover {\n",
              "    background-color: var(--hover-bg-color);\n",
              "    box-shadow: 0 1px 2px rgba(60, 64, 67, 0.3), 0 1px 3px 1px rgba(60, 64, 67, 0.15);\n",
              "    fill: var(--button-hover-fill-color);\n",
              "  }\n",
              "\n",
              "  .colab-df-quickchart-complete:disabled,\n",
              "  .colab-df-quickchart-complete:disabled:hover {\n",
              "    background-color: var(--disabled-bg-color);\n",
              "    fill: var(--disabled-fill-color);\n",
              "    box-shadow: none;\n",
              "  }\n",
              "\n",
              "  .colab-df-spinner {\n",
              "    border: 2px solid var(--fill-color);\n",
              "    border-color: transparent;\n",
              "    border-bottom-color: var(--fill-color);\n",
              "    animation:\n",
              "      spin 1s steps(1) infinite;\n",
              "  }\n",
              "\n",
              "  @keyframes spin {\n",
              "    0% {\n",
              "      border-color: transparent;\n",
              "      border-bottom-color: var(--fill-color);\n",
              "      border-left-color: var(--fill-color);\n",
              "    }\n",
              "    20% {\n",
              "      border-color: transparent;\n",
              "      border-left-color: var(--fill-color);\n",
              "      border-top-color: var(--fill-color);\n",
              "    }\n",
              "    30% {\n",
              "      border-color: transparent;\n",
              "      border-left-color: var(--fill-color);\n",
              "      border-top-color: var(--fill-color);\n",
              "      border-right-color: var(--fill-color);\n",
              "    }\n",
              "    40% {\n",
              "      border-color: transparent;\n",
              "      border-right-color: var(--fill-color);\n",
              "      border-top-color: var(--fill-color);\n",
              "    }\n",
              "    60% {\n",
              "      border-color: transparent;\n",
              "      border-right-color: var(--fill-color);\n",
              "    }\n",
              "    80% {\n",
              "      border-color: transparent;\n",
              "      border-right-color: var(--fill-color);\n",
              "      border-bottom-color: var(--fill-color);\n",
              "    }\n",
              "    90% {\n",
              "      border-color: transparent;\n",
              "      border-bottom-color: var(--fill-color);\n",
              "    }\n",
              "  }\n",
              "</style>\n",
              "\n",
              "  <script>\n",
              "    async function quickchart(key) {\n",
              "      const quickchartButtonEl =\n",
              "        document.querySelector('#' + key + ' button');\n",
              "      quickchartButtonEl.disabled = true;  // To prevent multiple clicks.\n",
              "      quickchartButtonEl.classList.add('colab-df-spinner');\n",
              "      try {\n",
              "        const charts = await google.colab.kernel.invokeFunction(\n",
              "            'suggestCharts', [key], {});\n",
              "      } catch (error) {\n",
              "        console.error('Error during call to suggestCharts:', error);\n",
              "      }\n",
              "      quickchartButtonEl.classList.remove('colab-df-spinner');\n",
              "      quickchartButtonEl.classList.add('colab-df-quickchart-complete');\n",
              "    }\n",
              "    (() => {\n",
              "      let quickchartButtonEl =\n",
              "        document.querySelector('#df-f10ac917-efef-411b-9717-91f5719e340a button');\n",
              "      quickchartButtonEl.style.display =\n",
              "        google.colab.kernel.accessAllowed ? 'block' : 'none';\n",
              "    })();\n",
              "  </script>\n",
              "</div>\n",
              "    </div>\n",
              "  </div>\n"
            ]
          },
          "metadata": {},
          "execution_count": 6
        }
      ]
    },
    {
      "cell_type": "markdown",
      "source": [
        "Dataset 2"
      ],
      "metadata": {
        "id": "nNgBTyGAVTP5"
      }
    },
    {
      "cell_type": "code",
      "source": [
        "df2.tail(5)"
      ],
      "metadata": {
        "colab": {
          "base_uri": "https://localhost:8080/",
          "height": 226
        },
        "id": "oSkGY5Lgi-oi",
        "outputId": "914b7211-294b-4556-d368-303dbe244388"
      },
      "execution_count": null,
      "outputs": [
        {
          "output_type": "execute_result",
          "data": {
            "text/plain": [
              "       ID  No_Pation Gender   AGE  Urea    Cr  HbA1c  Chol   TG  HDL  LDL  \\\n",
              "1004  191     454316      M  55.0   NaN  62.0    6.8   5.3  2.0  1.0  3.5   \n",
              "1005  192     454316      M  55.0   4.8  88.0    NaN   5.7  4.0  0.9  3.3   \n",
              "1006  193     454316      M  62.0   6.3  82.0    6.7   5.3  2.0  1.0  3.5   \n",
              "1007  194     454316      F  57.0   4.1  70.0    9.3   5.3  3.3  1.0  1.4   \n",
              "1008  195       4543      f  55.0   4.1  34.0   13.9   5.4  1.6  1.6  3.1   \n",
              "\n",
              "      VLDL   BMI CLASS  \n",
              "1004   0.9  30.1    Y   \n",
              "1005   1.8  30.0    Y   \n",
              "1006   NaN  30.1    Y   \n",
              "1007   1.3  29.0    Y   \n",
              "1008   0.7  33.0    Y   "
            ],
            "text/html": [
              "\n",
              "  <div id=\"df-d3411397-572a-4835-a914-4c70f075f1f4\" class=\"colab-df-container\">\n",
              "    <div>\n",
              "<style scoped>\n",
              "    .dataframe tbody tr th:only-of-type {\n",
              "        vertical-align: middle;\n",
              "    }\n",
              "\n",
              "    .dataframe tbody tr th {\n",
              "        vertical-align: top;\n",
              "    }\n",
              "\n",
              "    .dataframe thead th {\n",
              "        text-align: right;\n",
              "    }\n",
              "</style>\n",
              "<table border=\"1\" class=\"dataframe\">\n",
              "  <thead>\n",
              "    <tr style=\"text-align: right;\">\n",
              "      <th></th>\n",
              "      <th>ID</th>\n",
              "      <th>No_Pation</th>\n",
              "      <th>Gender</th>\n",
              "      <th>AGE</th>\n",
              "      <th>Urea</th>\n",
              "      <th>Cr</th>\n",
              "      <th>HbA1c</th>\n",
              "      <th>Chol</th>\n",
              "      <th>TG</th>\n",
              "      <th>HDL</th>\n",
              "      <th>LDL</th>\n",
              "      <th>VLDL</th>\n",
              "      <th>BMI</th>\n",
              "      <th>CLASS</th>\n",
              "    </tr>\n",
              "  </thead>\n",
              "  <tbody>\n",
              "    <tr>\n",
              "      <th>1004</th>\n",
              "      <td>191</td>\n",
              "      <td>454316</td>\n",
              "      <td>M</td>\n",
              "      <td>55.0</td>\n",
              "      <td>NaN</td>\n",
              "      <td>62.0</td>\n",
              "      <td>6.8</td>\n",
              "      <td>5.3</td>\n",
              "      <td>2.0</td>\n",
              "      <td>1.0</td>\n",
              "      <td>3.5</td>\n",
              "      <td>0.9</td>\n",
              "      <td>30.1</td>\n",
              "      <td>Y</td>\n",
              "    </tr>\n",
              "    <tr>\n",
              "      <th>1005</th>\n",
              "      <td>192</td>\n",
              "      <td>454316</td>\n",
              "      <td>M</td>\n",
              "      <td>55.0</td>\n",
              "      <td>4.8</td>\n",
              "      <td>88.0</td>\n",
              "      <td>NaN</td>\n",
              "      <td>5.7</td>\n",
              "      <td>4.0</td>\n",
              "      <td>0.9</td>\n",
              "      <td>3.3</td>\n",
              "      <td>1.8</td>\n",
              "      <td>30.0</td>\n",
              "      <td>Y</td>\n",
              "    </tr>\n",
              "    <tr>\n",
              "      <th>1006</th>\n",
              "      <td>193</td>\n",
              "      <td>454316</td>\n",
              "      <td>M</td>\n",
              "      <td>62.0</td>\n",
              "      <td>6.3</td>\n",
              "      <td>82.0</td>\n",
              "      <td>6.7</td>\n",
              "      <td>5.3</td>\n",
              "      <td>2.0</td>\n",
              "      <td>1.0</td>\n",
              "      <td>3.5</td>\n",
              "      <td>NaN</td>\n",
              "      <td>30.1</td>\n",
              "      <td>Y</td>\n",
              "    </tr>\n",
              "    <tr>\n",
              "      <th>1007</th>\n",
              "      <td>194</td>\n",
              "      <td>454316</td>\n",
              "      <td>F</td>\n",
              "      <td>57.0</td>\n",
              "      <td>4.1</td>\n",
              "      <td>70.0</td>\n",
              "      <td>9.3</td>\n",
              "      <td>5.3</td>\n",
              "      <td>3.3</td>\n",
              "      <td>1.0</td>\n",
              "      <td>1.4</td>\n",
              "      <td>1.3</td>\n",
              "      <td>29.0</td>\n",
              "      <td>Y</td>\n",
              "    </tr>\n",
              "    <tr>\n",
              "      <th>1008</th>\n",
              "      <td>195</td>\n",
              "      <td>4543</td>\n",
              "      <td>f</td>\n",
              "      <td>55.0</td>\n",
              "      <td>4.1</td>\n",
              "      <td>34.0</td>\n",
              "      <td>13.9</td>\n",
              "      <td>5.4</td>\n",
              "      <td>1.6</td>\n",
              "      <td>1.6</td>\n",
              "      <td>3.1</td>\n",
              "      <td>0.7</td>\n",
              "      <td>33.0</td>\n",
              "      <td>Y</td>\n",
              "    </tr>\n",
              "  </tbody>\n",
              "</table>\n",
              "</div>\n",
              "    <div class=\"colab-df-buttons\">\n",
              "\n",
              "  <div class=\"colab-df-container\">\n",
              "    <button class=\"colab-df-convert\" onclick=\"convertToInteractive('df-d3411397-572a-4835-a914-4c70f075f1f4')\"\n",
              "            title=\"Convert this dataframe to an interactive table.\"\n",
              "            style=\"display:none;\">\n",
              "\n",
              "  <svg xmlns=\"http://www.w3.org/2000/svg\" height=\"24px\" viewBox=\"0 -960 960 960\">\n",
              "    <path d=\"M120-120v-720h720v720H120Zm60-500h600v-160H180v160Zm220 220h160v-160H400v160Zm0 220h160v-160H400v160ZM180-400h160v-160H180v160Zm440 0h160v-160H620v160ZM180-180h160v-160H180v160Zm440 0h160v-160H620v160Z\"/>\n",
              "  </svg>\n",
              "    </button>\n",
              "\n",
              "  <style>\n",
              "    .colab-df-container {\n",
              "      display:flex;\n",
              "      gap: 12px;\n",
              "    }\n",
              "\n",
              "    .colab-df-convert {\n",
              "      background-color: #E8F0FE;\n",
              "      border: none;\n",
              "      border-radius: 50%;\n",
              "      cursor: pointer;\n",
              "      display: none;\n",
              "      fill: #1967D2;\n",
              "      height: 32px;\n",
              "      padding: 0 0 0 0;\n",
              "      width: 32px;\n",
              "    }\n",
              "\n",
              "    .colab-df-convert:hover {\n",
              "      background-color: #E2EBFA;\n",
              "      box-shadow: 0px 1px 2px rgba(60, 64, 67, 0.3), 0px 1px 3px 1px rgba(60, 64, 67, 0.15);\n",
              "      fill: #174EA6;\n",
              "    }\n",
              "\n",
              "    .colab-df-buttons div {\n",
              "      margin-bottom: 4px;\n",
              "    }\n",
              "\n",
              "    [theme=dark] .colab-df-convert {\n",
              "      background-color: #3B4455;\n",
              "      fill: #D2E3FC;\n",
              "    }\n",
              "\n",
              "    [theme=dark] .colab-df-convert:hover {\n",
              "      background-color: #434B5C;\n",
              "      box-shadow: 0px 1px 3px 1px rgba(0, 0, 0, 0.15);\n",
              "      filter: drop-shadow(0px 1px 2px rgba(0, 0, 0, 0.3));\n",
              "      fill: #FFFFFF;\n",
              "    }\n",
              "  </style>\n",
              "\n",
              "    <script>\n",
              "      const buttonEl =\n",
              "        document.querySelector('#df-d3411397-572a-4835-a914-4c70f075f1f4 button.colab-df-convert');\n",
              "      buttonEl.style.display =\n",
              "        google.colab.kernel.accessAllowed ? 'block' : 'none';\n",
              "\n",
              "      async function convertToInteractive(key) {\n",
              "        const element = document.querySelector('#df-d3411397-572a-4835-a914-4c70f075f1f4');\n",
              "        const dataTable =\n",
              "          await google.colab.kernel.invokeFunction('convertToInteractive',\n",
              "                                                    [key], {});\n",
              "        if (!dataTable) return;\n",
              "\n",
              "        const docLinkHtml = 'Like what you see? Visit the ' +\n",
              "          '<a target=\"_blank\" href=https://colab.research.google.com/notebooks/data_table.ipynb>data table notebook</a>'\n",
              "          + ' to learn more about interactive tables.';\n",
              "        element.innerHTML = '';\n",
              "        dataTable['output_type'] = 'display_data';\n",
              "        await google.colab.output.renderOutput(dataTable, element);\n",
              "        const docLink = document.createElement('div');\n",
              "        docLink.innerHTML = docLinkHtml;\n",
              "        element.appendChild(docLink);\n",
              "      }\n",
              "    </script>\n",
              "  </div>\n",
              "\n",
              "\n",
              "<div id=\"df-ac850908-7837-42da-a41d-8304eae8ecb9\">\n",
              "  <button class=\"colab-df-quickchart\" onclick=\"quickchart('df-ac850908-7837-42da-a41d-8304eae8ecb9')\"\n",
              "            title=\"Suggest charts.\"\n",
              "            style=\"display:none;\">\n",
              "\n",
              "<svg xmlns=\"http://www.w3.org/2000/svg\" height=\"24px\"viewBox=\"0 0 24 24\"\n",
              "     width=\"24px\">\n",
              "    <g>\n",
              "        <path d=\"M19 3H5c-1.1 0-2 .9-2 2v14c0 1.1.9 2 2 2h14c1.1 0 2-.9 2-2V5c0-1.1-.9-2-2-2zM9 17H7v-7h2v7zm4 0h-2V7h2v10zm4 0h-2v-4h2v4z\"/>\n",
              "    </g>\n",
              "</svg>\n",
              "  </button>\n",
              "\n",
              "<style>\n",
              "  .colab-df-quickchart {\n",
              "      --bg-color: #E8F0FE;\n",
              "      --fill-color: #1967D2;\n",
              "      --hover-bg-color: #E2EBFA;\n",
              "      --hover-fill-color: #174EA6;\n",
              "      --disabled-fill-color: #AAA;\n",
              "      --disabled-bg-color: #DDD;\n",
              "  }\n",
              "\n",
              "  [theme=dark] .colab-df-quickchart {\n",
              "      --bg-color: #3B4455;\n",
              "      --fill-color: #D2E3FC;\n",
              "      --hover-bg-color: #434B5C;\n",
              "      --hover-fill-color: #FFFFFF;\n",
              "      --disabled-bg-color: #3B4455;\n",
              "      --disabled-fill-color: #666;\n",
              "  }\n",
              "\n",
              "  .colab-df-quickchart {\n",
              "    background-color: var(--bg-color);\n",
              "    border: none;\n",
              "    border-radius: 50%;\n",
              "    cursor: pointer;\n",
              "    display: none;\n",
              "    fill: var(--fill-color);\n",
              "    height: 32px;\n",
              "    padding: 0;\n",
              "    width: 32px;\n",
              "  }\n",
              "\n",
              "  .colab-df-quickchart:hover {\n",
              "    background-color: var(--hover-bg-color);\n",
              "    box-shadow: 0 1px 2px rgba(60, 64, 67, 0.3), 0 1px 3px 1px rgba(60, 64, 67, 0.15);\n",
              "    fill: var(--button-hover-fill-color);\n",
              "  }\n",
              "\n",
              "  .colab-df-quickchart-complete:disabled,\n",
              "  .colab-df-quickchart-complete:disabled:hover {\n",
              "    background-color: var(--disabled-bg-color);\n",
              "    fill: var(--disabled-fill-color);\n",
              "    box-shadow: none;\n",
              "  }\n",
              "\n",
              "  .colab-df-spinner {\n",
              "    border: 2px solid var(--fill-color);\n",
              "    border-color: transparent;\n",
              "    border-bottom-color: var(--fill-color);\n",
              "    animation:\n",
              "      spin 1s steps(1) infinite;\n",
              "  }\n",
              "\n",
              "  @keyframes spin {\n",
              "    0% {\n",
              "      border-color: transparent;\n",
              "      border-bottom-color: var(--fill-color);\n",
              "      border-left-color: var(--fill-color);\n",
              "    }\n",
              "    20% {\n",
              "      border-color: transparent;\n",
              "      border-left-color: var(--fill-color);\n",
              "      border-top-color: var(--fill-color);\n",
              "    }\n",
              "    30% {\n",
              "      border-color: transparent;\n",
              "      border-left-color: var(--fill-color);\n",
              "      border-top-color: var(--fill-color);\n",
              "      border-right-color: var(--fill-color);\n",
              "    }\n",
              "    40% {\n",
              "      border-color: transparent;\n",
              "      border-right-color: var(--fill-color);\n",
              "      border-top-color: var(--fill-color);\n",
              "    }\n",
              "    60% {\n",
              "      border-color: transparent;\n",
              "      border-right-color: var(--fill-color);\n",
              "    }\n",
              "    80% {\n",
              "      border-color: transparent;\n",
              "      border-right-color: var(--fill-color);\n",
              "      border-bottom-color: var(--fill-color);\n",
              "    }\n",
              "    90% {\n",
              "      border-color: transparent;\n",
              "      border-bottom-color: var(--fill-color);\n",
              "    }\n",
              "  }\n",
              "</style>\n",
              "\n",
              "  <script>\n",
              "    async function quickchart(key) {\n",
              "      const quickchartButtonEl =\n",
              "        document.querySelector('#' + key + ' button');\n",
              "      quickchartButtonEl.disabled = true;  // To prevent multiple clicks.\n",
              "      quickchartButtonEl.classList.add('colab-df-spinner');\n",
              "      try {\n",
              "        const charts = await google.colab.kernel.invokeFunction(\n",
              "            'suggestCharts', [key], {});\n",
              "      } catch (error) {\n",
              "        console.error('Error during call to suggestCharts:', error);\n",
              "      }\n",
              "      quickchartButtonEl.classList.remove('colab-df-spinner');\n",
              "      quickchartButtonEl.classList.add('colab-df-quickchart-complete');\n",
              "    }\n",
              "    (() => {\n",
              "      let quickchartButtonEl =\n",
              "        document.querySelector('#df-ac850908-7837-42da-a41d-8304eae8ecb9 button');\n",
              "      quickchartButtonEl.style.display =\n",
              "        google.colab.kernel.accessAllowed ? 'block' : 'none';\n",
              "    })();\n",
              "  </script>\n",
              "</div>\n",
              "    </div>\n",
              "  </div>\n"
            ]
          },
          "metadata": {},
          "execution_count": 7
        }
      ]
    },
    {
      "cell_type": "markdown",
      "source": [
        "**Menampilkan 5 baris secara acak**"
      ],
      "metadata": {
        "id": "R5CubQ6t341j"
      }
    },
    {
      "cell_type": "markdown",
      "source": [
        "Dataset 1"
      ],
      "metadata": {
        "id": "i9-srd77VXxN"
      }
    },
    {
      "cell_type": "code",
      "source": [
        "df1.sample(5)"
      ],
      "metadata": {
        "colab": {
          "base_uri": "https://localhost:8080/",
          "height": 226
        },
        "id": "yCqvnj2chKPD",
        "outputId": "8d2315ac-fd00-4099-d56f-e78ce31920d7"
      },
      "execution_count": null,
      "outputs": [
        {
          "output_type": "execute_result",
          "data": {
            "text/plain": [
              "     Pregnancies  Glucose  BloodPressure  SkinThickness  Insulin   BMI  \\\n",
              "363            4      146             78              0        0  38.5   \n",
              "226            0      101             76              0        0  35.7   \n",
              "210            2       81             60             22        0  27.7   \n",
              "450            1       82             64             13       95  21.2   \n",
              "645            2      157             74             35      440  39.4   \n",
              "\n",
              "     DiabetesPedigreeFunction  Age  Outcome  \n",
              "363                     0.520   67        1  \n",
              "226                     0.198   26        0  \n",
              "210                     0.290   25        0  \n",
              "450                     0.415   23        0  \n",
              "645                     0.134   30        0  "
            ],
            "text/html": [
              "\n",
              "  <div id=\"df-515de647-8834-4fda-b060-4772eabc1525\" class=\"colab-df-container\">\n",
              "    <div>\n",
              "<style scoped>\n",
              "    .dataframe tbody tr th:only-of-type {\n",
              "        vertical-align: middle;\n",
              "    }\n",
              "\n",
              "    .dataframe tbody tr th {\n",
              "        vertical-align: top;\n",
              "    }\n",
              "\n",
              "    .dataframe thead th {\n",
              "        text-align: right;\n",
              "    }\n",
              "</style>\n",
              "<table border=\"1\" class=\"dataframe\">\n",
              "  <thead>\n",
              "    <tr style=\"text-align: right;\">\n",
              "      <th></th>\n",
              "      <th>Pregnancies</th>\n",
              "      <th>Glucose</th>\n",
              "      <th>BloodPressure</th>\n",
              "      <th>SkinThickness</th>\n",
              "      <th>Insulin</th>\n",
              "      <th>BMI</th>\n",
              "      <th>DiabetesPedigreeFunction</th>\n",
              "      <th>Age</th>\n",
              "      <th>Outcome</th>\n",
              "    </tr>\n",
              "  </thead>\n",
              "  <tbody>\n",
              "    <tr>\n",
              "      <th>363</th>\n",
              "      <td>4</td>\n",
              "      <td>146</td>\n",
              "      <td>78</td>\n",
              "      <td>0</td>\n",
              "      <td>0</td>\n",
              "      <td>38.5</td>\n",
              "      <td>0.520</td>\n",
              "      <td>67</td>\n",
              "      <td>1</td>\n",
              "    </tr>\n",
              "    <tr>\n",
              "      <th>226</th>\n",
              "      <td>0</td>\n",
              "      <td>101</td>\n",
              "      <td>76</td>\n",
              "      <td>0</td>\n",
              "      <td>0</td>\n",
              "      <td>35.7</td>\n",
              "      <td>0.198</td>\n",
              "      <td>26</td>\n",
              "      <td>0</td>\n",
              "    </tr>\n",
              "    <tr>\n",
              "      <th>210</th>\n",
              "      <td>2</td>\n",
              "      <td>81</td>\n",
              "      <td>60</td>\n",
              "      <td>22</td>\n",
              "      <td>0</td>\n",
              "      <td>27.7</td>\n",
              "      <td>0.290</td>\n",
              "      <td>25</td>\n",
              "      <td>0</td>\n",
              "    </tr>\n",
              "    <tr>\n",
              "      <th>450</th>\n",
              "      <td>1</td>\n",
              "      <td>82</td>\n",
              "      <td>64</td>\n",
              "      <td>13</td>\n",
              "      <td>95</td>\n",
              "      <td>21.2</td>\n",
              "      <td>0.415</td>\n",
              "      <td>23</td>\n",
              "      <td>0</td>\n",
              "    </tr>\n",
              "    <tr>\n",
              "      <th>645</th>\n",
              "      <td>2</td>\n",
              "      <td>157</td>\n",
              "      <td>74</td>\n",
              "      <td>35</td>\n",
              "      <td>440</td>\n",
              "      <td>39.4</td>\n",
              "      <td>0.134</td>\n",
              "      <td>30</td>\n",
              "      <td>0</td>\n",
              "    </tr>\n",
              "  </tbody>\n",
              "</table>\n",
              "</div>\n",
              "    <div class=\"colab-df-buttons\">\n",
              "\n",
              "  <div class=\"colab-df-container\">\n",
              "    <button class=\"colab-df-convert\" onclick=\"convertToInteractive('df-515de647-8834-4fda-b060-4772eabc1525')\"\n",
              "            title=\"Convert this dataframe to an interactive table.\"\n",
              "            style=\"display:none;\">\n",
              "\n",
              "  <svg xmlns=\"http://www.w3.org/2000/svg\" height=\"24px\" viewBox=\"0 -960 960 960\">\n",
              "    <path d=\"M120-120v-720h720v720H120Zm60-500h600v-160H180v160Zm220 220h160v-160H400v160Zm0 220h160v-160H400v160ZM180-400h160v-160H180v160Zm440 0h160v-160H620v160ZM180-180h160v-160H180v160Zm440 0h160v-160H620v160Z\"/>\n",
              "  </svg>\n",
              "    </button>\n",
              "\n",
              "  <style>\n",
              "    .colab-df-container {\n",
              "      display:flex;\n",
              "      gap: 12px;\n",
              "    }\n",
              "\n",
              "    .colab-df-convert {\n",
              "      background-color: #E8F0FE;\n",
              "      border: none;\n",
              "      border-radius: 50%;\n",
              "      cursor: pointer;\n",
              "      display: none;\n",
              "      fill: #1967D2;\n",
              "      height: 32px;\n",
              "      padding: 0 0 0 0;\n",
              "      width: 32px;\n",
              "    }\n",
              "\n",
              "    .colab-df-convert:hover {\n",
              "      background-color: #E2EBFA;\n",
              "      box-shadow: 0px 1px 2px rgba(60, 64, 67, 0.3), 0px 1px 3px 1px rgba(60, 64, 67, 0.15);\n",
              "      fill: #174EA6;\n",
              "    }\n",
              "\n",
              "    .colab-df-buttons div {\n",
              "      margin-bottom: 4px;\n",
              "    }\n",
              "\n",
              "    [theme=dark] .colab-df-convert {\n",
              "      background-color: #3B4455;\n",
              "      fill: #D2E3FC;\n",
              "    }\n",
              "\n",
              "    [theme=dark] .colab-df-convert:hover {\n",
              "      background-color: #434B5C;\n",
              "      box-shadow: 0px 1px 3px 1px rgba(0, 0, 0, 0.15);\n",
              "      filter: drop-shadow(0px 1px 2px rgba(0, 0, 0, 0.3));\n",
              "      fill: #FFFFFF;\n",
              "    }\n",
              "  </style>\n",
              "\n",
              "    <script>\n",
              "      const buttonEl =\n",
              "        document.querySelector('#df-515de647-8834-4fda-b060-4772eabc1525 button.colab-df-convert');\n",
              "      buttonEl.style.display =\n",
              "        google.colab.kernel.accessAllowed ? 'block' : 'none';\n",
              "\n",
              "      async function convertToInteractive(key) {\n",
              "        const element = document.querySelector('#df-515de647-8834-4fda-b060-4772eabc1525');\n",
              "        const dataTable =\n",
              "          await google.colab.kernel.invokeFunction('convertToInteractive',\n",
              "                                                    [key], {});\n",
              "        if (!dataTable) return;\n",
              "\n",
              "        const docLinkHtml = 'Like what you see? Visit the ' +\n",
              "          '<a target=\"_blank\" href=https://colab.research.google.com/notebooks/data_table.ipynb>data table notebook</a>'\n",
              "          + ' to learn more about interactive tables.';\n",
              "        element.innerHTML = '';\n",
              "        dataTable['output_type'] = 'display_data';\n",
              "        await google.colab.output.renderOutput(dataTable, element);\n",
              "        const docLink = document.createElement('div');\n",
              "        docLink.innerHTML = docLinkHtml;\n",
              "        element.appendChild(docLink);\n",
              "      }\n",
              "    </script>\n",
              "  </div>\n",
              "\n",
              "\n",
              "<div id=\"df-d3cf2f96-5d19-452c-9b63-e1d438589d39\">\n",
              "  <button class=\"colab-df-quickchart\" onclick=\"quickchart('df-d3cf2f96-5d19-452c-9b63-e1d438589d39')\"\n",
              "            title=\"Suggest charts.\"\n",
              "            style=\"display:none;\">\n",
              "\n",
              "<svg xmlns=\"http://www.w3.org/2000/svg\" height=\"24px\"viewBox=\"0 0 24 24\"\n",
              "     width=\"24px\">\n",
              "    <g>\n",
              "        <path d=\"M19 3H5c-1.1 0-2 .9-2 2v14c0 1.1.9 2 2 2h14c1.1 0 2-.9 2-2V5c0-1.1-.9-2-2-2zM9 17H7v-7h2v7zm4 0h-2V7h2v10zm4 0h-2v-4h2v4z\"/>\n",
              "    </g>\n",
              "</svg>\n",
              "  </button>\n",
              "\n",
              "<style>\n",
              "  .colab-df-quickchart {\n",
              "      --bg-color: #E8F0FE;\n",
              "      --fill-color: #1967D2;\n",
              "      --hover-bg-color: #E2EBFA;\n",
              "      --hover-fill-color: #174EA6;\n",
              "      --disabled-fill-color: #AAA;\n",
              "      --disabled-bg-color: #DDD;\n",
              "  }\n",
              "\n",
              "  [theme=dark] .colab-df-quickchart {\n",
              "      --bg-color: #3B4455;\n",
              "      --fill-color: #D2E3FC;\n",
              "      --hover-bg-color: #434B5C;\n",
              "      --hover-fill-color: #FFFFFF;\n",
              "      --disabled-bg-color: #3B4455;\n",
              "      --disabled-fill-color: #666;\n",
              "  }\n",
              "\n",
              "  .colab-df-quickchart {\n",
              "    background-color: var(--bg-color);\n",
              "    border: none;\n",
              "    border-radius: 50%;\n",
              "    cursor: pointer;\n",
              "    display: none;\n",
              "    fill: var(--fill-color);\n",
              "    height: 32px;\n",
              "    padding: 0;\n",
              "    width: 32px;\n",
              "  }\n",
              "\n",
              "  .colab-df-quickchart:hover {\n",
              "    background-color: var(--hover-bg-color);\n",
              "    box-shadow: 0 1px 2px rgba(60, 64, 67, 0.3), 0 1px 3px 1px rgba(60, 64, 67, 0.15);\n",
              "    fill: var(--button-hover-fill-color);\n",
              "  }\n",
              "\n",
              "  .colab-df-quickchart-complete:disabled,\n",
              "  .colab-df-quickchart-complete:disabled:hover {\n",
              "    background-color: var(--disabled-bg-color);\n",
              "    fill: var(--disabled-fill-color);\n",
              "    box-shadow: none;\n",
              "  }\n",
              "\n",
              "  .colab-df-spinner {\n",
              "    border: 2px solid var(--fill-color);\n",
              "    border-color: transparent;\n",
              "    border-bottom-color: var(--fill-color);\n",
              "    animation:\n",
              "      spin 1s steps(1) infinite;\n",
              "  }\n",
              "\n",
              "  @keyframes spin {\n",
              "    0% {\n",
              "      border-color: transparent;\n",
              "      border-bottom-color: var(--fill-color);\n",
              "      border-left-color: var(--fill-color);\n",
              "    }\n",
              "    20% {\n",
              "      border-color: transparent;\n",
              "      border-left-color: var(--fill-color);\n",
              "      border-top-color: var(--fill-color);\n",
              "    }\n",
              "    30% {\n",
              "      border-color: transparent;\n",
              "      border-left-color: var(--fill-color);\n",
              "      border-top-color: var(--fill-color);\n",
              "      border-right-color: var(--fill-color);\n",
              "    }\n",
              "    40% {\n",
              "      border-color: transparent;\n",
              "      border-right-color: var(--fill-color);\n",
              "      border-top-color: var(--fill-color);\n",
              "    }\n",
              "    60% {\n",
              "      border-color: transparent;\n",
              "      border-right-color: var(--fill-color);\n",
              "    }\n",
              "    80% {\n",
              "      border-color: transparent;\n",
              "      border-right-color: var(--fill-color);\n",
              "      border-bottom-color: var(--fill-color);\n",
              "    }\n",
              "    90% {\n",
              "      border-color: transparent;\n",
              "      border-bottom-color: var(--fill-color);\n",
              "    }\n",
              "  }\n",
              "</style>\n",
              "\n",
              "  <script>\n",
              "    async function quickchart(key) {\n",
              "      const quickchartButtonEl =\n",
              "        document.querySelector('#' + key + ' button');\n",
              "      quickchartButtonEl.disabled = true;  // To prevent multiple clicks.\n",
              "      quickchartButtonEl.classList.add('colab-df-spinner');\n",
              "      try {\n",
              "        const charts = await google.colab.kernel.invokeFunction(\n",
              "            'suggestCharts', [key], {});\n",
              "      } catch (error) {\n",
              "        console.error('Error during call to suggestCharts:', error);\n",
              "      }\n",
              "      quickchartButtonEl.classList.remove('colab-df-spinner');\n",
              "      quickchartButtonEl.classList.add('colab-df-quickchart-complete');\n",
              "    }\n",
              "    (() => {\n",
              "      let quickchartButtonEl =\n",
              "        document.querySelector('#df-d3cf2f96-5d19-452c-9b63-e1d438589d39 button');\n",
              "      quickchartButtonEl.style.display =\n",
              "        google.colab.kernel.accessAllowed ? 'block' : 'none';\n",
              "    })();\n",
              "  </script>\n",
              "</div>\n",
              "    </div>\n",
              "  </div>\n"
            ]
          },
          "metadata": {},
          "execution_count": 8
        }
      ]
    },
    {
      "cell_type": "markdown",
      "source": [
        "Dataset 2"
      ],
      "metadata": {
        "id": "fybpnI0lVZQL"
      }
    },
    {
      "cell_type": "code",
      "source": [
        "df2.sample(5)"
      ],
      "metadata": {
        "id": "s-PyKrJ439Y4",
        "colab": {
          "base_uri": "https://localhost:8080/",
          "height": 226
        },
        "outputId": "69d8b4d1-58aa-4fef-c108-c691a0e9116d"
      },
      "execution_count": null,
      "outputs": [
        {
          "output_type": "execute_result",
          "data": {
            "text/plain": [
              "      ID  No_Pation Gender   AGE  Urea     Cr  HbA1c  Chol   TG  HDL  LDL  \\\n",
              "861   21       7523      F  44.0   3.6   59.0    9.1   5.4  2.4  1.1  3.2   \n",
              "665  562        574      M  59.0   5.2   56.0   10.9   4.9  2.1  1.1  2.5   \n",
              "928  103      45645      M  62.0   6.3   82.0    6.5   4.3  3.4  0.8  2.1   \n",
              "904   68       2335      F  55.0   4.5   42.0    9.4   3.8  0.9  1.5  2.0   \n",
              "602  661      34458      M  58.0  10.0  112.0    9.0   4.5  2.9  1.9  1.5   \n",
              "\n",
              "     VLDL   BMI CLASS  \n",
              "861   1.1  23.0     Y  \n",
              "665   0.9  28.0     Y  \n",
              "928   1.5  31.0     Y  \n",
              "904   0.2  30.0     Y  \n",
              "602   2.0  31.0     Y  "
            ],
            "text/html": [
              "\n",
              "  <div id=\"df-050cc836-c366-48e9-b9cd-96841946d4be\" class=\"colab-df-container\">\n",
              "    <div>\n",
              "<style scoped>\n",
              "    .dataframe tbody tr th:only-of-type {\n",
              "        vertical-align: middle;\n",
              "    }\n",
              "\n",
              "    .dataframe tbody tr th {\n",
              "        vertical-align: top;\n",
              "    }\n",
              "\n",
              "    .dataframe thead th {\n",
              "        text-align: right;\n",
              "    }\n",
              "</style>\n",
              "<table border=\"1\" class=\"dataframe\">\n",
              "  <thead>\n",
              "    <tr style=\"text-align: right;\">\n",
              "      <th></th>\n",
              "      <th>ID</th>\n",
              "      <th>No_Pation</th>\n",
              "      <th>Gender</th>\n",
              "      <th>AGE</th>\n",
              "      <th>Urea</th>\n",
              "      <th>Cr</th>\n",
              "      <th>HbA1c</th>\n",
              "      <th>Chol</th>\n",
              "      <th>TG</th>\n",
              "      <th>HDL</th>\n",
              "      <th>LDL</th>\n",
              "      <th>VLDL</th>\n",
              "      <th>BMI</th>\n",
              "      <th>CLASS</th>\n",
              "    </tr>\n",
              "  </thead>\n",
              "  <tbody>\n",
              "    <tr>\n",
              "      <th>861</th>\n",
              "      <td>21</td>\n",
              "      <td>7523</td>\n",
              "      <td>F</td>\n",
              "      <td>44.0</td>\n",
              "      <td>3.6</td>\n",
              "      <td>59.0</td>\n",
              "      <td>9.1</td>\n",
              "      <td>5.4</td>\n",
              "      <td>2.4</td>\n",
              "      <td>1.1</td>\n",
              "      <td>3.2</td>\n",
              "      <td>1.1</td>\n",
              "      <td>23.0</td>\n",
              "      <td>Y</td>\n",
              "    </tr>\n",
              "    <tr>\n",
              "      <th>665</th>\n",
              "      <td>562</td>\n",
              "      <td>574</td>\n",
              "      <td>M</td>\n",
              "      <td>59.0</td>\n",
              "      <td>5.2</td>\n",
              "      <td>56.0</td>\n",
              "      <td>10.9</td>\n",
              "      <td>4.9</td>\n",
              "      <td>2.1</td>\n",
              "      <td>1.1</td>\n",
              "      <td>2.5</td>\n",
              "      <td>0.9</td>\n",
              "      <td>28.0</td>\n",
              "      <td>Y</td>\n",
              "    </tr>\n",
              "    <tr>\n",
              "      <th>928</th>\n",
              "      <td>103</td>\n",
              "      <td>45645</td>\n",
              "      <td>M</td>\n",
              "      <td>62.0</td>\n",
              "      <td>6.3</td>\n",
              "      <td>82.0</td>\n",
              "      <td>6.5</td>\n",
              "      <td>4.3</td>\n",
              "      <td>3.4</td>\n",
              "      <td>0.8</td>\n",
              "      <td>2.1</td>\n",
              "      <td>1.5</td>\n",
              "      <td>31.0</td>\n",
              "      <td>Y</td>\n",
              "    </tr>\n",
              "    <tr>\n",
              "      <th>904</th>\n",
              "      <td>68</td>\n",
              "      <td>2335</td>\n",
              "      <td>F</td>\n",
              "      <td>55.0</td>\n",
              "      <td>4.5</td>\n",
              "      <td>42.0</td>\n",
              "      <td>9.4</td>\n",
              "      <td>3.8</td>\n",
              "      <td>0.9</td>\n",
              "      <td>1.5</td>\n",
              "      <td>2.0</td>\n",
              "      <td>0.2</td>\n",
              "      <td>30.0</td>\n",
              "      <td>Y</td>\n",
              "    </tr>\n",
              "    <tr>\n",
              "      <th>602</th>\n",
              "      <td>661</td>\n",
              "      <td>34458</td>\n",
              "      <td>M</td>\n",
              "      <td>58.0</td>\n",
              "      <td>10.0</td>\n",
              "      <td>112.0</td>\n",
              "      <td>9.0</td>\n",
              "      <td>4.5</td>\n",
              "      <td>2.9</td>\n",
              "      <td>1.9</td>\n",
              "      <td>1.5</td>\n",
              "      <td>2.0</td>\n",
              "      <td>31.0</td>\n",
              "      <td>Y</td>\n",
              "    </tr>\n",
              "  </tbody>\n",
              "</table>\n",
              "</div>\n",
              "    <div class=\"colab-df-buttons\">\n",
              "\n",
              "  <div class=\"colab-df-container\">\n",
              "    <button class=\"colab-df-convert\" onclick=\"convertToInteractive('df-050cc836-c366-48e9-b9cd-96841946d4be')\"\n",
              "            title=\"Convert this dataframe to an interactive table.\"\n",
              "            style=\"display:none;\">\n",
              "\n",
              "  <svg xmlns=\"http://www.w3.org/2000/svg\" height=\"24px\" viewBox=\"0 -960 960 960\">\n",
              "    <path d=\"M120-120v-720h720v720H120Zm60-500h600v-160H180v160Zm220 220h160v-160H400v160Zm0 220h160v-160H400v160ZM180-400h160v-160H180v160Zm440 0h160v-160H620v160ZM180-180h160v-160H180v160Zm440 0h160v-160H620v160Z\"/>\n",
              "  </svg>\n",
              "    </button>\n",
              "\n",
              "  <style>\n",
              "    .colab-df-container {\n",
              "      display:flex;\n",
              "      gap: 12px;\n",
              "    }\n",
              "\n",
              "    .colab-df-convert {\n",
              "      background-color: #E8F0FE;\n",
              "      border: none;\n",
              "      border-radius: 50%;\n",
              "      cursor: pointer;\n",
              "      display: none;\n",
              "      fill: #1967D2;\n",
              "      height: 32px;\n",
              "      padding: 0 0 0 0;\n",
              "      width: 32px;\n",
              "    }\n",
              "\n",
              "    .colab-df-convert:hover {\n",
              "      background-color: #E2EBFA;\n",
              "      box-shadow: 0px 1px 2px rgba(60, 64, 67, 0.3), 0px 1px 3px 1px rgba(60, 64, 67, 0.15);\n",
              "      fill: #174EA6;\n",
              "    }\n",
              "\n",
              "    .colab-df-buttons div {\n",
              "      margin-bottom: 4px;\n",
              "    }\n",
              "\n",
              "    [theme=dark] .colab-df-convert {\n",
              "      background-color: #3B4455;\n",
              "      fill: #D2E3FC;\n",
              "    }\n",
              "\n",
              "    [theme=dark] .colab-df-convert:hover {\n",
              "      background-color: #434B5C;\n",
              "      box-shadow: 0px 1px 3px 1px rgba(0, 0, 0, 0.15);\n",
              "      filter: drop-shadow(0px 1px 2px rgba(0, 0, 0, 0.3));\n",
              "      fill: #FFFFFF;\n",
              "    }\n",
              "  </style>\n",
              "\n",
              "    <script>\n",
              "      const buttonEl =\n",
              "        document.querySelector('#df-050cc836-c366-48e9-b9cd-96841946d4be button.colab-df-convert');\n",
              "      buttonEl.style.display =\n",
              "        google.colab.kernel.accessAllowed ? 'block' : 'none';\n",
              "\n",
              "      async function convertToInteractive(key) {\n",
              "        const element = document.querySelector('#df-050cc836-c366-48e9-b9cd-96841946d4be');\n",
              "        const dataTable =\n",
              "          await google.colab.kernel.invokeFunction('convertToInteractive',\n",
              "                                                    [key], {});\n",
              "        if (!dataTable) return;\n",
              "\n",
              "        const docLinkHtml = 'Like what you see? Visit the ' +\n",
              "          '<a target=\"_blank\" href=https://colab.research.google.com/notebooks/data_table.ipynb>data table notebook</a>'\n",
              "          + ' to learn more about interactive tables.';\n",
              "        element.innerHTML = '';\n",
              "        dataTable['output_type'] = 'display_data';\n",
              "        await google.colab.output.renderOutput(dataTable, element);\n",
              "        const docLink = document.createElement('div');\n",
              "        docLink.innerHTML = docLinkHtml;\n",
              "        element.appendChild(docLink);\n",
              "      }\n",
              "    </script>\n",
              "  </div>\n",
              "\n",
              "\n",
              "<div id=\"df-89d52e5b-6904-4baf-b107-2e0aeb8a70ac\">\n",
              "  <button class=\"colab-df-quickchart\" onclick=\"quickchart('df-89d52e5b-6904-4baf-b107-2e0aeb8a70ac')\"\n",
              "            title=\"Suggest charts.\"\n",
              "            style=\"display:none;\">\n",
              "\n",
              "<svg xmlns=\"http://www.w3.org/2000/svg\" height=\"24px\"viewBox=\"0 0 24 24\"\n",
              "     width=\"24px\">\n",
              "    <g>\n",
              "        <path d=\"M19 3H5c-1.1 0-2 .9-2 2v14c0 1.1.9 2 2 2h14c1.1 0 2-.9 2-2V5c0-1.1-.9-2-2-2zM9 17H7v-7h2v7zm4 0h-2V7h2v10zm4 0h-2v-4h2v4z\"/>\n",
              "    </g>\n",
              "</svg>\n",
              "  </button>\n",
              "\n",
              "<style>\n",
              "  .colab-df-quickchart {\n",
              "      --bg-color: #E8F0FE;\n",
              "      --fill-color: #1967D2;\n",
              "      --hover-bg-color: #E2EBFA;\n",
              "      --hover-fill-color: #174EA6;\n",
              "      --disabled-fill-color: #AAA;\n",
              "      --disabled-bg-color: #DDD;\n",
              "  }\n",
              "\n",
              "  [theme=dark] .colab-df-quickchart {\n",
              "      --bg-color: #3B4455;\n",
              "      --fill-color: #D2E3FC;\n",
              "      --hover-bg-color: #434B5C;\n",
              "      --hover-fill-color: #FFFFFF;\n",
              "      --disabled-bg-color: #3B4455;\n",
              "      --disabled-fill-color: #666;\n",
              "  }\n",
              "\n",
              "  .colab-df-quickchart {\n",
              "    background-color: var(--bg-color);\n",
              "    border: none;\n",
              "    border-radius: 50%;\n",
              "    cursor: pointer;\n",
              "    display: none;\n",
              "    fill: var(--fill-color);\n",
              "    height: 32px;\n",
              "    padding: 0;\n",
              "    width: 32px;\n",
              "  }\n",
              "\n",
              "  .colab-df-quickchart:hover {\n",
              "    background-color: var(--hover-bg-color);\n",
              "    box-shadow: 0 1px 2px rgba(60, 64, 67, 0.3), 0 1px 3px 1px rgba(60, 64, 67, 0.15);\n",
              "    fill: var(--button-hover-fill-color);\n",
              "  }\n",
              "\n",
              "  .colab-df-quickchart-complete:disabled,\n",
              "  .colab-df-quickchart-complete:disabled:hover {\n",
              "    background-color: var(--disabled-bg-color);\n",
              "    fill: var(--disabled-fill-color);\n",
              "    box-shadow: none;\n",
              "  }\n",
              "\n",
              "  .colab-df-spinner {\n",
              "    border: 2px solid var(--fill-color);\n",
              "    border-color: transparent;\n",
              "    border-bottom-color: var(--fill-color);\n",
              "    animation:\n",
              "      spin 1s steps(1) infinite;\n",
              "  }\n",
              "\n",
              "  @keyframes spin {\n",
              "    0% {\n",
              "      border-color: transparent;\n",
              "      border-bottom-color: var(--fill-color);\n",
              "      border-left-color: var(--fill-color);\n",
              "    }\n",
              "    20% {\n",
              "      border-color: transparent;\n",
              "      border-left-color: var(--fill-color);\n",
              "      border-top-color: var(--fill-color);\n",
              "    }\n",
              "    30% {\n",
              "      border-color: transparent;\n",
              "      border-left-color: var(--fill-color);\n",
              "      border-top-color: var(--fill-color);\n",
              "      border-right-color: var(--fill-color);\n",
              "    }\n",
              "    40% {\n",
              "      border-color: transparent;\n",
              "      border-right-color: var(--fill-color);\n",
              "      border-top-color: var(--fill-color);\n",
              "    }\n",
              "    60% {\n",
              "      border-color: transparent;\n",
              "      border-right-color: var(--fill-color);\n",
              "    }\n",
              "    80% {\n",
              "      border-color: transparent;\n",
              "      border-right-color: var(--fill-color);\n",
              "      border-bottom-color: var(--fill-color);\n",
              "    }\n",
              "    90% {\n",
              "      border-color: transparent;\n",
              "      border-bottom-color: var(--fill-color);\n",
              "    }\n",
              "  }\n",
              "</style>\n",
              "\n",
              "  <script>\n",
              "    async function quickchart(key) {\n",
              "      const quickchartButtonEl =\n",
              "        document.querySelector('#' + key + ' button');\n",
              "      quickchartButtonEl.disabled = true;  // To prevent multiple clicks.\n",
              "      quickchartButtonEl.classList.add('colab-df-spinner');\n",
              "      try {\n",
              "        const charts = await google.colab.kernel.invokeFunction(\n",
              "            'suggestCharts', [key], {});\n",
              "      } catch (error) {\n",
              "        console.error('Error during call to suggestCharts:', error);\n",
              "      }\n",
              "      quickchartButtonEl.classList.remove('colab-df-spinner');\n",
              "      quickchartButtonEl.classList.add('colab-df-quickchart-complete');\n",
              "    }\n",
              "    (() => {\n",
              "      let quickchartButtonEl =\n",
              "        document.querySelector('#df-89d52e5b-6904-4baf-b107-2e0aeb8a70ac button');\n",
              "      quickchartButtonEl.style.display =\n",
              "        google.colab.kernel.accessAllowed ? 'block' : 'none';\n",
              "    })();\n",
              "  </script>\n",
              "</div>\n",
              "    </div>\n",
              "  </div>\n"
            ]
          },
          "metadata": {},
          "execution_count": 9
        }
      ]
    },
    {
      "cell_type": "markdown",
      "source": [
        "**Menampilkan tipe atribut data**"
      ],
      "metadata": {
        "id": "YsjUsAnz5ET1"
      }
    },
    {
      "cell_type": "markdown",
      "source": [
        "Dataset 1"
      ],
      "metadata": {
        "id": "fQ4U9GaqVcgC"
      }
    },
    {
      "cell_type": "code",
      "source": [
        "df1.dtypes"
      ],
      "metadata": {
        "colab": {
          "base_uri": "https://localhost:8080/"
        },
        "id": "Y5sOVhqQjJLi",
        "outputId": "051837ec-cbe4-4982-9cd6-8e671201bf10"
      },
      "execution_count": null,
      "outputs": [
        {
          "output_type": "execute_result",
          "data": {
            "text/plain": [
              "Pregnancies                   int64\n",
              "Glucose                       int64\n",
              "BloodPressure                 int64\n",
              "SkinThickness                 int64\n",
              "Insulin                       int64\n",
              "BMI                         float64\n",
              "DiabetesPedigreeFunction    float64\n",
              "Age                           int64\n",
              "Outcome                       int64\n",
              "dtype: object"
            ]
          },
          "metadata": {},
          "execution_count": 10
        }
      ]
    },
    {
      "cell_type": "markdown",
      "source": [
        "Dataset 2"
      ],
      "metadata": {
        "id": "SdnaKyF8VfBR"
      }
    },
    {
      "cell_type": "code",
      "source": [
        "df2.dtypes #menampilkan tipe atribut data"
      ],
      "metadata": {
        "colab": {
          "base_uri": "https://localhost:8080/"
        },
        "id": "GlqTMPUajmQ4",
        "outputId": "0261caea-b1e6-4226-d6a0-f52de9310b1c"
      },
      "execution_count": null,
      "outputs": [
        {
          "output_type": "execute_result",
          "data": {
            "text/plain": [
              "ID             int64\n",
              "No_Pation      int64\n",
              "Gender        object\n",
              "AGE          float64\n",
              "Urea         float64\n",
              "Cr           float64\n",
              "HbA1c        float64\n",
              "Chol         float64\n",
              "TG           float64\n",
              "HDL          float64\n",
              "LDL          float64\n",
              "VLDL         float64\n",
              "BMI          float64\n",
              "CLASS         object\n",
              "dtype: object"
            ]
          },
          "metadata": {},
          "execution_count": 11
        }
      ]
    },
    {
      "cell_type": "markdown",
      "source": [
        "**Menampilkan deskripsi data berupa nilai perhitungan statistik**"
      ],
      "metadata": {
        "id": "0VwoXSyf5QJx"
      }
    },
    {
      "cell_type": "markdown",
      "source": [
        "Dataset 1"
      ],
      "metadata": {
        "id": "-_tpAf07ViaZ"
      }
    },
    {
      "cell_type": "code",
      "source": [
        "df1.describe()"
      ],
      "metadata": {
        "colab": {
          "base_uri": "https://localhost:8080/",
          "height": 320
        },
        "id": "tvaGqnzajtDP",
        "outputId": "1ce54a8f-0abe-453b-ee12-8a0f014333e0"
      },
      "execution_count": null,
      "outputs": [
        {
          "output_type": "execute_result",
          "data": {
            "text/plain": [
              "       Pregnancies     Glucose  BloodPressure  SkinThickness     Insulin  \\\n",
              "count   768.000000  768.000000     768.000000     768.000000  768.000000   \n",
              "mean      3.845052  120.894531      69.105469      20.536458   79.799479   \n",
              "std       3.369578   31.972618      19.355807      15.952218  115.244002   \n",
              "min       0.000000    0.000000       0.000000       0.000000    0.000000   \n",
              "25%       1.000000   99.000000      62.000000       0.000000    0.000000   \n",
              "50%       3.000000  117.000000      72.000000      23.000000   30.500000   \n",
              "75%       6.000000  140.250000      80.000000      32.000000  127.250000   \n",
              "max      17.000000  199.000000     122.000000      99.000000  846.000000   \n",
              "\n",
              "              BMI  DiabetesPedigreeFunction         Age     Outcome  \n",
              "count  768.000000                768.000000  768.000000  768.000000  \n",
              "mean    31.992578                  0.471876   33.240885    0.348958  \n",
              "std      7.884160                  0.331329   11.760232    0.476951  \n",
              "min      0.000000                  0.078000   21.000000    0.000000  \n",
              "25%     27.300000                  0.243750   24.000000    0.000000  \n",
              "50%     32.000000                  0.372500   29.000000    0.000000  \n",
              "75%     36.600000                  0.626250   41.000000    1.000000  \n",
              "max     67.100000                  2.420000   81.000000    1.000000  "
            ],
            "text/html": [
              "\n",
              "  <div id=\"df-6b967187-7b50-43df-b5be-255fa25c880e\" class=\"colab-df-container\">\n",
              "    <div>\n",
              "<style scoped>\n",
              "    .dataframe tbody tr th:only-of-type {\n",
              "        vertical-align: middle;\n",
              "    }\n",
              "\n",
              "    .dataframe tbody tr th {\n",
              "        vertical-align: top;\n",
              "    }\n",
              "\n",
              "    .dataframe thead th {\n",
              "        text-align: right;\n",
              "    }\n",
              "</style>\n",
              "<table border=\"1\" class=\"dataframe\">\n",
              "  <thead>\n",
              "    <tr style=\"text-align: right;\">\n",
              "      <th></th>\n",
              "      <th>Pregnancies</th>\n",
              "      <th>Glucose</th>\n",
              "      <th>BloodPressure</th>\n",
              "      <th>SkinThickness</th>\n",
              "      <th>Insulin</th>\n",
              "      <th>BMI</th>\n",
              "      <th>DiabetesPedigreeFunction</th>\n",
              "      <th>Age</th>\n",
              "      <th>Outcome</th>\n",
              "    </tr>\n",
              "  </thead>\n",
              "  <tbody>\n",
              "    <tr>\n",
              "      <th>count</th>\n",
              "      <td>768.000000</td>\n",
              "      <td>768.000000</td>\n",
              "      <td>768.000000</td>\n",
              "      <td>768.000000</td>\n",
              "      <td>768.000000</td>\n",
              "      <td>768.000000</td>\n",
              "      <td>768.000000</td>\n",
              "      <td>768.000000</td>\n",
              "      <td>768.000000</td>\n",
              "    </tr>\n",
              "    <tr>\n",
              "      <th>mean</th>\n",
              "      <td>3.845052</td>\n",
              "      <td>120.894531</td>\n",
              "      <td>69.105469</td>\n",
              "      <td>20.536458</td>\n",
              "      <td>79.799479</td>\n",
              "      <td>31.992578</td>\n",
              "      <td>0.471876</td>\n",
              "      <td>33.240885</td>\n",
              "      <td>0.348958</td>\n",
              "    </tr>\n",
              "    <tr>\n",
              "      <th>std</th>\n",
              "      <td>3.369578</td>\n",
              "      <td>31.972618</td>\n",
              "      <td>19.355807</td>\n",
              "      <td>15.952218</td>\n",
              "      <td>115.244002</td>\n",
              "      <td>7.884160</td>\n",
              "      <td>0.331329</td>\n",
              "      <td>11.760232</td>\n",
              "      <td>0.476951</td>\n",
              "    </tr>\n",
              "    <tr>\n",
              "      <th>min</th>\n",
              "      <td>0.000000</td>\n",
              "      <td>0.000000</td>\n",
              "      <td>0.000000</td>\n",
              "      <td>0.000000</td>\n",
              "      <td>0.000000</td>\n",
              "      <td>0.000000</td>\n",
              "      <td>0.078000</td>\n",
              "      <td>21.000000</td>\n",
              "      <td>0.000000</td>\n",
              "    </tr>\n",
              "    <tr>\n",
              "      <th>25%</th>\n",
              "      <td>1.000000</td>\n",
              "      <td>99.000000</td>\n",
              "      <td>62.000000</td>\n",
              "      <td>0.000000</td>\n",
              "      <td>0.000000</td>\n",
              "      <td>27.300000</td>\n",
              "      <td>0.243750</td>\n",
              "      <td>24.000000</td>\n",
              "      <td>0.000000</td>\n",
              "    </tr>\n",
              "    <tr>\n",
              "      <th>50%</th>\n",
              "      <td>3.000000</td>\n",
              "      <td>117.000000</td>\n",
              "      <td>72.000000</td>\n",
              "      <td>23.000000</td>\n",
              "      <td>30.500000</td>\n",
              "      <td>32.000000</td>\n",
              "      <td>0.372500</td>\n",
              "      <td>29.000000</td>\n",
              "      <td>0.000000</td>\n",
              "    </tr>\n",
              "    <tr>\n",
              "      <th>75%</th>\n",
              "      <td>6.000000</td>\n",
              "      <td>140.250000</td>\n",
              "      <td>80.000000</td>\n",
              "      <td>32.000000</td>\n",
              "      <td>127.250000</td>\n",
              "      <td>36.600000</td>\n",
              "      <td>0.626250</td>\n",
              "      <td>41.000000</td>\n",
              "      <td>1.000000</td>\n",
              "    </tr>\n",
              "    <tr>\n",
              "      <th>max</th>\n",
              "      <td>17.000000</td>\n",
              "      <td>199.000000</td>\n",
              "      <td>122.000000</td>\n",
              "      <td>99.000000</td>\n",
              "      <td>846.000000</td>\n",
              "      <td>67.100000</td>\n",
              "      <td>2.420000</td>\n",
              "      <td>81.000000</td>\n",
              "      <td>1.000000</td>\n",
              "    </tr>\n",
              "  </tbody>\n",
              "</table>\n",
              "</div>\n",
              "    <div class=\"colab-df-buttons\">\n",
              "\n",
              "  <div class=\"colab-df-container\">\n",
              "    <button class=\"colab-df-convert\" onclick=\"convertToInteractive('df-6b967187-7b50-43df-b5be-255fa25c880e')\"\n",
              "            title=\"Convert this dataframe to an interactive table.\"\n",
              "            style=\"display:none;\">\n",
              "\n",
              "  <svg xmlns=\"http://www.w3.org/2000/svg\" height=\"24px\" viewBox=\"0 -960 960 960\">\n",
              "    <path d=\"M120-120v-720h720v720H120Zm60-500h600v-160H180v160Zm220 220h160v-160H400v160Zm0 220h160v-160H400v160ZM180-400h160v-160H180v160Zm440 0h160v-160H620v160ZM180-180h160v-160H180v160Zm440 0h160v-160H620v160Z\"/>\n",
              "  </svg>\n",
              "    </button>\n",
              "\n",
              "  <style>\n",
              "    .colab-df-container {\n",
              "      display:flex;\n",
              "      gap: 12px;\n",
              "    }\n",
              "\n",
              "    .colab-df-convert {\n",
              "      background-color: #E8F0FE;\n",
              "      border: none;\n",
              "      border-radius: 50%;\n",
              "      cursor: pointer;\n",
              "      display: none;\n",
              "      fill: #1967D2;\n",
              "      height: 32px;\n",
              "      padding: 0 0 0 0;\n",
              "      width: 32px;\n",
              "    }\n",
              "\n",
              "    .colab-df-convert:hover {\n",
              "      background-color: #E2EBFA;\n",
              "      box-shadow: 0px 1px 2px rgba(60, 64, 67, 0.3), 0px 1px 3px 1px rgba(60, 64, 67, 0.15);\n",
              "      fill: #174EA6;\n",
              "    }\n",
              "\n",
              "    .colab-df-buttons div {\n",
              "      margin-bottom: 4px;\n",
              "    }\n",
              "\n",
              "    [theme=dark] .colab-df-convert {\n",
              "      background-color: #3B4455;\n",
              "      fill: #D2E3FC;\n",
              "    }\n",
              "\n",
              "    [theme=dark] .colab-df-convert:hover {\n",
              "      background-color: #434B5C;\n",
              "      box-shadow: 0px 1px 3px 1px rgba(0, 0, 0, 0.15);\n",
              "      filter: drop-shadow(0px 1px 2px rgba(0, 0, 0, 0.3));\n",
              "      fill: #FFFFFF;\n",
              "    }\n",
              "  </style>\n",
              "\n",
              "    <script>\n",
              "      const buttonEl =\n",
              "        document.querySelector('#df-6b967187-7b50-43df-b5be-255fa25c880e button.colab-df-convert');\n",
              "      buttonEl.style.display =\n",
              "        google.colab.kernel.accessAllowed ? 'block' : 'none';\n",
              "\n",
              "      async function convertToInteractive(key) {\n",
              "        const element = document.querySelector('#df-6b967187-7b50-43df-b5be-255fa25c880e');\n",
              "        const dataTable =\n",
              "          await google.colab.kernel.invokeFunction('convertToInteractive',\n",
              "                                                    [key], {});\n",
              "        if (!dataTable) return;\n",
              "\n",
              "        const docLinkHtml = 'Like what you see? Visit the ' +\n",
              "          '<a target=\"_blank\" href=https://colab.research.google.com/notebooks/data_table.ipynb>data table notebook</a>'\n",
              "          + ' to learn more about interactive tables.';\n",
              "        element.innerHTML = '';\n",
              "        dataTable['output_type'] = 'display_data';\n",
              "        await google.colab.output.renderOutput(dataTable, element);\n",
              "        const docLink = document.createElement('div');\n",
              "        docLink.innerHTML = docLinkHtml;\n",
              "        element.appendChild(docLink);\n",
              "      }\n",
              "    </script>\n",
              "  </div>\n",
              "\n",
              "\n",
              "<div id=\"df-fa3f1450-e46e-42f6-8653-14e65db8d12d\">\n",
              "  <button class=\"colab-df-quickchart\" onclick=\"quickchart('df-fa3f1450-e46e-42f6-8653-14e65db8d12d')\"\n",
              "            title=\"Suggest charts.\"\n",
              "            style=\"display:none;\">\n",
              "\n",
              "<svg xmlns=\"http://www.w3.org/2000/svg\" height=\"24px\"viewBox=\"0 0 24 24\"\n",
              "     width=\"24px\">\n",
              "    <g>\n",
              "        <path d=\"M19 3H5c-1.1 0-2 .9-2 2v14c0 1.1.9 2 2 2h14c1.1 0 2-.9 2-2V5c0-1.1-.9-2-2-2zM9 17H7v-7h2v7zm4 0h-2V7h2v10zm4 0h-2v-4h2v4z\"/>\n",
              "    </g>\n",
              "</svg>\n",
              "  </button>\n",
              "\n",
              "<style>\n",
              "  .colab-df-quickchart {\n",
              "      --bg-color: #E8F0FE;\n",
              "      --fill-color: #1967D2;\n",
              "      --hover-bg-color: #E2EBFA;\n",
              "      --hover-fill-color: #174EA6;\n",
              "      --disabled-fill-color: #AAA;\n",
              "      --disabled-bg-color: #DDD;\n",
              "  }\n",
              "\n",
              "  [theme=dark] .colab-df-quickchart {\n",
              "      --bg-color: #3B4455;\n",
              "      --fill-color: #D2E3FC;\n",
              "      --hover-bg-color: #434B5C;\n",
              "      --hover-fill-color: #FFFFFF;\n",
              "      --disabled-bg-color: #3B4455;\n",
              "      --disabled-fill-color: #666;\n",
              "  }\n",
              "\n",
              "  .colab-df-quickchart {\n",
              "    background-color: var(--bg-color);\n",
              "    border: none;\n",
              "    border-radius: 50%;\n",
              "    cursor: pointer;\n",
              "    display: none;\n",
              "    fill: var(--fill-color);\n",
              "    height: 32px;\n",
              "    padding: 0;\n",
              "    width: 32px;\n",
              "  }\n",
              "\n",
              "  .colab-df-quickchart:hover {\n",
              "    background-color: var(--hover-bg-color);\n",
              "    box-shadow: 0 1px 2px rgba(60, 64, 67, 0.3), 0 1px 3px 1px rgba(60, 64, 67, 0.15);\n",
              "    fill: var(--button-hover-fill-color);\n",
              "  }\n",
              "\n",
              "  .colab-df-quickchart-complete:disabled,\n",
              "  .colab-df-quickchart-complete:disabled:hover {\n",
              "    background-color: var(--disabled-bg-color);\n",
              "    fill: var(--disabled-fill-color);\n",
              "    box-shadow: none;\n",
              "  }\n",
              "\n",
              "  .colab-df-spinner {\n",
              "    border: 2px solid var(--fill-color);\n",
              "    border-color: transparent;\n",
              "    border-bottom-color: var(--fill-color);\n",
              "    animation:\n",
              "      spin 1s steps(1) infinite;\n",
              "  }\n",
              "\n",
              "  @keyframes spin {\n",
              "    0% {\n",
              "      border-color: transparent;\n",
              "      border-bottom-color: var(--fill-color);\n",
              "      border-left-color: var(--fill-color);\n",
              "    }\n",
              "    20% {\n",
              "      border-color: transparent;\n",
              "      border-left-color: var(--fill-color);\n",
              "      border-top-color: var(--fill-color);\n",
              "    }\n",
              "    30% {\n",
              "      border-color: transparent;\n",
              "      border-left-color: var(--fill-color);\n",
              "      border-top-color: var(--fill-color);\n",
              "      border-right-color: var(--fill-color);\n",
              "    }\n",
              "    40% {\n",
              "      border-color: transparent;\n",
              "      border-right-color: var(--fill-color);\n",
              "      border-top-color: var(--fill-color);\n",
              "    }\n",
              "    60% {\n",
              "      border-color: transparent;\n",
              "      border-right-color: var(--fill-color);\n",
              "    }\n",
              "    80% {\n",
              "      border-color: transparent;\n",
              "      border-right-color: var(--fill-color);\n",
              "      border-bottom-color: var(--fill-color);\n",
              "    }\n",
              "    90% {\n",
              "      border-color: transparent;\n",
              "      border-bottom-color: var(--fill-color);\n",
              "    }\n",
              "  }\n",
              "</style>\n",
              "\n",
              "  <script>\n",
              "    async function quickchart(key) {\n",
              "      const quickchartButtonEl =\n",
              "        document.querySelector('#' + key + ' button');\n",
              "      quickchartButtonEl.disabled = true;  // To prevent multiple clicks.\n",
              "      quickchartButtonEl.classList.add('colab-df-spinner');\n",
              "      try {\n",
              "        const charts = await google.colab.kernel.invokeFunction(\n",
              "            'suggestCharts', [key], {});\n",
              "      } catch (error) {\n",
              "        console.error('Error during call to suggestCharts:', error);\n",
              "      }\n",
              "      quickchartButtonEl.classList.remove('colab-df-spinner');\n",
              "      quickchartButtonEl.classList.add('colab-df-quickchart-complete');\n",
              "    }\n",
              "    (() => {\n",
              "      let quickchartButtonEl =\n",
              "        document.querySelector('#df-fa3f1450-e46e-42f6-8653-14e65db8d12d button');\n",
              "      quickchartButtonEl.style.display =\n",
              "        google.colab.kernel.accessAllowed ? 'block' : 'none';\n",
              "    })();\n",
              "  </script>\n",
              "</div>\n",
              "    </div>\n",
              "  </div>\n"
            ]
          },
          "metadata": {},
          "execution_count": 12
        }
      ]
    },
    {
      "cell_type": "markdown",
      "source": [
        "Dataset 2"
      ],
      "metadata": {
        "id": "TVi5qF-eVjw3"
      }
    },
    {
      "cell_type": "code",
      "source": [
        "df2.describe()"
      ],
      "metadata": {
        "colab": {
          "base_uri": "https://localhost:8080/",
          "height": 320
        },
        "id": "Q2S03e4Hj6UY",
        "outputId": "00e0c70e-8956-41a6-9288-1fb3db9caed1"
      },
      "execution_count": null,
      "outputs": [
        {
          "output_type": "execute_result",
          "data": {
            "text/plain": [
              "                ID     No_Pation          AGE         Urea           Cr  \\\n",
              "count  1009.000000  1.009000e+03  1008.000000  1008.000000  1007.000000   \n",
              "mean    339.161546  2.717448e+05    53.620040     5.131094    68.973188   \n",
              "std     239.738169  3.365681e+06     8.740975     2.931136    59.813297   \n",
              "min       1.000000  1.230000e+02    25.000000     0.500000     6.000000   \n",
              "25%     127.000000  2.406500e+04    51.000000     3.700000    48.000000   \n",
              "50%     296.000000  3.439900e+04    55.000000     4.600000    60.000000   \n",
              "75%     548.000000  4.539000e+04    59.000000     5.700000    73.000000   \n",
              "max     800.000000  7.543566e+07    79.000000    38.900000   800.000000   \n",
              "\n",
              "             HbA1c         Chol           TG          HDL          LDL  \\\n",
              "count  1006.000000  1007.000000  1007.000000  1008.000000  1007.000000   \n",
              "mean      8.284155     4.863873     2.348769     1.204216     2.610119   \n",
              "std       2.533576     1.297326     1.397487     0.658158     1.116095   \n",
              "min       0.900000     0.000000     0.300000     0.200000     0.300000   \n",
              "25%       6.500000     4.000000     1.500000     0.900000     1.800000   \n",
              "50%       8.000000     4.800000     2.000000     1.100000     2.500000   \n",
              "75%      10.200000     5.600000     2.900000     1.300000     3.300000   \n",
              "max      16.000000    10.300000    13.800000     9.900000     9.900000   \n",
              "\n",
              "              VLDL          BMI  \n",
              "count  1008.000000  1009.000000  \n",
              "mean      1.850595    29.589911  \n",
              "std       3.649859     4.946246  \n",
              "min       0.100000    19.000000  \n",
              "25%       0.700000    26.000000  \n",
              "50%       0.900000    30.000000  \n",
              "75%       1.500000    33.000000  \n",
              "max      35.000000    47.750000  "
            ],
            "text/html": [
              "\n",
              "  <div id=\"df-06e9b4b0-a10c-41a1-a8a8-6bf203b8db71\" class=\"colab-df-container\">\n",
              "    <div>\n",
              "<style scoped>\n",
              "    .dataframe tbody tr th:only-of-type {\n",
              "        vertical-align: middle;\n",
              "    }\n",
              "\n",
              "    .dataframe tbody tr th {\n",
              "        vertical-align: top;\n",
              "    }\n",
              "\n",
              "    .dataframe thead th {\n",
              "        text-align: right;\n",
              "    }\n",
              "</style>\n",
              "<table border=\"1\" class=\"dataframe\">\n",
              "  <thead>\n",
              "    <tr style=\"text-align: right;\">\n",
              "      <th></th>\n",
              "      <th>ID</th>\n",
              "      <th>No_Pation</th>\n",
              "      <th>AGE</th>\n",
              "      <th>Urea</th>\n",
              "      <th>Cr</th>\n",
              "      <th>HbA1c</th>\n",
              "      <th>Chol</th>\n",
              "      <th>TG</th>\n",
              "      <th>HDL</th>\n",
              "      <th>LDL</th>\n",
              "      <th>VLDL</th>\n",
              "      <th>BMI</th>\n",
              "    </tr>\n",
              "  </thead>\n",
              "  <tbody>\n",
              "    <tr>\n",
              "      <th>count</th>\n",
              "      <td>1009.000000</td>\n",
              "      <td>1.009000e+03</td>\n",
              "      <td>1008.000000</td>\n",
              "      <td>1008.000000</td>\n",
              "      <td>1007.000000</td>\n",
              "      <td>1006.000000</td>\n",
              "      <td>1007.000000</td>\n",
              "      <td>1007.000000</td>\n",
              "      <td>1008.000000</td>\n",
              "      <td>1007.000000</td>\n",
              "      <td>1008.000000</td>\n",
              "      <td>1009.000000</td>\n",
              "    </tr>\n",
              "    <tr>\n",
              "      <th>mean</th>\n",
              "      <td>339.161546</td>\n",
              "      <td>2.717448e+05</td>\n",
              "      <td>53.620040</td>\n",
              "      <td>5.131094</td>\n",
              "      <td>68.973188</td>\n",
              "      <td>8.284155</td>\n",
              "      <td>4.863873</td>\n",
              "      <td>2.348769</td>\n",
              "      <td>1.204216</td>\n",
              "      <td>2.610119</td>\n",
              "      <td>1.850595</td>\n",
              "      <td>29.589911</td>\n",
              "    </tr>\n",
              "    <tr>\n",
              "      <th>std</th>\n",
              "      <td>239.738169</td>\n",
              "      <td>3.365681e+06</td>\n",
              "      <td>8.740975</td>\n",
              "      <td>2.931136</td>\n",
              "      <td>59.813297</td>\n",
              "      <td>2.533576</td>\n",
              "      <td>1.297326</td>\n",
              "      <td>1.397487</td>\n",
              "      <td>0.658158</td>\n",
              "      <td>1.116095</td>\n",
              "      <td>3.649859</td>\n",
              "      <td>4.946246</td>\n",
              "    </tr>\n",
              "    <tr>\n",
              "      <th>min</th>\n",
              "      <td>1.000000</td>\n",
              "      <td>1.230000e+02</td>\n",
              "      <td>25.000000</td>\n",
              "      <td>0.500000</td>\n",
              "      <td>6.000000</td>\n",
              "      <td>0.900000</td>\n",
              "      <td>0.000000</td>\n",
              "      <td>0.300000</td>\n",
              "      <td>0.200000</td>\n",
              "      <td>0.300000</td>\n",
              "      <td>0.100000</td>\n",
              "      <td>19.000000</td>\n",
              "    </tr>\n",
              "    <tr>\n",
              "      <th>25%</th>\n",
              "      <td>127.000000</td>\n",
              "      <td>2.406500e+04</td>\n",
              "      <td>51.000000</td>\n",
              "      <td>3.700000</td>\n",
              "      <td>48.000000</td>\n",
              "      <td>6.500000</td>\n",
              "      <td>4.000000</td>\n",
              "      <td>1.500000</td>\n",
              "      <td>0.900000</td>\n",
              "      <td>1.800000</td>\n",
              "      <td>0.700000</td>\n",
              "      <td>26.000000</td>\n",
              "    </tr>\n",
              "    <tr>\n",
              "      <th>50%</th>\n",
              "      <td>296.000000</td>\n",
              "      <td>3.439900e+04</td>\n",
              "      <td>55.000000</td>\n",
              "      <td>4.600000</td>\n",
              "      <td>60.000000</td>\n",
              "      <td>8.000000</td>\n",
              "      <td>4.800000</td>\n",
              "      <td>2.000000</td>\n",
              "      <td>1.100000</td>\n",
              "      <td>2.500000</td>\n",
              "      <td>0.900000</td>\n",
              "      <td>30.000000</td>\n",
              "    </tr>\n",
              "    <tr>\n",
              "      <th>75%</th>\n",
              "      <td>548.000000</td>\n",
              "      <td>4.539000e+04</td>\n",
              "      <td>59.000000</td>\n",
              "      <td>5.700000</td>\n",
              "      <td>73.000000</td>\n",
              "      <td>10.200000</td>\n",
              "      <td>5.600000</td>\n",
              "      <td>2.900000</td>\n",
              "      <td>1.300000</td>\n",
              "      <td>3.300000</td>\n",
              "      <td>1.500000</td>\n",
              "      <td>33.000000</td>\n",
              "    </tr>\n",
              "    <tr>\n",
              "      <th>max</th>\n",
              "      <td>800.000000</td>\n",
              "      <td>7.543566e+07</td>\n",
              "      <td>79.000000</td>\n",
              "      <td>38.900000</td>\n",
              "      <td>800.000000</td>\n",
              "      <td>16.000000</td>\n",
              "      <td>10.300000</td>\n",
              "      <td>13.800000</td>\n",
              "      <td>9.900000</td>\n",
              "      <td>9.900000</td>\n",
              "      <td>35.000000</td>\n",
              "      <td>47.750000</td>\n",
              "    </tr>\n",
              "  </tbody>\n",
              "</table>\n",
              "</div>\n",
              "    <div class=\"colab-df-buttons\">\n",
              "\n",
              "  <div class=\"colab-df-container\">\n",
              "    <button class=\"colab-df-convert\" onclick=\"convertToInteractive('df-06e9b4b0-a10c-41a1-a8a8-6bf203b8db71')\"\n",
              "            title=\"Convert this dataframe to an interactive table.\"\n",
              "            style=\"display:none;\">\n",
              "\n",
              "  <svg xmlns=\"http://www.w3.org/2000/svg\" height=\"24px\" viewBox=\"0 -960 960 960\">\n",
              "    <path d=\"M120-120v-720h720v720H120Zm60-500h600v-160H180v160Zm220 220h160v-160H400v160Zm0 220h160v-160H400v160ZM180-400h160v-160H180v160Zm440 0h160v-160H620v160ZM180-180h160v-160H180v160Zm440 0h160v-160H620v160Z\"/>\n",
              "  </svg>\n",
              "    </button>\n",
              "\n",
              "  <style>\n",
              "    .colab-df-container {\n",
              "      display:flex;\n",
              "      gap: 12px;\n",
              "    }\n",
              "\n",
              "    .colab-df-convert {\n",
              "      background-color: #E8F0FE;\n",
              "      border: none;\n",
              "      border-radius: 50%;\n",
              "      cursor: pointer;\n",
              "      display: none;\n",
              "      fill: #1967D2;\n",
              "      height: 32px;\n",
              "      padding: 0 0 0 0;\n",
              "      width: 32px;\n",
              "    }\n",
              "\n",
              "    .colab-df-convert:hover {\n",
              "      background-color: #E2EBFA;\n",
              "      box-shadow: 0px 1px 2px rgba(60, 64, 67, 0.3), 0px 1px 3px 1px rgba(60, 64, 67, 0.15);\n",
              "      fill: #174EA6;\n",
              "    }\n",
              "\n",
              "    .colab-df-buttons div {\n",
              "      margin-bottom: 4px;\n",
              "    }\n",
              "\n",
              "    [theme=dark] .colab-df-convert {\n",
              "      background-color: #3B4455;\n",
              "      fill: #D2E3FC;\n",
              "    }\n",
              "\n",
              "    [theme=dark] .colab-df-convert:hover {\n",
              "      background-color: #434B5C;\n",
              "      box-shadow: 0px 1px 3px 1px rgba(0, 0, 0, 0.15);\n",
              "      filter: drop-shadow(0px 1px 2px rgba(0, 0, 0, 0.3));\n",
              "      fill: #FFFFFF;\n",
              "    }\n",
              "  </style>\n",
              "\n",
              "    <script>\n",
              "      const buttonEl =\n",
              "        document.querySelector('#df-06e9b4b0-a10c-41a1-a8a8-6bf203b8db71 button.colab-df-convert');\n",
              "      buttonEl.style.display =\n",
              "        google.colab.kernel.accessAllowed ? 'block' : 'none';\n",
              "\n",
              "      async function convertToInteractive(key) {\n",
              "        const element = document.querySelector('#df-06e9b4b0-a10c-41a1-a8a8-6bf203b8db71');\n",
              "        const dataTable =\n",
              "          await google.colab.kernel.invokeFunction('convertToInteractive',\n",
              "                                                    [key], {});\n",
              "        if (!dataTable) return;\n",
              "\n",
              "        const docLinkHtml = 'Like what you see? Visit the ' +\n",
              "          '<a target=\"_blank\" href=https://colab.research.google.com/notebooks/data_table.ipynb>data table notebook</a>'\n",
              "          + ' to learn more about interactive tables.';\n",
              "        element.innerHTML = '';\n",
              "        dataTable['output_type'] = 'display_data';\n",
              "        await google.colab.output.renderOutput(dataTable, element);\n",
              "        const docLink = document.createElement('div');\n",
              "        docLink.innerHTML = docLinkHtml;\n",
              "        element.appendChild(docLink);\n",
              "      }\n",
              "    </script>\n",
              "  </div>\n",
              "\n",
              "\n",
              "<div id=\"df-6c41657e-0215-430c-9987-d72b537dbbc4\">\n",
              "  <button class=\"colab-df-quickchart\" onclick=\"quickchart('df-6c41657e-0215-430c-9987-d72b537dbbc4')\"\n",
              "            title=\"Suggest charts.\"\n",
              "            style=\"display:none;\">\n",
              "\n",
              "<svg xmlns=\"http://www.w3.org/2000/svg\" height=\"24px\"viewBox=\"0 0 24 24\"\n",
              "     width=\"24px\">\n",
              "    <g>\n",
              "        <path d=\"M19 3H5c-1.1 0-2 .9-2 2v14c0 1.1.9 2 2 2h14c1.1 0 2-.9 2-2V5c0-1.1-.9-2-2-2zM9 17H7v-7h2v7zm4 0h-2V7h2v10zm4 0h-2v-4h2v4z\"/>\n",
              "    </g>\n",
              "</svg>\n",
              "  </button>\n",
              "\n",
              "<style>\n",
              "  .colab-df-quickchart {\n",
              "      --bg-color: #E8F0FE;\n",
              "      --fill-color: #1967D2;\n",
              "      --hover-bg-color: #E2EBFA;\n",
              "      --hover-fill-color: #174EA6;\n",
              "      --disabled-fill-color: #AAA;\n",
              "      --disabled-bg-color: #DDD;\n",
              "  }\n",
              "\n",
              "  [theme=dark] .colab-df-quickchart {\n",
              "      --bg-color: #3B4455;\n",
              "      --fill-color: #D2E3FC;\n",
              "      --hover-bg-color: #434B5C;\n",
              "      --hover-fill-color: #FFFFFF;\n",
              "      --disabled-bg-color: #3B4455;\n",
              "      --disabled-fill-color: #666;\n",
              "  }\n",
              "\n",
              "  .colab-df-quickchart {\n",
              "    background-color: var(--bg-color);\n",
              "    border: none;\n",
              "    border-radius: 50%;\n",
              "    cursor: pointer;\n",
              "    display: none;\n",
              "    fill: var(--fill-color);\n",
              "    height: 32px;\n",
              "    padding: 0;\n",
              "    width: 32px;\n",
              "  }\n",
              "\n",
              "  .colab-df-quickchart:hover {\n",
              "    background-color: var(--hover-bg-color);\n",
              "    box-shadow: 0 1px 2px rgba(60, 64, 67, 0.3), 0 1px 3px 1px rgba(60, 64, 67, 0.15);\n",
              "    fill: var(--button-hover-fill-color);\n",
              "  }\n",
              "\n",
              "  .colab-df-quickchart-complete:disabled,\n",
              "  .colab-df-quickchart-complete:disabled:hover {\n",
              "    background-color: var(--disabled-bg-color);\n",
              "    fill: var(--disabled-fill-color);\n",
              "    box-shadow: none;\n",
              "  }\n",
              "\n",
              "  .colab-df-spinner {\n",
              "    border: 2px solid var(--fill-color);\n",
              "    border-color: transparent;\n",
              "    border-bottom-color: var(--fill-color);\n",
              "    animation:\n",
              "      spin 1s steps(1) infinite;\n",
              "  }\n",
              "\n",
              "  @keyframes spin {\n",
              "    0% {\n",
              "      border-color: transparent;\n",
              "      border-bottom-color: var(--fill-color);\n",
              "      border-left-color: var(--fill-color);\n",
              "    }\n",
              "    20% {\n",
              "      border-color: transparent;\n",
              "      border-left-color: var(--fill-color);\n",
              "      border-top-color: var(--fill-color);\n",
              "    }\n",
              "    30% {\n",
              "      border-color: transparent;\n",
              "      border-left-color: var(--fill-color);\n",
              "      border-top-color: var(--fill-color);\n",
              "      border-right-color: var(--fill-color);\n",
              "    }\n",
              "    40% {\n",
              "      border-color: transparent;\n",
              "      border-right-color: var(--fill-color);\n",
              "      border-top-color: var(--fill-color);\n",
              "    }\n",
              "    60% {\n",
              "      border-color: transparent;\n",
              "      border-right-color: var(--fill-color);\n",
              "    }\n",
              "    80% {\n",
              "      border-color: transparent;\n",
              "      border-right-color: var(--fill-color);\n",
              "      border-bottom-color: var(--fill-color);\n",
              "    }\n",
              "    90% {\n",
              "      border-color: transparent;\n",
              "      border-bottom-color: var(--fill-color);\n",
              "    }\n",
              "  }\n",
              "</style>\n",
              "\n",
              "  <script>\n",
              "    async function quickchart(key) {\n",
              "      const quickchartButtonEl =\n",
              "        document.querySelector('#' + key + ' button');\n",
              "      quickchartButtonEl.disabled = true;  // To prevent multiple clicks.\n",
              "      quickchartButtonEl.classList.add('colab-df-spinner');\n",
              "      try {\n",
              "        const charts = await google.colab.kernel.invokeFunction(\n",
              "            'suggestCharts', [key], {});\n",
              "      } catch (error) {\n",
              "        console.error('Error during call to suggestCharts:', error);\n",
              "      }\n",
              "      quickchartButtonEl.classList.remove('colab-df-spinner');\n",
              "      quickchartButtonEl.classList.add('colab-df-quickchart-complete');\n",
              "    }\n",
              "    (() => {\n",
              "      let quickchartButtonEl =\n",
              "        document.querySelector('#df-6c41657e-0215-430c-9987-d72b537dbbc4 button');\n",
              "      quickchartButtonEl.style.display =\n",
              "        google.colab.kernel.accessAllowed ? 'block' : 'none';\n",
              "    })();\n",
              "  </script>\n",
              "</div>\n",
              "    </div>\n",
              "  </div>\n"
            ]
          },
          "metadata": {},
          "execution_count": 13
        }
      ]
    },
    {
      "cell_type": "markdown",
      "source": [
        "**Menampilkan deskripsi data berupa nilai perhitungan statistik pada atribut tertentu**"
      ],
      "metadata": {
        "id": "Sut6Re9T5cQo"
      }
    },
    {
      "cell_type": "markdown",
      "source": [
        "Dataset 1"
      ],
      "metadata": {
        "id": "y5NZ5W9wVnt2"
      }
    },
    {
      "cell_type": "code",
      "source": [
        "df1[\"Pregnancies\"].describe() #Menampilkan deskripsi data berupa nilai perhitungan statistik pada atribut pregnancies"
      ],
      "metadata": {
        "colab": {
          "base_uri": "https://localhost:8080/"
        },
        "id": "ud1EPiPwj_YZ",
        "outputId": "678d35d8-cee0-4976-a71e-8960c4818c9a"
      },
      "execution_count": null,
      "outputs": [
        {
          "output_type": "execute_result",
          "data": {
            "text/plain": [
              "count    768.000000\n",
              "mean       3.845052\n",
              "std        3.369578\n",
              "min        0.000000\n",
              "25%        1.000000\n",
              "50%        3.000000\n",
              "75%        6.000000\n",
              "max       17.000000\n",
              "Name: Pregnancies, dtype: float64"
            ]
          },
          "metadata": {},
          "execution_count": 14
        }
      ]
    },
    {
      "cell_type": "markdown",
      "source": [
        "Dataset 2"
      ],
      "metadata": {
        "id": "n-9SB30IVvxS"
      }
    },
    {
      "cell_type": "code",
      "source": [
        "df2[\"ID\"].describe() #menampilkan deskripsi data berupa nilai perhitungan statistik pada atribut pregnancies"
      ],
      "metadata": {
        "colab": {
          "base_uri": "https://localhost:8080/"
        },
        "id": "HtJLX-czk3wp",
        "outputId": "bc731df6-c9da-4f5a-d899-066ad879ddd7"
      },
      "execution_count": null,
      "outputs": [
        {
          "output_type": "execute_result",
          "data": {
            "text/plain": [
              "count    1009.000000\n",
              "mean      339.161546\n",
              "std       239.738169\n",
              "min         1.000000\n",
              "25%       127.000000\n",
              "50%       296.000000\n",
              "75%       548.000000\n",
              "max       800.000000\n",
              "Name: ID, dtype: float64"
            ]
          },
          "metadata": {},
          "execution_count": 15
        }
      ]
    },
    {
      "cell_type": "markdown",
      "source": [
        "**Menampilkan komposisi data dari atribut tertentu**"
      ],
      "metadata": {
        "id": "ludLmJVB6LuV"
      }
    },
    {
      "cell_type": "markdown",
      "source": [
        "Dataset 1"
      ],
      "metadata": {
        "id": "KqS4KuOIVpOO"
      }
    },
    {
      "cell_type": "code",
      "source": [
        "df1[\"Pregnancies\"].value_counts() #Menampilkan komposisi data dari atribut pregnancies"
      ],
      "metadata": {
        "colab": {
          "base_uri": "https://localhost:8080/"
        },
        "id": "3hqa0Gz4lGQ2",
        "outputId": "5d6d2db1-1175-4d14-942b-cfe89f6eb82a"
      },
      "execution_count": null,
      "outputs": [
        {
          "output_type": "execute_result",
          "data": {
            "text/plain": [
              "1     135\n",
              "0     111\n",
              "2     103\n",
              "3      75\n",
              "4      68\n",
              "5      57\n",
              "6      50\n",
              "7      45\n",
              "8      38\n",
              "9      28\n",
              "10     24\n",
              "11     11\n",
              "13     10\n",
              "12      9\n",
              "14      2\n",
              "15      1\n",
              "17      1\n",
              "Name: Pregnancies, dtype: int64"
            ]
          },
          "metadata": {},
          "execution_count": 16
        }
      ]
    },
    {
      "cell_type": "markdown",
      "source": [
        "Dataset 2"
      ],
      "metadata": {
        "id": "0-iDHl8sVzPk"
      }
    },
    {
      "cell_type": "code",
      "source": [
        "df2[\"AGE\"].value_counts() #Menampilkan komposisi data dari atribut \"AGE\""
      ],
      "metadata": {
        "colab": {
          "base_uri": "https://localhost:8080/"
        },
        "id": "5JN7Jy-4maJN",
        "outputId": "504ac33d-b9cd-4fe6-c4bf-35b3b539ae81"
      },
      "execution_count": null,
      "outputs": [
        {
          "output_type": "execute_result",
          "data": {
            "text/plain": [
              "55.0    184\n",
              "60.0     89\n",
              "54.0     84\n",
              "51.0     51\n",
              "61.0     49\n",
              "56.0     48\n",
              "52.0     44\n",
              "50.0     43\n",
              "59.0     32\n",
              "57.0     32\n",
              "58.0     31\n",
              "63.0     29\n",
              "53.0     25\n",
              "30.0     20\n",
              "49.0     19\n",
              "33.0     16\n",
              "45.0     16\n",
              "44.0     13\n",
              "40.0     13\n",
              "66.0     11\n",
              "35.0     11\n",
              "48.0     10\n",
              "42.0     10\n",
              "47.0     10\n",
              "31.0      9\n",
              "39.0      9\n",
              "62.0      9\n",
              "68.0      8\n",
              "43.0      8\n",
              "73.0      8\n",
              "64.0      8\n",
              "67.0      6\n",
              "38.0      6\n",
              "69.0      6\n",
              "34.0      5\n",
              "41.0      5\n",
              "76.0      4\n",
              "77.0      4\n",
              "36.0      4\n",
              "75.0      3\n",
              "28.0      3\n",
              "46.0      3\n",
              "26.0      2\n",
              "70.0      2\n",
              "65.0      2\n",
              "25.0      1\n",
              "79.0      1\n",
              "32.0      1\n",
              "71.0      1\n",
              "Name: AGE, dtype: int64"
            ]
          },
          "metadata": {},
          "execution_count": 17
        }
      ]
    },
    {
      "cell_type": "markdown",
      "source": [
        "##**Analisis :**\n",
        "Pada dua dataset tersebut terdapat perbedaan karakteristik sebagai berikut :\n",
        "**Dataset 1**\n",
        "- Terdiri dari 768 baris dan 9 kolom\n",
        "- Terdapat kolom (atribut) Pregnancies, Glucose, BloodPressure, SkinThickness, Insulin, BMI, DiabetesPedigreeFunction, Age, dan Outcome\n",
        "- Tipe data dari atribut BMI dan DiabetesPedigreeFunction adalah float 64 sedangkan atribut lainnya bertipe int64\n",
        "\n",
        "**Dataset 2**\n",
        "- Terdiri dari 1009 baris dan 14 kolom\n",
        "- Terdapat kolom ID, No_Pation Gender, AGE, Urea, Cr, HbA1c, Chol, TG, HDL, LDL, VLDL, BMI, CLASS\n",
        "- Tipe data dari atribut ID dan No_Pation adalah int64 dan atribut CLASS adalah objeck. Sedangkan atribut lainnya pada dataset memiliki tipe atribut float64"
      ],
      "metadata": {
        "id": "B-Unx4K7Tkn6"
      }
    },
    {
      "cell_type": "markdown",
      "source": [
        "##**b. Lakukan verifikasi data pada semua kolom/atribut masing-masing dari kedua dataset yaitu dataset diabetes_RS1(9 kolom) dan diabetes_RS2(14 kolom) :**\n",
        "1. Identifikasi nilai yang hilang (missing value). \\\n",
        "2. Identifikasi duplikat data. \\\n",
        "3. Identifikasi pencilan (outlier). \\\n",
        "4. Identifikasi data tidak berimbang(Imbalanced Data)"
      ],
      "metadata": {
        "id": "kXPLtz8GmnNp"
      }
    },
    {
      "cell_type": "markdown",
      "source": [
        "**Identifikasi missing value**"
      ],
      "metadata": {
        "id": "a9KhHQ_i7gDS"
      }
    },
    {
      "cell_type": "markdown",
      "source": [
        "Dataset 1"
      ],
      "metadata": {
        "id": "Rthf-bcR9_rc"
      }
    },
    {
      "cell_type": "code",
      "source": [
        "df1.isnull().sum() #pada dataset 1"
      ],
      "metadata": {
        "colab": {
          "base_uri": "https://localhost:8080/"
        },
        "id": "QFRAvarGmrqg",
        "outputId": "c781a97d-f5c6-4b9e-c597-295d51d5fbc5"
      },
      "execution_count": null,
      "outputs": [
        {
          "output_type": "execute_result",
          "data": {
            "text/plain": [
              "Pregnancies                 0\n",
              "Glucose                     0\n",
              "BloodPressure               0\n",
              "SkinThickness               0\n",
              "Insulin                     0\n",
              "BMI                         0\n",
              "DiabetesPedigreeFunction    0\n",
              "Age                         0\n",
              "Outcome                     0\n",
              "dtype: int64"
            ]
          },
          "metadata": {},
          "execution_count": 18
        }
      ]
    },
    {
      "cell_type": "markdown",
      "source": [
        "Dataset 2"
      ],
      "metadata": {
        "id": "tIBs39zx-CTY"
      }
    },
    {
      "cell_type": "code",
      "source": [
        "df2.isnull().sum() #pada dataset 2"
      ],
      "metadata": {
        "colab": {
          "base_uri": "https://localhost:8080/"
        },
        "id": "sJPdrjYlnHQb",
        "outputId": "c5ce5e2e-6193-4eac-93d9-9ab3590fc137"
      },
      "execution_count": null,
      "outputs": [
        {
          "output_type": "execute_result",
          "data": {
            "text/plain": [
              "ID           0\n",
              "No_Pation    0\n",
              "Gender       0\n",
              "AGE          1\n",
              "Urea         1\n",
              "Cr           2\n",
              "HbA1c        3\n",
              "Chol         2\n",
              "TG           2\n",
              "HDL          1\n",
              "LDL          2\n",
              "VLDL         1\n",
              "BMI          0\n",
              "CLASS        0\n",
              "dtype: int64"
            ]
          },
          "metadata": {},
          "execution_count": 19
        }
      ]
    },
    {
      "cell_type": "markdown",
      "source": [
        "Dari hasil diatas dapat dilihat bahwa pada dataset 1 tidak ada missing value. Sedangkan pada dataset 2 terdapat missing value pada atribut AGE, Urea, Cr, HbA1c, Chol, TG,HDL,LDL,VLDL,BMI, dan CLASS"
      ],
      "metadata": {
        "id": "lefwbltCWLOq"
      }
    },
    {
      "cell_type": "markdown",
      "source": [
        "**Identifikasi Data Pencilan**"
      ],
      "metadata": {
        "id": "IEfcPcV17tj_"
      }
    },
    {
      "cell_type": "markdown",
      "source": [
        "**Cek korelasi secara keseluruhan**"
      ],
      "metadata": {
        "id": "CImoie9WWn-2"
      }
    },
    {
      "cell_type": "markdown",
      "source": [
        "Dataset 1"
      ],
      "metadata": {
        "id": "pzDgHvqaWucW"
      }
    },
    {
      "cell_type": "code",
      "source": [
        "korelasi1 = df1.corr()\n",
        "korelasi1"
      ],
      "metadata": {
        "id": "bvpFXqAmWv1r",
        "colab": {
          "base_uri": "https://localhost:8080/",
          "height": 352
        },
        "outputId": "a8ac80c3-8e61-41f2-a56f-f5100f589993"
      },
      "execution_count": null,
      "outputs": [
        {
          "output_type": "execute_result",
          "data": {
            "text/plain": [
              "                          Pregnancies   Glucose  BloodPressure  SkinThickness  \\\n",
              "Pregnancies                  1.000000  0.129459       0.141282      -0.081672   \n",
              "Glucose                      0.129459  1.000000       0.152590       0.057328   \n",
              "BloodPressure                0.141282  0.152590       1.000000       0.207371   \n",
              "SkinThickness               -0.081672  0.057328       0.207371       1.000000   \n",
              "Insulin                     -0.073535  0.331357       0.088933       0.436783   \n",
              "BMI                          0.017683  0.221071       0.281805       0.392573   \n",
              "DiabetesPedigreeFunction    -0.033523  0.137337       0.041265       0.183928   \n",
              "Age                          0.544341  0.263514       0.239528      -0.113970   \n",
              "Outcome                      0.221898  0.466581       0.065068       0.074752   \n",
              "\n",
              "                           Insulin       BMI  DiabetesPedigreeFunction  \\\n",
              "Pregnancies              -0.073535  0.017683                 -0.033523   \n",
              "Glucose                   0.331357  0.221071                  0.137337   \n",
              "BloodPressure             0.088933  0.281805                  0.041265   \n",
              "SkinThickness             0.436783  0.392573                  0.183928   \n",
              "Insulin                   1.000000  0.197859                  0.185071   \n",
              "BMI                       0.197859  1.000000                  0.140647   \n",
              "DiabetesPedigreeFunction  0.185071  0.140647                  1.000000   \n",
              "Age                      -0.042163  0.036242                  0.033561   \n",
              "Outcome                   0.130548  0.292695                  0.173844   \n",
              "\n",
              "                               Age   Outcome  \n",
              "Pregnancies               0.544341  0.221898  \n",
              "Glucose                   0.263514  0.466581  \n",
              "BloodPressure             0.239528  0.065068  \n",
              "SkinThickness            -0.113970  0.074752  \n",
              "Insulin                  -0.042163  0.130548  \n",
              "BMI                       0.036242  0.292695  \n",
              "DiabetesPedigreeFunction  0.033561  0.173844  \n",
              "Age                       1.000000  0.238356  \n",
              "Outcome                   0.238356  1.000000  "
            ],
            "text/html": [
              "\n",
              "  <div id=\"df-c28d9beb-9dc0-4b64-a204-3d7801f9e1c7\" class=\"colab-df-container\">\n",
              "    <div>\n",
              "<style scoped>\n",
              "    .dataframe tbody tr th:only-of-type {\n",
              "        vertical-align: middle;\n",
              "    }\n",
              "\n",
              "    .dataframe tbody tr th {\n",
              "        vertical-align: top;\n",
              "    }\n",
              "\n",
              "    .dataframe thead th {\n",
              "        text-align: right;\n",
              "    }\n",
              "</style>\n",
              "<table border=\"1\" class=\"dataframe\">\n",
              "  <thead>\n",
              "    <tr style=\"text-align: right;\">\n",
              "      <th></th>\n",
              "      <th>Pregnancies</th>\n",
              "      <th>Glucose</th>\n",
              "      <th>BloodPressure</th>\n",
              "      <th>SkinThickness</th>\n",
              "      <th>Insulin</th>\n",
              "      <th>BMI</th>\n",
              "      <th>DiabetesPedigreeFunction</th>\n",
              "      <th>Age</th>\n",
              "      <th>Outcome</th>\n",
              "    </tr>\n",
              "  </thead>\n",
              "  <tbody>\n",
              "    <tr>\n",
              "      <th>Pregnancies</th>\n",
              "      <td>1.000000</td>\n",
              "      <td>0.129459</td>\n",
              "      <td>0.141282</td>\n",
              "      <td>-0.081672</td>\n",
              "      <td>-0.073535</td>\n",
              "      <td>0.017683</td>\n",
              "      <td>-0.033523</td>\n",
              "      <td>0.544341</td>\n",
              "      <td>0.221898</td>\n",
              "    </tr>\n",
              "    <tr>\n",
              "      <th>Glucose</th>\n",
              "      <td>0.129459</td>\n",
              "      <td>1.000000</td>\n",
              "      <td>0.152590</td>\n",
              "      <td>0.057328</td>\n",
              "      <td>0.331357</td>\n",
              "      <td>0.221071</td>\n",
              "      <td>0.137337</td>\n",
              "      <td>0.263514</td>\n",
              "      <td>0.466581</td>\n",
              "    </tr>\n",
              "    <tr>\n",
              "      <th>BloodPressure</th>\n",
              "      <td>0.141282</td>\n",
              "      <td>0.152590</td>\n",
              "      <td>1.000000</td>\n",
              "      <td>0.207371</td>\n",
              "      <td>0.088933</td>\n",
              "      <td>0.281805</td>\n",
              "      <td>0.041265</td>\n",
              "      <td>0.239528</td>\n",
              "      <td>0.065068</td>\n",
              "    </tr>\n",
              "    <tr>\n",
              "      <th>SkinThickness</th>\n",
              "      <td>-0.081672</td>\n",
              "      <td>0.057328</td>\n",
              "      <td>0.207371</td>\n",
              "      <td>1.000000</td>\n",
              "      <td>0.436783</td>\n",
              "      <td>0.392573</td>\n",
              "      <td>0.183928</td>\n",
              "      <td>-0.113970</td>\n",
              "      <td>0.074752</td>\n",
              "    </tr>\n",
              "    <tr>\n",
              "      <th>Insulin</th>\n",
              "      <td>-0.073535</td>\n",
              "      <td>0.331357</td>\n",
              "      <td>0.088933</td>\n",
              "      <td>0.436783</td>\n",
              "      <td>1.000000</td>\n",
              "      <td>0.197859</td>\n",
              "      <td>0.185071</td>\n",
              "      <td>-0.042163</td>\n",
              "      <td>0.130548</td>\n",
              "    </tr>\n",
              "    <tr>\n",
              "      <th>BMI</th>\n",
              "      <td>0.017683</td>\n",
              "      <td>0.221071</td>\n",
              "      <td>0.281805</td>\n",
              "      <td>0.392573</td>\n",
              "      <td>0.197859</td>\n",
              "      <td>1.000000</td>\n",
              "      <td>0.140647</td>\n",
              "      <td>0.036242</td>\n",
              "      <td>0.292695</td>\n",
              "    </tr>\n",
              "    <tr>\n",
              "      <th>DiabetesPedigreeFunction</th>\n",
              "      <td>-0.033523</td>\n",
              "      <td>0.137337</td>\n",
              "      <td>0.041265</td>\n",
              "      <td>0.183928</td>\n",
              "      <td>0.185071</td>\n",
              "      <td>0.140647</td>\n",
              "      <td>1.000000</td>\n",
              "      <td>0.033561</td>\n",
              "      <td>0.173844</td>\n",
              "    </tr>\n",
              "    <tr>\n",
              "      <th>Age</th>\n",
              "      <td>0.544341</td>\n",
              "      <td>0.263514</td>\n",
              "      <td>0.239528</td>\n",
              "      <td>-0.113970</td>\n",
              "      <td>-0.042163</td>\n",
              "      <td>0.036242</td>\n",
              "      <td>0.033561</td>\n",
              "      <td>1.000000</td>\n",
              "      <td>0.238356</td>\n",
              "    </tr>\n",
              "    <tr>\n",
              "      <th>Outcome</th>\n",
              "      <td>0.221898</td>\n",
              "      <td>0.466581</td>\n",
              "      <td>0.065068</td>\n",
              "      <td>0.074752</td>\n",
              "      <td>0.130548</td>\n",
              "      <td>0.292695</td>\n",
              "      <td>0.173844</td>\n",
              "      <td>0.238356</td>\n",
              "      <td>1.000000</td>\n",
              "    </tr>\n",
              "  </tbody>\n",
              "</table>\n",
              "</div>\n",
              "    <div class=\"colab-df-buttons\">\n",
              "\n",
              "  <div class=\"colab-df-container\">\n",
              "    <button class=\"colab-df-convert\" onclick=\"convertToInteractive('df-c28d9beb-9dc0-4b64-a204-3d7801f9e1c7')\"\n",
              "            title=\"Convert this dataframe to an interactive table.\"\n",
              "            style=\"display:none;\">\n",
              "\n",
              "  <svg xmlns=\"http://www.w3.org/2000/svg\" height=\"24px\" viewBox=\"0 -960 960 960\">\n",
              "    <path d=\"M120-120v-720h720v720H120Zm60-500h600v-160H180v160Zm220 220h160v-160H400v160Zm0 220h160v-160H400v160ZM180-400h160v-160H180v160Zm440 0h160v-160H620v160ZM180-180h160v-160H180v160Zm440 0h160v-160H620v160Z\"/>\n",
              "  </svg>\n",
              "    </button>\n",
              "\n",
              "  <style>\n",
              "    .colab-df-container {\n",
              "      display:flex;\n",
              "      gap: 12px;\n",
              "    }\n",
              "\n",
              "    .colab-df-convert {\n",
              "      background-color: #E8F0FE;\n",
              "      border: none;\n",
              "      border-radius: 50%;\n",
              "      cursor: pointer;\n",
              "      display: none;\n",
              "      fill: #1967D2;\n",
              "      height: 32px;\n",
              "      padding: 0 0 0 0;\n",
              "      width: 32px;\n",
              "    }\n",
              "\n",
              "    .colab-df-convert:hover {\n",
              "      background-color: #E2EBFA;\n",
              "      box-shadow: 0px 1px 2px rgba(60, 64, 67, 0.3), 0px 1px 3px 1px rgba(60, 64, 67, 0.15);\n",
              "      fill: #174EA6;\n",
              "    }\n",
              "\n",
              "    .colab-df-buttons div {\n",
              "      margin-bottom: 4px;\n",
              "    }\n",
              "\n",
              "    [theme=dark] .colab-df-convert {\n",
              "      background-color: #3B4455;\n",
              "      fill: #D2E3FC;\n",
              "    }\n",
              "\n",
              "    [theme=dark] .colab-df-convert:hover {\n",
              "      background-color: #434B5C;\n",
              "      box-shadow: 0px 1px 3px 1px rgba(0, 0, 0, 0.15);\n",
              "      filter: drop-shadow(0px 1px 2px rgba(0, 0, 0, 0.3));\n",
              "      fill: #FFFFFF;\n",
              "    }\n",
              "  </style>\n",
              "\n",
              "    <script>\n",
              "      const buttonEl =\n",
              "        document.querySelector('#df-c28d9beb-9dc0-4b64-a204-3d7801f9e1c7 button.colab-df-convert');\n",
              "      buttonEl.style.display =\n",
              "        google.colab.kernel.accessAllowed ? 'block' : 'none';\n",
              "\n",
              "      async function convertToInteractive(key) {\n",
              "        const element = document.querySelector('#df-c28d9beb-9dc0-4b64-a204-3d7801f9e1c7');\n",
              "        const dataTable =\n",
              "          await google.colab.kernel.invokeFunction('convertToInteractive',\n",
              "                                                    [key], {});\n",
              "        if (!dataTable) return;\n",
              "\n",
              "        const docLinkHtml = 'Like what you see? Visit the ' +\n",
              "          '<a target=\"_blank\" href=https://colab.research.google.com/notebooks/data_table.ipynb>data table notebook</a>'\n",
              "          + ' to learn more about interactive tables.';\n",
              "        element.innerHTML = '';\n",
              "        dataTable['output_type'] = 'display_data';\n",
              "        await google.colab.output.renderOutput(dataTable, element);\n",
              "        const docLink = document.createElement('div');\n",
              "        docLink.innerHTML = docLinkHtml;\n",
              "        element.appendChild(docLink);\n",
              "      }\n",
              "    </script>\n",
              "  </div>\n",
              "\n",
              "\n",
              "<div id=\"df-0b1d9352-4cac-431b-ad0b-910585f62963\">\n",
              "  <button class=\"colab-df-quickchart\" onclick=\"quickchart('df-0b1d9352-4cac-431b-ad0b-910585f62963')\"\n",
              "            title=\"Suggest charts.\"\n",
              "            style=\"display:none;\">\n",
              "\n",
              "<svg xmlns=\"http://www.w3.org/2000/svg\" height=\"24px\"viewBox=\"0 0 24 24\"\n",
              "     width=\"24px\">\n",
              "    <g>\n",
              "        <path d=\"M19 3H5c-1.1 0-2 .9-2 2v14c0 1.1.9 2 2 2h14c1.1 0 2-.9 2-2V5c0-1.1-.9-2-2-2zM9 17H7v-7h2v7zm4 0h-2V7h2v10zm4 0h-2v-4h2v4z\"/>\n",
              "    </g>\n",
              "</svg>\n",
              "  </button>\n",
              "\n",
              "<style>\n",
              "  .colab-df-quickchart {\n",
              "      --bg-color: #E8F0FE;\n",
              "      --fill-color: #1967D2;\n",
              "      --hover-bg-color: #E2EBFA;\n",
              "      --hover-fill-color: #174EA6;\n",
              "      --disabled-fill-color: #AAA;\n",
              "      --disabled-bg-color: #DDD;\n",
              "  }\n",
              "\n",
              "  [theme=dark] .colab-df-quickchart {\n",
              "      --bg-color: #3B4455;\n",
              "      --fill-color: #D2E3FC;\n",
              "      --hover-bg-color: #434B5C;\n",
              "      --hover-fill-color: #FFFFFF;\n",
              "      --disabled-bg-color: #3B4455;\n",
              "      --disabled-fill-color: #666;\n",
              "  }\n",
              "\n",
              "  .colab-df-quickchart {\n",
              "    background-color: var(--bg-color);\n",
              "    border: none;\n",
              "    border-radius: 50%;\n",
              "    cursor: pointer;\n",
              "    display: none;\n",
              "    fill: var(--fill-color);\n",
              "    height: 32px;\n",
              "    padding: 0;\n",
              "    width: 32px;\n",
              "  }\n",
              "\n",
              "  .colab-df-quickchart:hover {\n",
              "    background-color: var(--hover-bg-color);\n",
              "    box-shadow: 0 1px 2px rgba(60, 64, 67, 0.3), 0 1px 3px 1px rgba(60, 64, 67, 0.15);\n",
              "    fill: var(--button-hover-fill-color);\n",
              "  }\n",
              "\n",
              "  .colab-df-quickchart-complete:disabled,\n",
              "  .colab-df-quickchart-complete:disabled:hover {\n",
              "    background-color: var(--disabled-bg-color);\n",
              "    fill: var(--disabled-fill-color);\n",
              "    box-shadow: none;\n",
              "  }\n",
              "\n",
              "  .colab-df-spinner {\n",
              "    border: 2px solid var(--fill-color);\n",
              "    border-color: transparent;\n",
              "    border-bottom-color: var(--fill-color);\n",
              "    animation:\n",
              "      spin 1s steps(1) infinite;\n",
              "  }\n",
              "\n",
              "  @keyframes spin {\n",
              "    0% {\n",
              "      border-color: transparent;\n",
              "      border-bottom-color: var(--fill-color);\n",
              "      border-left-color: var(--fill-color);\n",
              "    }\n",
              "    20% {\n",
              "      border-color: transparent;\n",
              "      border-left-color: var(--fill-color);\n",
              "      border-top-color: var(--fill-color);\n",
              "    }\n",
              "    30% {\n",
              "      border-color: transparent;\n",
              "      border-left-color: var(--fill-color);\n",
              "      border-top-color: var(--fill-color);\n",
              "      border-right-color: var(--fill-color);\n",
              "    }\n",
              "    40% {\n",
              "      border-color: transparent;\n",
              "      border-right-color: var(--fill-color);\n",
              "      border-top-color: var(--fill-color);\n",
              "    }\n",
              "    60% {\n",
              "      border-color: transparent;\n",
              "      border-right-color: var(--fill-color);\n",
              "    }\n",
              "    80% {\n",
              "      border-color: transparent;\n",
              "      border-right-color: var(--fill-color);\n",
              "      border-bottom-color: var(--fill-color);\n",
              "    }\n",
              "    90% {\n",
              "      border-color: transparent;\n",
              "      border-bottom-color: var(--fill-color);\n",
              "    }\n",
              "  }\n",
              "</style>\n",
              "\n",
              "  <script>\n",
              "    async function quickchart(key) {\n",
              "      const quickchartButtonEl =\n",
              "        document.querySelector('#' + key + ' button');\n",
              "      quickchartButtonEl.disabled = true;  // To prevent multiple clicks.\n",
              "      quickchartButtonEl.classList.add('colab-df-spinner');\n",
              "      try {\n",
              "        const charts = await google.colab.kernel.invokeFunction(\n",
              "            'suggestCharts', [key], {});\n",
              "      } catch (error) {\n",
              "        console.error('Error during call to suggestCharts:', error);\n",
              "      }\n",
              "      quickchartButtonEl.classList.remove('colab-df-spinner');\n",
              "      quickchartButtonEl.classList.add('colab-df-quickchart-complete');\n",
              "    }\n",
              "    (() => {\n",
              "      let quickchartButtonEl =\n",
              "        document.querySelector('#df-0b1d9352-4cac-431b-ad0b-910585f62963 button');\n",
              "      quickchartButtonEl.style.display =\n",
              "        google.colab.kernel.accessAllowed ? 'block' : 'none';\n",
              "    })();\n",
              "  </script>\n",
              "</div>\n",
              "    </div>\n",
              "  </div>\n"
            ]
          },
          "metadata": {},
          "execution_count": 20
        }
      ]
    },
    {
      "cell_type": "markdown",
      "source": [
        "Dataset 2"
      ],
      "metadata": {
        "id": "AqzexwOKW49D"
      }
    },
    {
      "cell_type": "code",
      "source": [
        "korelasi2 = df2.corr()\n",
        "korelasi2"
      ],
      "metadata": {
        "id": "2gnxr_H5W6IJ",
        "colab": {
          "base_uri": "https://localhost:8080/",
          "height": 480
        },
        "outputId": "71e691c1-c6d0-410a-d1af-7b409c2e54a0"
      },
      "execution_count": null,
      "outputs": [
        {
          "output_type": "stream",
          "name": "stderr",
          "text": [
            "<ipython-input-21-002b33f4d238>:1: FutureWarning: The default value of numeric_only in DataFrame.corr is deprecated. In a future version, it will default to False. Select only valid columns or specify the value of numeric_only to silence this warning.\n",
            "  korelasi2 = df2.corr()\n"
          ]
        },
        {
          "output_type": "execute_result",
          "data": {
            "text/plain": [
              "                 ID  No_Pation       AGE      Urea        Cr     HbA1c  \\\n",
              "ID         1.000000   0.064584 -0.072858 -0.095439 -0.102539 -0.008293   \n",
              "No_Pation  0.064584   1.000000 -0.088153 -0.018946  0.000853 -0.032219   \n",
              "AGE       -0.072858  -0.088153  1.000000  0.110137  0.057138  0.381044   \n",
              "Urea      -0.095439  -0.018946  0.110137  1.000000  0.624538 -0.024170   \n",
              "Cr        -0.102539   0.000853  0.057138  0.624538  1.000000 -0.038256   \n",
              "HbA1c     -0.008293  -0.032219  0.381044 -0.024170 -0.038256  1.000000   \n",
              "Chol       0.043999  -0.030054  0.036421  0.000775 -0.007121  0.178141   \n",
              "TG        -0.055433  -0.039816  0.145743  0.039616  0.056757  0.215808   \n",
              "HDL        0.026714  -0.013493 -0.022627 -0.037888 -0.024305  0.030376   \n",
              "LDL       -0.064138  -0.003245  0.014999 -0.004906  0.040659  0.012253   \n",
              "VLDL       0.146575   0.113707 -0.090273 -0.011707  0.009668  0.072620   \n",
              "BMI        0.047768   0.017736  0.378948  0.046344  0.055041  0.413166   \n",
              "\n",
              "               Chol        TG       HDL       LDL      VLDL       BMI  \n",
              "ID         0.043999 -0.055433  0.026714 -0.064138  0.146575  0.047768  \n",
              "No_Pation -0.030054 -0.039816 -0.013493 -0.003245  0.113707  0.017736  \n",
              "AGE        0.036421  0.145743 -0.022627  0.014999 -0.090273  0.378948  \n",
              "Urea       0.000775  0.039616 -0.037888 -0.004906 -0.011707  0.046344  \n",
              "Cr        -0.007121  0.056757 -0.024305  0.040659  0.009668  0.055041  \n",
              "HbA1c      0.178141  0.215808  0.030376  0.012253  0.072620  0.413166  \n",
              "Chol       1.000000  0.322149  0.103302  0.418649  0.076389  0.014214  \n",
              "TG         0.322149  1.000000 -0.082915  0.013799  0.145008  0.109107  \n",
              "HDL        0.103302 -0.082915  1.000000 -0.142102 -0.059097  0.072361  \n",
              "LDL        0.418649  0.013799 -0.142102  1.000000  0.061649 -0.065525  \n",
              "VLDL       0.076389  0.145008 -0.059097  0.061649  1.000000  0.196992  \n",
              "BMI        0.014214  0.109107  0.072361 -0.065525  0.196992  1.000000  "
            ],
            "text/html": [
              "\n",
              "  <div id=\"df-e7f984f2-3ff4-4948-be7c-61d79ed82527\" class=\"colab-df-container\">\n",
              "    <div>\n",
              "<style scoped>\n",
              "    .dataframe tbody tr th:only-of-type {\n",
              "        vertical-align: middle;\n",
              "    }\n",
              "\n",
              "    .dataframe tbody tr th {\n",
              "        vertical-align: top;\n",
              "    }\n",
              "\n",
              "    .dataframe thead th {\n",
              "        text-align: right;\n",
              "    }\n",
              "</style>\n",
              "<table border=\"1\" class=\"dataframe\">\n",
              "  <thead>\n",
              "    <tr style=\"text-align: right;\">\n",
              "      <th></th>\n",
              "      <th>ID</th>\n",
              "      <th>No_Pation</th>\n",
              "      <th>AGE</th>\n",
              "      <th>Urea</th>\n",
              "      <th>Cr</th>\n",
              "      <th>HbA1c</th>\n",
              "      <th>Chol</th>\n",
              "      <th>TG</th>\n",
              "      <th>HDL</th>\n",
              "      <th>LDL</th>\n",
              "      <th>VLDL</th>\n",
              "      <th>BMI</th>\n",
              "    </tr>\n",
              "  </thead>\n",
              "  <tbody>\n",
              "    <tr>\n",
              "      <th>ID</th>\n",
              "      <td>1.000000</td>\n",
              "      <td>0.064584</td>\n",
              "      <td>-0.072858</td>\n",
              "      <td>-0.095439</td>\n",
              "      <td>-0.102539</td>\n",
              "      <td>-0.008293</td>\n",
              "      <td>0.043999</td>\n",
              "      <td>-0.055433</td>\n",
              "      <td>0.026714</td>\n",
              "      <td>-0.064138</td>\n",
              "      <td>0.146575</td>\n",
              "      <td>0.047768</td>\n",
              "    </tr>\n",
              "    <tr>\n",
              "      <th>No_Pation</th>\n",
              "      <td>0.064584</td>\n",
              "      <td>1.000000</td>\n",
              "      <td>-0.088153</td>\n",
              "      <td>-0.018946</td>\n",
              "      <td>0.000853</td>\n",
              "      <td>-0.032219</td>\n",
              "      <td>-0.030054</td>\n",
              "      <td>-0.039816</td>\n",
              "      <td>-0.013493</td>\n",
              "      <td>-0.003245</td>\n",
              "      <td>0.113707</td>\n",
              "      <td>0.017736</td>\n",
              "    </tr>\n",
              "    <tr>\n",
              "      <th>AGE</th>\n",
              "      <td>-0.072858</td>\n",
              "      <td>-0.088153</td>\n",
              "      <td>1.000000</td>\n",
              "      <td>0.110137</td>\n",
              "      <td>0.057138</td>\n",
              "      <td>0.381044</td>\n",
              "      <td>0.036421</td>\n",
              "      <td>0.145743</td>\n",
              "      <td>-0.022627</td>\n",
              "      <td>0.014999</td>\n",
              "      <td>-0.090273</td>\n",
              "      <td>0.378948</td>\n",
              "    </tr>\n",
              "    <tr>\n",
              "      <th>Urea</th>\n",
              "      <td>-0.095439</td>\n",
              "      <td>-0.018946</td>\n",
              "      <td>0.110137</td>\n",
              "      <td>1.000000</td>\n",
              "      <td>0.624538</td>\n",
              "      <td>-0.024170</td>\n",
              "      <td>0.000775</td>\n",
              "      <td>0.039616</td>\n",
              "      <td>-0.037888</td>\n",
              "      <td>-0.004906</td>\n",
              "      <td>-0.011707</td>\n",
              "      <td>0.046344</td>\n",
              "    </tr>\n",
              "    <tr>\n",
              "      <th>Cr</th>\n",
              "      <td>-0.102539</td>\n",
              "      <td>0.000853</td>\n",
              "      <td>0.057138</td>\n",
              "      <td>0.624538</td>\n",
              "      <td>1.000000</td>\n",
              "      <td>-0.038256</td>\n",
              "      <td>-0.007121</td>\n",
              "      <td>0.056757</td>\n",
              "      <td>-0.024305</td>\n",
              "      <td>0.040659</td>\n",
              "      <td>0.009668</td>\n",
              "      <td>0.055041</td>\n",
              "    </tr>\n",
              "    <tr>\n",
              "      <th>HbA1c</th>\n",
              "      <td>-0.008293</td>\n",
              "      <td>-0.032219</td>\n",
              "      <td>0.381044</td>\n",
              "      <td>-0.024170</td>\n",
              "      <td>-0.038256</td>\n",
              "      <td>1.000000</td>\n",
              "      <td>0.178141</td>\n",
              "      <td>0.215808</td>\n",
              "      <td>0.030376</td>\n",
              "      <td>0.012253</td>\n",
              "      <td>0.072620</td>\n",
              "      <td>0.413166</td>\n",
              "    </tr>\n",
              "    <tr>\n",
              "      <th>Chol</th>\n",
              "      <td>0.043999</td>\n",
              "      <td>-0.030054</td>\n",
              "      <td>0.036421</td>\n",
              "      <td>0.000775</td>\n",
              "      <td>-0.007121</td>\n",
              "      <td>0.178141</td>\n",
              "      <td>1.000000</td>\n",
              "      <td>0.322149</td>\n",
              "      <td>0.103302</td>\n",
              "      <td>0.418649</td>\n",
              "      <td>0.076389</td>\n",
              "      <td>0.014214</td>\n",
              "    </tr>\n",
              "    <tr>\n",
              "      <th>TG</th>\n",
              "      <td>-0.055433</td>\n",
              "      <td>-0.039816</td>\n",
              "      <td>0.145743</td>\n",
              "      <td>0.039616</td>\n",
              "      <td>0.056757</td>\n",
              "      <td>0.215808</td>\n",
              "      <td>0.322149</td>\n",
              "      <td>1.000000</td>\n",
              "      <td>-0.082915</td>\n",
              "      <td>0.013799</td>\n",
              "      <td>0.145008</td>\n",
              "      <td>0.109107</td>\n",
              "    </tr>\n",
              "    <tr>\n",
              "      <th>HDL</th>\n",
              "      <td>0.026714</td>\n",
              "      <td>-0.013493</td>\n",
              "      <td>-0.022627</td>\n",
              "      <td>-0.037888</td>\n",
              "      <td>-0.024305</td>\n",
              "      <td>0.030376</td>\n",
              "      <td>0.103302</td>\n",
              "      <td>-0.082915</td>\n",
              "      <td>1.000000</td>\n",
              "      <td>-0.142102</td>\n",
              "      <td>-0.059097</td>\n",
              "      <td>0.072361</td>\n",
              "    </tr>\n",
              "    <tr>\n",
              "      <th>LDL</th>\n",
              "      <td>-0.064138</td>\n",
              "      <td>-0.003245</td>\n",
              "      <td>0.014999</td>\n",
              "      <td>-0.004906</td>\n",
              "      <td>0.040659</td>\n",
              "      <td>0.012253</td>\n",
              "      <td>0.418649</td>\n",
              "      <td>0.013799</td>\n",
              "      <td>-0.142102</td>\n",
              "      <td>1.000000</td>\n",
              "      <td>0.061649</td>\n",
              "      <td>-0.065525</td>\n",
              "    </tr>\n",
              "    <tr>\n",
              "      <th>VLDL</th>\n",
              "      <td>0.146575</td>\n",
              "      <td>0.113707</td>\n",
              "      <td>-0.090273</td>\n",
              "      <td>-0.011707</td>\n",
              "      <td>0.009668</td>\n",
              "      <td>0.072620</td>\n",
              "      <td>0.076389</td>\n",
              "      <td>0.145008</td>\n",
              "      <td>-0.059097</td>\n",
              "      <td>0.061649</td>\n",
              "      <td>1.000000</td>\n",
              "      <td>0.196992</td>\n",
              "    </tr>\n",
              "    <tr>\n",
              "      <th>BMI</th>\n",
              "      <td>0.047768</td>\n",
              "      <td>0.017736</td>\n",
              "      <td>0.378948</td>\n",
              "      <td>0.046344</td>\n",
              "      <td>0.055041</td>\n",
              "      <td>0.413166</td>\n",
              "      <td>0.014214</td>\n",
              "      <td>0.109107</td>\n",
              "      <td>0.072361</td>\n",
              "      <td>-0.065525</td>\n",
              "      <td>0.196992</td>\n",
              "      <td>1.000000</td>\n",
              "    </tr>\n",
              "  </tbody>\n",
              "</table>\n",
              "</div>\n",
              "    <div class=\"colab-df-buttons\">\n",
              "\n",
              "  <div class=\"colab-df-container\">\n",
              "    <button class=\"colab-df-convert\" onclick=\"convertToInteractive('df-e7f984f2-3ff4-4948-be7c-61d79ed82527')\"\n",
              "            title=\"Convert this dataframe to an interactive table.\"\n",
              "            style=\"display:none;\">\n",
              "\n",
              "  <svg xmlns=\"http://www.w3.org/2000/svg\" height=\"24px\" viewBox=\"0 -960 960 960\">\n",
              "    <path d=\"M120-120v-720h720v720H120Zm60-500h600v-160H180v160Zm220 220h160v-160H400v160Zm0 220h160v-160H400v160ZM180-400h160v-160H180v160Zm440 0h160v-160H620v160ZM180-180h160v-160H180v160Zm440 0h160v-160H620v160Z\"/>\n",
              "  </svg>\n",
              "    </button>\n",
              "\n",
              "  <style>\n",
              "    .colab-df-container {\n",
              "      display:flex;\n",
              "      gap: 12px;\n",
              "    }\n",
              "\n",
              "    .colab-df-convert {\n",
              "      background-color: #E8F0FE;\n",
              "      border: none;\n",
              "      border-radius: 50%;\n",
              "      cursor: pointer;\n",
              "      display: none;\n",
              "      fill: #1967D2;\n",
              "      height: 32px;\n",
              "      padding: 0 0 0 0;\n",
              "      width: 32px;\n",
              "    }\n",
              "\n",
              "    .colab-df-convert:hover {\n",
              "      background-color: #E2EBFA;\n",
              "      box-shadow: 0px 1px 2px rgba(60, 64, 67, 0.3), 0px 1px 3px 1px rgba(60, 64, 67, 0.15);\n",
              "      fill: #174EA6;\n",
              "    }\n",
              "\n",
              "    .colab-df-buttons div {\n",
              "      margin-bottom: 4px;\n",
              "    }\n",
              "\n",
              "    [theme=dark] .colab-df-convert {\n",
              "      background-color: #3B4455;\n",
              "      fill: #D2E3FC;\n",
              "    }\n",
              "\n",
              "    [theme=dark] .colab-df-convert:hover {\n",
              "      background-color: #434B5C;\n",
              "      box-shadow: 0px 1px 3px 1px rgba(0, 0, 0, 0.15);\n",
              "      filter: drop-shadow(0px 1px 2px rgba(0, 0, 0, 0.3));\n",
              "      fill: #FFFFFF;\n",
              "    }\n",
              "  </style>\n",
              "\n",
              "    <script>\n",
              "      const buttonEl =\n",
              "        document.querySelector('#df-e7f984f2-3ff4-4948-be7c-61d79ed82527 button.colab-df-convert');\n",
              "      buttonEl.style.display =\n",
              "        google.colab.kernel.accessAllowed ? 'block' : 'none';\n",
              "\n",
              "      async function convertToInteractive(key) {\n",
              "        const element = document.querySelector('#df-e7f984f2-3ff4-4948-be7c-61d79ed82527');\n",
              "        const dataTable =\n",
              "          await google.colab.kernel.invokeFunction('convertToInteractive',\n",
              "                                                    [key], {});\n",
              "        if (!dataTable) return;\n",
              "\n",
              "        const docLinkHtml = 'Like what you see? Visit the ' +\n",
              "          '<a target=\"_blank\" href=https://colab.research.google.com/notebooks/data_table.ipynb>data table notebook</a>'\n",
              "          + ' to learn more about interactive tables.';\n",
              "        element.innerHTML = '';\n",
              "        dataTable['output_type'] = 'display_data';\n",
              "        await google.colab.output.renderOutput(dataTable, element);\n",
              "        const docLink = document.createElement('div');\n",
              "        docLink.innerHTML = docLinkHtml;\n",
              "        element.appendChild(docLink);\n",
              "      }\n",
              "    </script>\n",
              "  </div>\n",
              "\n",
              "\n",
              "<div id=\"df-f80ba5b2-a2a8-421c-a9d9-c2f8cd81952f\">\n",
              "  <button class=\"colab-df-quickchart\" onclick=\"quickchart('df-f80ba5b2-a2a8-421c-a9d9-c2f8cd81952f')\"\n",
              "            title=\"Suggest charts.\"\n",
              "            style=\"display:none;\">\n",
              "\n",
              "<svg xmlns=\"http://www.w3.org/2000/svg\" height=\"24px\"viewBox=\"0 0 24 24\"\n",
              "     width=\"24px\">\n",
              "    <g>\n",
              "        <path d=\"M19 3H5c-1.1 0-2 .9-2 2v14c0 1.1.9 2 2 2h14c1.1 0 2-.9 2-2V5c0-1.1-.9-2-2-2zM9 17H7v-7h2v7zm4 0h-2V7h2v10zm4 0h-2v-4h2v4z\"/>\n",
              "    </g>\n",
              "</svg>\n",
              "  </button>\n",
              "\n",
              "<style>\n",
              "  .colab-df-quickchart {\n",
              "      --bg-color: #E8F0FE;\n",
              "      --fill-color: #1967D2;\n",
              "      --hover-bg-color: #E2EBFA;\n",
              "      --hover-fill-color: #174EA6;\n",
              "      --disabled-fill-color: #AAA;\n",
              "      --disabled-bg-color: #DDD;\n",
              "  }\n",
              "\n",
              "  [theme=dark] .colab-df-quickchart {\n",
              "      --bg-color: #3B4455;\n",
              "      --fill-color: #D2E3FC;\n",
              "      --hover-bg-color: #434B5C;\n",
              "      --hover-fill-color: #FFFFFF;\n",
              "      --disabled-bg-color: #3B4455;\n",
              "      --disabled-fill-color: #666;\n",
              "  }\n",
              "\n",
              "  .colab-df-quickchart {\n",
              "    background-color: var(--bg-color);\n",
              "    border: none;\n",
              "    border-radius: 50%;\n",
              "    cursor: pointer;\n",
              "    display: none;\n",
              "    fill: var(--fill-color);\n",
              "    height: 32px;\n",
              "    padding: 0;\n",
              "    width: 32px;\n",
              "  }\n",
              "\n",
              "  .colab-df-quickchart:hover {\n",
              "    background-color: var(--hover-bg-color);\n",
              "    box-shadow: 0 1px 2px rgba(60, 64, 67, 0.3), 0 1px 3px 1px rgba(60, 64, 67, 0.15);\n",
              "    fill: var(--button-hover-fill-color);\n",
              "  }\n",
              "\n",
              "  .colab-df-quickchart-complete:disabled,\n",
              "  .colab-df-quickchart-complete:disabled:hover {\n",
              "    background-color: var(--disabled-bg-color);\n",
              "    fill: var(--disabled-fill-color);\n",
              "    box-shadow: none;\n",
              "  }\n",
              "\n",
              "  .colab-df-spinner {\n",
              "    border: 2px solid var(--fill-color);\n",
              "    border-color: transparent;\n",
              "    border-bottom-color: var(--fill-color);\n",
              "    animation:\n",
              "      spin 1s steps(1) infinite;\n",
              "  }\n",
              "\n",
              "  @keyframes spin {\n",
              "    0% {\n",
              "      border-color: transparent;\n",
              "      border-bottom-color: var(--fill-color);\n",
              "      border-left-color: var(--fill-color);\n",
              "    }\n",
              "    20% {\n",
              "      border-color: transparent;\n",
              "      border-left-color: var(--fill-color);\n",
              "      border-top-color: var(--fill-color);\n",
              "    }\n",
              "    30% {\n",
              "      border-color: transparent;\n",
              "      border-left-color: var(--fill-color);\n",
              "      border-top-color: var(--fill-color);\n",
              "      border-right-color: var(--fill-color);\n",
              "    }\n",
              "    40% {\n",
              "      border-color: transparent;\n",
              "      border-right-color: var(--fill-color);\n",
              "      border-top-color: var(--fill-color);\n",
              "    }\n",
              "    60% {\n",
              "      border-color: transparent;\n",
              "      border-right-color: var(--fill-color);\n",
              "    }\n",
              "    80% {\n",
              "      border-color: transparent;\n",
              "      border-right-color: var(--fill-color);\n",
              "      border-bottom-color: var(--fill-color);\n",
              "    }\n",
              "    90% {\n",
              "      border-color: transparent;\n",
              "      border-bottom-color: var(--fill-color);\n",
              "    }\n",
              "  }\n",
              "</style>\n",
              "\n",
              "  <script>\n",
              "    async function quickchart(key) {\n",
              "      const quickchartButtonEl =\n",
              "        document.querySelector('#' + key + ' button');\n",
              "      quickchartButtonEl.disabled = true;  // To prevent multiple clicks.\n",
              "      quickchartButtonEl.classList.add('colab-df-spinner');\n",
              "      try {\n",
              "        const charts = await google.colab.kernel.invokeFunction(\n",
              "            'suggestCharts', [key], {});\n",
              "      } catch (error) {\n",
              "        console.error('Error during call to suggestCharts:', error);\n",
              "      }\n",
              "      quickchartButtonEl.classList.remove('colab-df-spinner');\n",
              "      quickchartButtonEl.classList.add('colab-df-quickchart-complete');\n",
              "    }\n",
              "    (() => {\n",
              "      let quickchartButtonEl =\n",
              "        document.querySelector('#df-f80ba5b2-a2a8-421c-a9d9-c2f8cd81952f button');\n",
              "      quickchartButtonEl.style.display =\n",
              "        google.colab.kernel.accessAllowed ? 'block' : 'none';\n",
              "    })();\n",
              "  </script>\n",
              "</div>\n",
              "    </div>\n",
              "  </div>\n"
            ]
          },
          "metadata": {},
          "execution_count": 21
        }
      ]
    },
    {
      "cell_type": "markdown",
      "source": [
        "**Menampilkan matriks korelasi**"
      ],
      "metadata": {
        "id": "3CKU0VTRW4qH"
      }
    },
    {
      "cell_type": "code",
      "source": [
        "import seaborn as sns\n",
        "sns.heatmap(korelasi1)"
      ],
      "metadata": {
        "id": "GOslBr-vXBcG",
        "colab": {
          "base_uri": "https://localhost:8080/",
          "height": 620
        },
        "outputId": "63489625-8de9-4105-fa04-6d1b9bda7a46"
      },
      "execution_count": null,
      "outputs": [
        {
          "output_type": "execute_result",
          "data": {
            "text/plain": [
              "<Axes: >"
            ]
          },
          "metadata": {},
          "execution_count": 23
        },
        {
          "output_type": "display_data",
          "data": {
            "text/plain": [
              "<Figure size 640x480 with 2 Axes>"
            ],
            "image/png": "[encoded data removed]"
          },
          "metadata": {}
        }
      ]
    },
    {
      "cell_type": "code",
      "source": [
        "import seaborn as sns\n",
        "sns.heatmap(korelasi2)"
      ],
      "metadata": {
        "id": "36GhFkmOXGmV",
        "colab": {
          "base_uri": "https://localhost:8080/",
          "height": 507
        },
        "outputId": "53b45a37-11f9-4e01-d4dc-5bbb5fd03e85"
      },
      "execution_count": null,
      "outputs": [
        {
          "output_type": "execute_result",
          "data": {
            "text/plain": [
              "<Axes: >"
            ]
          },
          "metadata": {},
          "execution_count": 24
        },
        {
          "output_type": "display_data",
          "data": {
            "text/plain": [
              "<Figure size 640x480 with 2 Axes>"
            ],
            "image/png": "[encoded data removed]"
          },
          "metadata": {}
        }
      ]
    },
    {
      "cell_type": "markdown",
      "source": [
        "**Manampilkan data berupa boxplot untuk mengetahui adanya outlier**"
      ],
      "metadata": {
        "id": "xg8Ax7ESXNsw"
      }
    },
    {
      "cell_type": "markdown",
      "source": [
        "Dataset 1"
      ],
      "metadata": {
        "id": "4kAVgQNZ-Kx7"
      }
    },
    {
      "cell_type": "code",
      "source": [
        "sns.boxplot(x='Pregnancies', data=df1)"
      ],
      "metadata": {
        "id": "5zFkjPsaLQBN",
        "colab": {
          "base_uri": "https://localhost:8080/",
          "height": 466
        },
        "outputId": "a1d7a981-57f1-4f2e-d87a-1f4a4c6d43c0"
      },
      "execution_count": null,
      "outputs": [
        {
          "output_type": "execute_result",
          "data": {
            "text/plain": [
              "<Axes: xlabel='Pregnancies'>"
            ]
          },
          "metadata": {},
          "execution_count": 25
        },
        {
          "output_type": "display_data",
          "data": {
            "text/plain": [
              "<Figure size 640x480 with 1 Axes>"
            ],
            "image/png": "[encoded data removed]"
          },
          "metadata": {}
        }
      ]
    },
    {
      "cell_type": "code",
      "source": [
        "sns.boxplot(x='Glucose', data=df1)"
      ],
      "metadata": {
        "id": "RmL_V7rqLSpw",
        "colab": {
          "base_uri": "https://localhost:8080/",
          "height": 466
        },
        "outputId": "432174c1-0be1-4a9e-9008-4488211637a9"
      },
      "execution_count": null,
      "outputs": [
        {
          "output_type": "execute_result",
          "data": {
            "text/plain": [
              "<Axes: xlabel='Glucose'>"
            ]
          },
          "metadata": {},
          "execution_count": 26
        },
        {
          "output_type": "display_data",
          "data": {
            "text/plain": [
              "<Figure size 640x480 with 1 Axes>"
            ],
            "image/png": "[encoded data removed]"
          },
          "metadata": {}
        }
      ]
    },
    {
      "cell_type": "code",
      "source": [
        "sns.boxplot(x='BloodPressure', data=df1)"
      ],
      "metadata": {
        "id": "UlStKPykLSWy",
        "colab": {
          "base_uri": "https://localhost:8080/",
          "height": 466
        },
        "outputId": "6e197ca0-2e05-4738-e4d7-6bfac84baed9"
      },
      "execution_count": null,
      "outputs": [
        {
          "output_type": "execute_result",
          "data": {
            "text/plain": [
              "<Axes: xlabel='BloodPressure'>"
            ]
          },
          "metadata": {},
          "execution_count": 27
        },
        {
          "output_type": "display_data",
          "data": {
            "text/plain": [
              "<Figure size 640x480 with 1 Axes>"
            ],
            "image/png": "[encoded data removed]"
          },
          "metadata": {}
        }
      ]
    },
    {
      "cell_type": "code",
      "source": [
        "sns.boxplot(x='SkinThickness', data=df1)"
      ],
      "metadata": {
        "id": "NtuYLMpWLR9P",
        "colab": {
          "base_uri": "https://localhost:8080/",
          "height": 466
        },
        "outputId": "26728e0c-597d-4cd6-9a93-8d8832498557"
      },
      "execution_count": null,
      "outputs": [
        {
          "output_type": "execute_result",
          "data": {
            "text/plain": [
              "<Axes: xlabel='SkinThickness'>"
            ]
          },
          "metadata": {},
          "execution_count": 28
        },
        {
          "output_type": "display_data",
          "data": {
            "text/plain": [
              "<Figure size 640x480 with 1 Axes>"
            ],
            "image/png": "[encoded data removed]"
          },
          "metadata": {}
        }
      ]
    },
    {
      "cell_type": "code",
      "source": [
        "sns.boxplot(x='Insulin', data=df1)"
      ],
      "metadata": {
        "id": "WoozvuswLRtO",
        "colab": {
          "base_uri": "https://localhost:8080/",
          "height": 466
        },
        "outputId": "74de0127-cf85-4337-db01-7004212f7daa"
      },
      "execution_count": null,
      "outputs": [
        {
          "output_type": "execute_result",
          "data": {
            "text/plain": [
              "<Axes: xlabel='Insulin'>"
            ]
          },
          "metadata": {},
          "execution_count": 29
        },
        {
          "output_type": "display_data",
          "data": {
            "text/plain": [
              "<Figure size 640x480 with 1 Axes>"
            ],
            "image/png": "[encoded data removed]"
          },
          "metadata": {}
        }
      ]
    },
    {
      "cell_type": "code",
      "source": [
        "sns.boxplot(x='BMI', data=df1)"
      ],
      "metadata": {
        "id": "dxYzfoPyLRaP",
        "colab": {
          "base_uri": "https://localhost:8080/",
          "height": 466
        },
        "outputId": "bf97f194-ce47-42df-b7b2-f90a5c4efb3f"
      },
      "execution_count": null,
      "outputs": [
        {
          "output_type": "execute_result",
          "data": {
            "text/plain": [
              "<Axes: xlabel='BMI'>"
            ]
          },
          "metadata": {},
          "execution_count": 30
        },
        {
          "output_type": "display_data",
          "data": {
            "text/plain": [
              "<Figure size 640x480 with 1 Axes>"
            ],
            "image/png": "[encoded data removed]"
          },
          "metadata": {}
        }
      ]
    },
    {
      "cell_type": "code",
      "source": [
        "sns.boxplot(x='DiabetesPedigreeFunction', data=df1)"
      ],
      "metadata": {
        "id": "Io8JaKFTLj4U",
        "colab": {
          "base_uri": "https://localhost:8080/",
          "height": 466
        },
        "outputId": "42e05764-f7f4-4b3a-d5d5-69cd6df0e147"
      },
      "execution_count": null,
      "outputs": [
        {
          "output_type": "execute_result",
          "data": {
            "text/plain": [
              "<Axes: xlabel='DiabetesPedigreeFunction'>"
            ]
          },
          "metadata": {},
          "execution_count": 31
        },
        {
          "output_type": "display_data",
          "data": {
            "text/plain": [
              "<Figure size 640x480 with 1 Axes>"
            ],
            "image/png": "[encoded data removed]"
          },
          "metadata": {}
        }
      ]
    },
    {
      "cell_type": "code",
      "source": [
        "sns.boxplot(x='Age', data=df1)"
      ],
      "metadata": {
        "id": "KJpovtMsLjej",
        "colab": {
          "base_uri": "https://localhost:8080/",
          "height": 466
        },
        "outputId": "0effd94d-28d9-4764-bfa3-d67e296e13ba"
      },
      "execution_count": null,
      "outputs": [
        {
          "output_type": "execute_result",
          "data": {
            "text/plain": [
              "<Axes: xlabel='Age'>"
            ]
          },
          "metadata": {},
          "execution_count": 32
        },
        {
          "output_type": "display_data",
          "data": {
            "text/plain": [
              "<Figure size 640x480 with 1 Axes>"
            ],
            "image/png": "[encoded data removed]"
          },
          "metadata": {}
        }
      ]
    },
    {
      "cell_type": "code",
      "source": [
        "sns.boxplot(x='Outcome', data=df1)"
      ],
      "metadata": {
        "id": "O_miKCfaLtPY",
        "colab": {
          "base_uri": "https://localhost:8080/",
          "height": 466
        },
        "outputId": "5220a282-a5f6-40f4-83e4-dc4b031b3eb1"
      },
      "execution_count": null,
      "outputs": [
        {
          "output_type": "execute_result",
          "data": {
            "text/plain": [
              "<Axes: xlabel='Outcome'>"
            ]
          },
          "metadata": {},
          "execution_count": 33
        },
        {
          "output_type": "display_data",
          "data": {
            "text/plain": [
              "<Figure size 640x480 with 1 Axes>"
            ],
            "image/png": "[encoded data removed]"
          },
          "metadata": {}
        }
      ]
    },
    {
      "cell_type": "markdown",
      "source": [
        "Dataset 2"
      ],
      "metadata": {
        "id": "kFL6ZUVPMGPr"
      }
    },
    {
      "cell_type": "code",
      "source": [
        "sns.boxplot(x='ID', data=df2)"
      ],
      "metadata": {
        "id": "OLbmQHPn_tSm",
        "colab": {
          "base_uri": "https://localhost:8080/",
          "height": 466
        },
        "outputId": "7c45e674-8ba9-4ff4-b20a-b5b28fa8ddb5"
      },
      "execution_count": null,
      "outputs": [
        {
          "output_type": "execute_result",
          "data": {
            "text/plain": [
              "<Axes: xlabel='ID'>"
            ]
          },
          "metadata": {},
          "execution_count": 34
        },
        {
          "output_type": "display_data",
          "data": {
            "text/plain": [
              "<Figure size 640x480 with 1 Axes>"
            ],
            "image/png": "[encoded data removed]"
          },
          "metadata": {}
        }
      ]
    },
    {
      "cell_type": "code",
      "source": [
        "sns.boxplot(x='No_Pation', data=df2)"
      ],
      "metadata": {
        "id": "Vng63AN5_tEp",
        "colab": {
          "base_uri": "https://localhost:8080/",
          "height": 467
        },
        "outputId": "599f2301-ff74-4aea-8f01-a749b9b415c0"
      },
      "execution_count": null,
      "outputs": [
        {
          "output_type": "execute_result",
          "data": {
            "text/plain": [
              "<Axes: xlabel='No_Pation'>"
            ]
          },
          "metadata": {},
          "execution_count": 35
        },
        {
          "output_type": "display_data",
          "data": {
            "text/plain": [
              "<Figure size 640x480 with 1 Axes>"
            ],
            "image/png": "[encoded data removed]"
          },
          "metadata": {}
        }
      ]
    },
    {
      "cell_type": "code",
      "source": [
        "sns.boxplot(x='AGE', data=df2)"
      ],
      "metadata": {
        "id": "fyfpgYZt_s21",
        "colab": {
          "base_uri": "https://localhost:8080/",
          "height": 466
        },
        "outputId": "64ba9371-42d5-43fd-a265-22586f13d450"
      },
      "execution_count": null,
      "outputs": [
        {
          "output_type": "execute_result",
          "data": {
            "text/plain": [
              "<Axes: xlabel='AGE'>"
            ]
          },
          "metadata": {},
          "execution_count": 36
        },
        {
          "output_type": "display_data",
          "data": {
            "text/plain": [
              "<Figure size 640x480 with 1 Axes>"
            ],
            "image/png": "[encoded data removed]"
          },
          "metadata": {}
        }
      ]
    },
    {
      "cell_type": "code",
      "source": [
        "sns.boxplot(x='Urea', data=df2)"
      ],
      "metadata": {
        "id": "468Noiun_smf",
        "colab": {
          "base_uri": "https://localhost:8080/",
          "height": 466
        },
        "outputId": "279df2d7-1f46-4188-a0f7-79366d400f4e"
      },
      "execution_count": null,
      "outputs": [
        {
          "output_type": "execute_result",
          "data": {
            "text/plain": [
              "<Axes: xlabel='Urea'>"
            ]
          },
          "metadata": {},
          "execution_count": 37
        },
        {
          "output_type": "display_data",
          "data": {
            "text/plain": [
              "<Figure size 640x480 with 1 Axes>"
            ],
            "image/png": "[encoded data removed]"
          },
          "metadata": {}
        }
      ]
    },
    {
      "cell_type": "code",
      "source": [
        "sns.boxplot(x='Cr', data=df2)"
      ],
      "metadata": {
        "id": "zw9MI7sv_-1h",
        "colab": {
          "base_uri": "https://localhost:8080/",
          "height": 466
        },
        "outputId": "d6630f6a-fafc-4e91-f99a-8c5fe331359c"
      },
      "execution_count": null,
      "outputs": [
        {
          "output_type": "execute_result",
          "data": {
            "text/plain": [
              "<Axes: xlabel='Cr'>"
            ]
          },
          "metadata": {},
          "execution_count": 38
        },
        {
          "output_type": "display_data",
          "data": {
            "text/plain": [
              "<Figure size 640x480 with 1 Axes>"
            ],
            "image/png": "[encoded data removed]"
          },
          "metadata": {}
        }
      ]
    },
    {
      "cell_type": "code",
      "source": [
        "sns.boxplot(x='HbA1c', data=df2)"
      ],
      "metadata": {
        "id": "ugrWlz4z_-pb",
        "colab": {
          "base_uri": "https://localhost:8080/",
          "height": 466
        },
        "outputId": "84add92d-7da1-4786-f1e7-7d80eeb11b95"
      },
      "execution_count": null,
      "outputs": [
        {
          "output_type": "execute_result",
          "data": {
            "text/plain": [
              "<Axes: xlabel='HbA1c'>"
            ]
          },
          "metadata": {},
          "execution_count": 39
        },
        {
          "output_type": "display_data",
          "data": {
            "text/plain": [
              "<Figure size 640x480 with 1 Axes>"
            ],
            "image/png": "[encoded data removed]"
          },
          "metadata": {}
        }
      ]
    },
    {
      "cell_type": "code",
      "source": [
        "sns.boxplot(x='Chol', data=df2)"
      ],
      "metadata": {
        "id": "6Qyr7Efo_-aU",
        "colab": {
          "base_uri": "https://localhost:8080/",
          "height": 466
        },
        "outputId": "9c8cd5b8-d68d-4617-ee3b-576cd5ec9406"
      },
      "execution_count": null,
      "outputs": [
        {
          "output_type": "execute_result",
          "data": {
            "text/plain": [
              "<Axes: xlabel='Chol'>"
            ]
          },
          "metadata": {},
          "execution_count": 40
        },
        {
          "output_type": "display_data",
          "data": {
            "text/plain": [
              "<Figure size 640x480 with 1 Axes>"
            ],
            "image/png": "[encoded data removed]"
          },
          "metadata": {}
        }
      ]
    },
    {
      "cell_type": "code",
      "source": [
        "sns.boxplot(x='TG', data=df2)"
      ],
      "metadata": {
        "id": "j71uLoYHAGB0",
        "colab": {
          "base_uri": "https://localhost:8080/",
          "height": 466
        },
        "outputId": "523558f4-12a4-4355-eddc-0f00f6c22d4d"
      },
      "execution_count": null,
      "outputs": [
        {
          "output_type": "execute_result",
          "data": {
            "text/plain": [
              "<Axes: xlabel='TG'>"
            ]
          },
          "metadata": {},
          "execution_count": 41
        },
        {
          "output_type": "display_data",
          "data": {
            "text/plain": [
              "<Figure size 640x480 with 1 Axes>"
            ],
            "image/png": "[encoded data removed]"
          },
          "metadata": {}
        }
      ]
    },
    {
      "cell_type": "code",
      "source": [
        "sns.boxplot(x='HDL', data=df2)"
      ],
      "metadata": {
        "id": "cEQ3_OL4AIcU",
        "colab": {
          "base_uri": "https://localhost:8080/",
          "height": 466
        },
        "outputId": "40c56813-8b05-4c10-ff36-8a031ed8eea1"
      },
      "execution_count": null,
      "outputs": [
        {
          "output_type": "execute_result",
          "data": {
            "text/plain": [
              "<Axes: xlabel='HDL'>"
            ]
          },
          "metadata": {},
          "execution_count": 42
        },
        {
          "output_type": "display_data",
          "data": {
            "text/plain": [
              "<Figure size 640x480 with 1 Axes>"
            ],
            "image/png": "[encoded data removed]"
          },
          "metadata": {}
        }
      ]
    },
    {
      "cell_type": "code",
      "source": [
        "sns.boxplot(x='LDL', data=df2)"
      ],
      "metadata": {
        "id": "P7JkUVVgAIG6",
        "colab": {
          "base_uri": "https://localhost:8080/",
          "height": 466
        },
        "outputId": "49ecaf6b-2810-4416-de3d-606377539dca"
      },
      "execution_count": null,
      "outputs": [
        {
          "output_type": "execute_result",
          "data": {
            "text/plain": [
              "<Axes: xlabel='LDL'>"
            ]
          },
          "metadata": {},
          "execution_count": 43
        },
        {
          "output_type": "display_data",
          "data": {
            "text/plain": [
              "<Figure size 640x480 with 1 Axes>"
            ],
            "image/png": "[encoded data removed]"
          },
          "metadata": {}
        }
      ]
    },
    {
      "cell_type": "code",
      "source": [
        "sns.boxplot(x='VLDL', data=df2)"
      ],
      "metadata": {
        "id": "5q9g4qJcARq-",
        "colab": {
          "base_uri": "https://localhost:8080/",
          "height": 466
        },
        "outputId": "0ca6a58b-d7cd-46e3-f1a5-4752f0eab74e"
      },
      "execution_count": null,
      "outputs": [
        {
          "output_type": "execute_result",
          "data": {
            "text/plain": [
              "<Axes: xlabel='VLDL'>"
            ]
          },
          "metadata": {},
          "execution_count": 44
        },
        {
          "output_type": "display_data",
          "data": {
            "text/plain": [
              "<Figure size 640x480 with 1 Axes>"
            ],
            "image/png": "[encoded data removed]"
          },
          "metadata": {}
        }
      ]
    },
    {
      "cell_type": "code",
      "source": [
        "sns.boxplot(x='BMI', data=df2)"
      ],
      "metadata": {
        "id": "W5t_9pgVATuD",
        "colab": {
          "base_uri": "https://localhost:8080/",
          "height": 466
        },
        "outputId": "bce64de2-23ed-472b-ab1d-82445c338720"
      },
      "execution_count": null,
      "outputs": [
        {
          "output_type": "execute_result",
          "data": {
            "text/plain": [
              "<Axes: xlabel='BMI'>"
            ]
          },
          "metadata": {},
          "execution_count": 45
        },
        {
          "output_type": "display_data",
          "data": {
            "text/plain": [
              "<Figure size 640x480 with 1 Axes>"
            ],
            "image/png": "[encoded data removed]"
          },
          "metadata": {}
        }
      ]
    },
    {
      "cell_type": "markdown",
      "source": [
        "## **Analisis :**  \n",
        "Pada dataset kesatu semua atribut memiliki pencilan kecuali atribut outcome. atribut ini tidak memiliki pencilan karena data terdapat pada atribut outcome hanya 0 dan 1. Pada dataset 2 atribut yang memiliki pencilan adalag No_Pation, Age,Urea,Cr, HbA1c,chol,TG,HDL, LDL,VLDL, dan BMI. Sedangkan atribut lainnya pada dataset 2 tidak terdapat pencilan"
      ],
      "metadata": {
        "id": "uZfG-Il0ZhGk"
      }
    },
    {
      "cell_type": "markdown",
      "source": [
        "**Identifikasi Duplikat Data**"
      ],
      "metadata": {
        "id": "zXjYc4MWMmrZ"
      }
    },
    {
      "cell_type": "markdown",
      "source": [
        "Dataset 1"
      ],
      "metadata": {
        "id": "zTClyAhnMrOO"
      }
    },
    {
      "cell_type": "code",
      "source": [
        "df1['Pregnancies'].value_counts()"
      ],
      "metadata": {
        "id": "RSxJTxSqD4Jw",
        "colab": {
          "base_uri": "https://localhost:8080/"
        },
        "outputId": "0b06f965-44b4-433a-e04f-d0af1fe689bd"
      },
      "execution_count": null,
      "outputs": [
        {
          "output_type": "execute_result",
          "data": {
            "text/plain": [
              "1     135\n",
              "0     111\n",
              "2     103\n",
              "3      75\n",
              "4      68\n",
              "5      57\n",
              "6      50\n",
              "7      45\n",
              "8      38\n",
              "9      28\n",
              "10     24\n",
              "11     11\n",
              "13     10\n",
              "12      9\n",
              "14      2\n",
              "15      1\n",
              "17      1\n",
              "Name: Pregnancies, dtype: int64"
            ]
          },
          "metadata": {},
          "execution_count": 46
        }
      ]
    },
    {
      "cell_type": "code",
      "source": [
        "df1['Glucose'].value_counts()"
      ],
      "metadata": {
        "id": "seRifljNNNu3",
        "colab": {
          "base_uri": "https://localhost:8080/"
        },
        "outputId": "e04f7fab-bce4-443a-c7c2-bc94192858f1"
      },
      "execution_count": null,
      "outputs": [
        {
          "output_type": "execute_result",
          "data": {
            "text/plain": [
              "99     17\n",
              "100    17\n",
              "111    14\n",
              "129    14\n",
              "125    14\n",
              "       ..\n",
              "191     1\n",
              "177     1\n",
              "44      1\n",
              "62      1\n",
              "190     1\n",
              "Name: Glucose, Length: 136, dtype: int64"
            ]
          },
          "metadata": {},
          "execution_count": 47
        }
      ]
    },
    {
      "cell_type": "code",
      "source": [
        "df1['BloodPressure'].value_counts()"
      ],
      "metadata": {
        "id": "Wu5NM92WNN_D",
        "colab": {
          "base_uri": "https://localhost:8080/"
        },
        "outputId": "70fc0d93-90a3-4e88-bfed-5da542b6678f"
      },
      "execution_count": null,
      "outputs": [
        {
          "output_type": "execute_result",
          "data": {
            "text/plain": [
              "70     57\n",
              "74     52\n",
              "78     45\n",
              "68     45\n",
              "72     44\n",
              "64     43\n",
              "80     40\n",
              "76     39\n",
              "60     37\n",
              "0      35\n",
              "62     34\n",
              "66     30\n",
              "82     30\n",
              "88     25\n",
              "84     23\n",
              "90     22\n",
              "86     21\n",
              "58     21\n",
              "50     13\n",
              "56     12\n",
              "52     11\n",
              "54     11\n",
              "75      8\n",
              "92      8\n",
              "65      7\n",
              "85      6\n",
              "94      6\n",
              "48      5\n",
              "96      4\n",
              "44      4\n",
              "100     3\n",
              "106     3\n",
              "98      3\n",
              "110     3\n",
              "55      2\n",
              "108     2\n",
              "104     2\n",
              "46      2\n",
              "30      2\n",
              "122     1\n",
              "95      1\n",
              "102     1\n",
              "61      1\n",
              "24      1\n",
              "38      1\n",
              "40      1\n",
              "114     1\n",
              "Name: BloodPressure, dtype: int64"
            ]
          },
          "metadata": {},
          "execution_count": 48
        }
      ]
    },
    {
      "cell_type": "code",
      "source": [
        "df1['SkinThickness'].value_counts()"
      ],
      "metadata": {
        "id": "oZBiR1TCNOSi",
        "colab": {
          "base_uri": "https://localhost:8080/"
        },
        "outputId": "ea3f5b51-a8ee-43c7-ce08-408186471866"
      },
      "execution_count": null,
      "outputs": [
        {
          "output_type": "execute_result",
          "data": {
            "text/plain": [
              "0     227\n",
              "32     31\n",
              "30     27\n",
              "27     23\n",
              "23     22\n",
              "33     20\n",
              "28     20\n",
              "18     20\n",
              "31     19\n",
              "19     18\n",
              "39     18\n",
              "29     17\n",
              "40     16\n",
              "25     16\n",
              "26     16\n",
              "22     16\n",
              "37     16\n",
              "41     15\n",
              "35     15\n",
              "36     14\n",
              "15     14\n",
              "17     14\n",
              "20     13\n",
              "24     12\n",
              "42     11\n",
              "13     11\n",
              "21     10\n",
              "46      8\n",
              "34      8\n",
              "12      7\n",
              "38      7\n",
              "11      6\n",
              "43      6\n",
              "16      6\n",
              "45      6\n",
              "14      6\n",
              "44      5\n",
              "10      5\n",
              "48      4\n",
              "47      4\n",
              "49      3\n",
              "50      3\n",
              "8       2\n",
              "7       2\n",
              "52      2\n",
              "54      2\n",
              "63      1\n",
              "60      1\n",
              "56      1\n",
              "51      1\n",
              "99      1\n",
              "Name: SkinThickness, dtype: int64"
            ]
          },
          "metadata": {},
          "execution_count": 49
        }
      ]
    },
    {
      "cell_type": "code",
      "source": [
        "df1['Insulin'].value_counts()"
      ],
      "metadata": {
        "id": "dO0Tqli2NOkh",
        "colab": {
          "base_uri": "https://localhost:8080/"
        },
        "outputId": "2c2339f5-54a9-4889-9e4d-bbf9485f6c49"
      },
      "execution_count": null,
      "outputs": [
        {
          "output_type": "execute_result",
          "data": {
            "text/plain": [
              "0      374\n",
              "105     11\n",
              "130      9\n",
              "140      9\n",
              "120      8\n",
              "      ... \n",
              "73       1\n",
              "171      1\n",
              "255      1\n",
              "52       1\n",
              "112      1\n",
              "Name: Insulin, Length: 186, dtype: int64"
            ]
          },
          "metadata": {},
          "execution_count": 50
        }
      ]
    },
    {
      "cell_type": "code",
      "source": [
        "df1['BMI'].value_counts()"
      ],
      "metadata": {
        "id": "VPkXOAfSNO1b",
        "colab": {
          "base_uri": "https://localhost:8080/"
        },
        "outputId": "7e5af0dc-5175-4741-a0f8-ad842f59c9d9"
      },
      "execution_count": null,
      "outputs": [
        {
          "output_type": "execute_result",
          "data": {
            "text/plain": [
              "32.0    13\n",
              "31.6    12\n",
              "31.2    12\n",
              "0.0     11\n",
              "32.4    10\n",
              "        ..\n",
              "36.7     1\n",
              "41.8     1\n",
              "42.6     1\n",
              "42.8     1\n",
              "46.3     1\n",
              "Name: BMI, Length: 248, dtype: int64"
            ]
          },
          "metadata": {},
          "execution_count": 51
        }
      ]
    },
    {
      "cell_type": "code",
      "source": [
        "df1['DiabetesPedigreeFunction'].value_counts()"
      ],
      "metadata": {
        "id": "yoNlXBmfNPJI",
        "colab": {
          "base_uri": "https://localhost:8080/"
        },
        "outputId": "c60a74aa-c07e-4aa3-a45b-17a9c57a68db"
      },
      "execution_count": null,
      "outputs": [
        {
          "output_type": "execute_result",
          "data": {
            "text/plain": [
              "0.258    6\n",
              "0.254    6\n",
              "0.268    5\n",
              "0.207    5\n",
              "0.261    5\n",
              "        ..\n",
              "1.353    1\n",
              "0.655    1\n",
              "0.092    1\n",
              "0.926    1\n",
              "0.171    1\n",
              "Name: DiabetesPedigreeFunction, Length: 517, dtype: int64"
            ]
          },
          "metadata": {},
          "execution_count": 52
        }
      ]
    },
    {
      "cell_type": "code",
      "source": [
        "df1['Age'].value_counts()"
      ],
      "metadata": {
        "id": "2HlhRbOmNPbc",
        "colab": {
          "base_uri": "https://localhost:8080/"
        },
        "outputId": "7225b0c3-9caf-4d0a-d748-6b6d957bfbde"
      },
      "execution_count": null,
      "outputs": [
        {
          "output_type": "execute_result",
          "data": {
            "text/plain": [
              "22    72\n",
              "21    63\n",
              "25    48\n",
              "24    46\n",
              "23    38\n",
              "28    35\n",
              "26    33\n",
              "27    32\n",
              "29    29\n",
              "31    24\n",
              "41    22\n",
              "30    21\n",
              "37    19\n",
              "42    18\n",
              "33    17\n",
              "38    16\n",
              "36    16\n",
              "32    16\n",
              "45    15\n",
              "34    14\n",
              "46    13\n",
              "43    13\n",
              "40    13\n",
              "39    12\n",
              "35    10\n",
              "50     8\n",
              "51     8\n",
              "52     8\n",
              "44     8\n",
              "58     7\n",
              "47     6\n",
              "54     6\n",
              "49     5\n",
              "48     5\n",
              "57     5\n",
              "53     5\n",
              "60     5\n",
              "66     4\n",
              "63     4\n",
              "62     4\n",
              "55     4\n",
              "67     3\n",
              "56     3\n",
              "59     3\n",
              "65     3\n",
              "69     2\n",
              "61     2\n",
              "72     1\n",
              "81     1\n",
              "64     1\n",
              "70     1\n",
              "68     1\n",
              "Name: Age, dtype: int64"
            ]
          },
          "metadata": {},
          "execution_count": 53
        }
      ]
    },
    {
      "cell_type": "code",
      "source": [
        "df1['Outcome'].value_counts()"
      ],
      "metadata": {
        "id": "XKprY_bWNPxA",
        "colab": {
          "base_uri": "https://localhost:8080/"
        },
        "outputId": "6252e0c4-0364-4e36-9b18-5b6ca16fb204"
      },
      "execution_count": null,
      "outputs": [
        {
          "output_type": "execute_result",
          "data": {
            "text/plain": [
              "0    500\n",
              "1    268\n",
              "Name: Outcome, dtype: int64"
            ]
          },
          "metadata": {},
          "execution_count": 54
        }
      ]
    },
    {
      "cell_type": "markdown",
      "source": [
        "Dataset 2"
      ],
      "metadata": {
        "id": "GNwMY_jVZXfk"
      }
    },
    {
      "cell_type": "code",
      "source": [
        "df2[\"ID\"].value_counts()"
      ],
      "metadata": {
        "id": "ZvxlDmVy-vf0",
        "colab": {
          "base_uri": "https://localhost:8080/"
        },
        "outputId": "1f88371d-7b41-4cac-a4ac-72afb85246ca"
      },
      "execution_count": null,
      "outputs": [
        {
          "output_type": "execute_result",
          "data": {
            "text/plain": [
              "188    3\n",
              "191    3\n",
              "195    3\n",
              "193    3\n",
              "189    3\n",
              "      ..\n",
              "353    1\n",
              "356    1\n",
              "488    1\n",
              "508    1\n",
              "248    1\n",
              "Name: ID, Length: 800, dtype: int64"
            ]
          },
          "metadata": {},
          "execution_count": 55
        }
      ]
    },
    {
      "cell_type": "code",
      "source": [
        "df2[\"No_Pation\"].value_counts()"
      ],
      "metadata": {
        "id": "q6VKUkzw-13e",
        "colab": {
          "base_uri": "https://localhost:8080/"
        },
        "outputId": "14384e98-5f3a-48b9-944e-c68f33dad759"
      },
      "execution_count": null,
      "outputs": [
        {
          "output_type": "execute_result",
          "data": {
            "text/plain": [
              "454316    27\n",
              "856        2\n",
              "45646      2\n",
              "24033      2\n",
              "48362      2\n",
              "          ..\n",
              "34342      1\n",
              "3275       1\n",
              "34343      1\n",
              "23973      1\n",
              "24054      1\n",
              "Name: No_Pation, Length: 961, dtype: int64"
            ]
          },
          "metadata": {},
          "execution_count": 56
        }
      ]
    },
    {
      "cell_type": "code",
      "source": [
        "df2[\"Gender\"].value_counts()"
      ],
      "metadata": {
        "id": "-Vo5Q0yC-4QF",
        "colab": {
          "base_uri": "https://localhost:8080/"
        },
        "outputId": "fc0fd6f5-b434-46b7-821d-413730d1b2c2"
      },
      "execution_count": null,
      "outputs": [
        {
          "output_type": "execute_result",
          "data": {
            "text/plain": [
              "M    570\n",
              "F    437\n",
              "f      2\n",
              "Name: Gender, dtype: int64"
            ]
          },
          "metadata": {},
          "execution_count": 57
        }
      ]
    },
    {
      "cell_type": "code",
      "source": [
        "df2[\"AGE\"].value_counts()"
      ],
      "metadata": {
        "id": "zhtZ7d5j--JC",
        "colab": {
          "base_uri": "https://localhost:8080/"
        },
        "outputId": "c4765270-a830-4b48-f0dd-430e1430fe7b"
      },
      "execution_count": null,
      "outputs": [
        {
          "output_type": "execute_result",
          "data": {
            "text/plain": [
              "55.0    184\n",
              "60.0     89\n",
              "54.0     84\n",
              "51.0     51\n",
              "61.0     49\n",
              "56.0     48\n",
              "52.0     44\n",
              "50.0     43\n",
              "59.0     32\n",
              "57.0     32\n",
              "58.0     31\n",
              "63.0     29\n",
              "53.0     25\n",
              "30.0     20\n",
              "49.0     19\n",
              "33.0     16\n",
              "45.0     16\n",
              "44.0     13\n",
              "40.0     13\n",
              "66.0     11\n",
              "35.0     11\n",
              "48.0     10\n",
              "42.0     10\n",
              "47.0     10\n",
              "31.0      9\n",
              "39.0      9\n",
              "62.0      9\n",
              "68.0      8\n",
              "43.0      8\n",
              "73.0      8\n",
              "64.0      8\n",
              "67.0      6\n",
              "38.0      6\n",
              "69.0      6\n",
              "34.0      5\n",
              "41.0      5\n",
              "76.0      4\n",
              "77.0      4\n",
              "36.0      4\n",
              "75.0      3\n",
              "28.0      3\n",
              "46.0      3\n",
              "26.0      2\n",
              "70.0      2\n",
              "65.0      2\n",
              "25.0      1\n",
              "79.0      1\n",
              "32.0      1\n",
              "71.0      1\n",
              "Name: AGE, dtype: int64"
            ]
          },
          "metadata": {},
          "execution_count": 58
        }
      ]
    },
    {
      "cell_type": "code",
      "source": [
        "df2[\"Urea\"].value_counts()"
      ],
      "metadata": {
        "id": "uzCwTxWa_A4J",
        "colab": {
          "base_uri": "https://localhost:8080/"
        },
        "outputId": "851bebee-0b3f-488b-ea7e-95ca4cb9cc5b"
      },
      "execution_count": null,
      "outputs": [
        {
          "output_type": "execute_result",
          "data": {
            "text/plain": [
              "4.3     40\n",
              "4.0     38\n",
              "5.0     37\n",
              "4.8     35\n",
              "4.1     35\n",
              "        ..\n",
              "17.1     1\n",
              "1.9      1\n",
              "0.5      1\n",
              "11.3     1\n",
              "14.0     1\n",
              "Name: Urea, Length: 110, dtype: int64"
            ]
          },
          "metadata": {},
          "execution_count": 59
        }
      ]
    },
    {
      "cell_type": "code",
      "source": [
        "df2[\"Cr\"].value_counts()"
      ],
      "metadata": {
        "id": "dor4eohb_DfV",
        "colab": {
          "base_uri": "https://localhost:8080/"
        },
        "outputId": "e018a244-95cd-4324-80f4-92eb3e97c93c"
      },
      "execution_count": null,
      "outputs": [
        {
          "output_type": "execute_result",
          "data": {
            "text/plain": [
              "56.0     55\n",
              "72.0     32\n",
              "55.0     31\n",
              "63.0     27\n",
              "53.0     27\n",
              "         ..\n",
              "179.0     1\n",
              "243.0     1\n",
              "123.0     1\n",
              "203.0     1\n",
              "26.0      1\n",
              "Name: Cr, Length: 113, dtype: int64"
            ]
          },
          "metadata": {},
          "execution_count": 60
        }
      ]
    },
    {
      "cell_type": "code",
      "source": [
        "df2[\"HbA1c\"].value_counts()"
      ],
      "metadata": {
        "id": "O8L1QOCu_G80",
        "colab": {
          "base_uri": "https://localhost:8080/"
        },
        "outputId": "24fdf049-a528-45d1-c517-d08f0b6de90d"
      },
      "execution_count": null,
      "outputs": [
        {
          "output_type": "execute_result",
          "data": {
            "text/plain": [
              "8.00     34\n",
              "7.00     32\n",
              "9.00     32\n",
              "6.80     31\n",
              "4.00     30\n",
              "         ..\n",
              "8.40      1\n",
              "12.90     1\n",
              "2.00      1\n",
              "6.60      1\n",
              "9.96      1\n",
              "Name: HbA1c, Length: 111, dtype: int64"
            ]
          },
          "metadata": {},
          "execution_count": 61
        }
      ]
    },
    {
      "cell_type": "code",
      "source": [
        "df2[\"Chol\"].value_counts()"
      ],
      "metadata": {
        "id": "IIy5JA_O_J-u",
        "colab": {
          "base_uri": "https://localhost:8080/"
        },
        "outputId": "9cb0745c-dc71-41fe-afeb-c89c18c5a6f4"
      },
      "execution_count": null,
      "outputs": [
        {
          "output_type": "execute_result",
          "data": {
            "text/plain": [
              "4.40     55\n",
              "4.90     47\n",
              "5.30     41\n",
              "4.80     40\n",
              "4.20     38\n",
              "         ..\n",
              "9.10      1\n",
              "10.30     1\n",
              "9.30      1\n",
              "0.00      1\n",
              "6.12      1\n",
              "Name: Chol, Length: 77, dtype: int64"
            ]
          },
          "metadata": {},
          "execution_count": 62
        }
      ]
    },
    {
      "cell_type": "code",
      "source": [
        "df2[\"TG\"].value_counts()"
      ],
      "metadata": {
        "id": "mgXYRQE0_NVL",
        "colab": {
          "base_uri": "https://localhost:8080/"
        },
        "outputId": "a5cc3be7-94dc-4e90-c65b-26b7bd012340"
      },
      "execution_count": null,
      "outputs": [
        {
          "output_type": "execute_result",
          "data": {
            "text/plain": [
              "2.1     66\n",
              "2.0     64\n",
              "1.3     52\n",
              "1.5     51\n",
              "1.7     44\n",
              "        ..\n",
              "12.7     1\n",
              "0.5      1\n",
              "6.3      1\n",
              "13.8     1\n",
              "5.7      1\n",
              "Name: TG, Length: 69, dtype: int64"
            ]
          },
          "metadata": {},
          "execution_count": 63
        }
      ]
    },
    {
      "cell_type": "code",
      "source": [
        "df2[\"TG\"].value_counts()"
      ],
      "metadata": {
        "id": "4piC4tQA_QSu",
        "colab": {
          "base_uri": "https://localhost:8080/"
        },
        "outputId": "ad640dc6-4949-4493-e5dd-4cbceec96f16"
      },
      "execution_count": null,
      "outputs": [
        {
          "output_type": "execute_result",
          "data": {
            "text/plain": [
              "2.1     66\n",
              "2.0     64\n",
              "1.3     52\n",
              "1.5     51\n",
              "1.7     44\n",
              "        ..\n",
              "12.7     1\n",
              "0.5      1\n",
              "6.3      1\n",
              "13.8     1\n",
              "5.7      1\n",
              "Name: TG, Length: 69, dtype: int64"
            ]
          },
          "metadata": {},
          "execution_count": 64
        }
      ]
    },
    {
      "cell_type": "code",
      "source": [
        "df2[\"LDL\"].value_counts()"
      ],
      "metadata": {
        "id": "2gsFKMiI_T8r",
        "colab": {
          "base_uri": "https://localhost:8080/"
        },
        "outputId": "2be2032d-53b8-4e5d-a717-a76351e890c6"
      },
      "execution_count": null,
      "outputs": [
        {
          "output_type": "execute_result",
          "data": {
            "text/plain": [
              "2.50    87\n",
              "2.00    55\n",
              "1.70    40\n",
              "1.40    39\n",
              "3.10    38\n",
              "        ..\n",
              "2.04     1\n",
              "6.40     1\n",
              "0.96     1\n",
              "0.30     1\n",
              "5.30     1\n",
              "Name: LDL, Length: 65, dtype: int64"
            ]
          },
          "metadata": {},
          "execution_count": 65
        }
      ]
    },
    {
      "cell_type": "code",
      "source": [
        "df2[\"VLDL\"].value_counts()"
      ],
      "metadata": {
        "id": "VnfxBYvL_Wwt",
        "colab": {
          "base_uri": "https://localhost:8080/"
        },
        "outputId": "86be82ca-75a5-4dce-aca2-c8b3e0c5aca9"
      },
      "execution_count": null,
      "outputs": [
        {
          "output_type": "execute_result",
          "data": {
            "text/plain": [
              "0.9     133\n",
              "0.7      96\n",
              "0.6      80\n",
              "0.8      76\n",
              "1.0      71\n",
              "1.5      63\n",
              "1.1      55\n",
              "0.5      55\n",
              "1.3      45\n",
              "0.4      37\n",
              "2.0      36\n",
              "1.2      34\n",
              "1.4      34\n",
              "0.3      26\n",
              "1.7      26\n",
              "1.6      21\n",
              "1.8      12\n",
              "1.9       8\n",
              "14.0      8\n",
              "12.7      6\n",
              "2.2       5\n",
              "3.1       5\n",
              "8.1       5\n",
              "0.2       5\n",
              "10.4      4\n",
              "2.1       4\n",
              "13.1      4\n",
              "2.4       4\n",
              "2.6       3\n",
              "15.4      3\n",
              "3.0       3\n",
              "0.1       2\n",
              "2.5       2\n",
              "11.3      2\n",
              "3.5       2\n",
              "12.2      2\n",
              "22.2      2\n",
              "31.8      2\n",
              "10.0      2\n",
              "7.2       2\n",
              "9.5       2\n",
              "14.5      2\n",
              "2.8       2\n",
              "9.0       1\n",
              "3.4       1\n",
              "5.8       1\n",
              "7.0       1\n",
              "27.2      1\n",
              "24.5      1\n",
              "4.1       1\n",
              "6.3       1\n",
              "18.1      1\n",
              "19.5      1\n",
              "33.6      1\n",
              "16.3      1\n",
              "31.0      1\n",
              "35.0      1\n",
              "22.7      1\n",
              "5.0       1\n",
              "5.2       1\n",
              "Name: VLDL, dtype: int64"
            ]
          },
          "metadata": {},
          "execution_count": 66
        }
      ]
    },
    {
      "cell_type": "code",
      "source": [
        "df2[\"BMI\"].value_counts()"
      ],
      "metadata": {
        "id": "goDBLXsI_aRk",
        "colab": {
          "base_uri": "https://localhost:8080/"
        },
        "outputId": "aaa75b2d-6a0a-4ee2-dae1-dbdeccb0a76f"
      },
      "execution_count": null,
      "outputs": [
        {
          "output_type": "execute_result",
          "data": {
            "text/plain": [
              "30.0    115\n",
              "33.0    102\n",
              "29.0     73\n",
              "26.0     64\n",
              "24.0     58\n",
              "       ... \n",
              "34.5      1\n",
              "22.5      1\n",
              "19.5      1\n",
              "24.6      1\n",
              "25.6      1\n",
              "Name: BMI, Length: 64, dtype: int64"
            ]
          },
          "metadata": {},
          "execution_count": 67
        }
      ]
    },
    {
      "cell_type": "code",
      "source": [
        "df2[\"CLASS\"].value_counts()"
      ],
      "metadata": {
        "id": "NlGgOSxl_dUp",
        "colab": {
          "base_uri": "https://localhost:8080/"
        },
        "outputId": "2e3ef228-dc2a-46a5-b7b9-b5ca87938720"
      },
      "execution_count": null,
      "outputs": [
        {
          "output_type": "execute_result",
          "data": {
            "text/plain": [
              "Y     840\n",
              "N     102\n",
              "P      53\n",
              "Y      13\n",
              "N       1\n",
              "Name: CLASS, dtype: int64"
            ]
          },
          "metadata": {},
          "execution_count": 68
        }
      ]
    },
    {
      "cell_type": "markdown",
      "source": [
        "**Identifikasi Data Tidak Berimbang**"
      ],
      "metadata": {
        "id": "8Em2RRm8NqV-"
      }
    },
    {
      "cell_type": "code",
      "source": [
        "df1['Pregnancies'].unique()"
      ],
      "metadata": {
        "id": "qceuwI_lDunn",
        "colab": {
          "base_uri": "https://localhost:8080/"
        },
        "outputId": "147160a1-f87f-4f49-a8ae-92b5a9ce9011"
      },
      "execution_count": null,
      "outputs": [
        {
          "output_type": "execute_result",
          "data": {
            "text/plain": [
              "array([ 6,  1,  8,  0,  5,  3, 10,  2,  4,  7,  9, 11, 13, 15, 17, 12, 14])"
            ]
          },
          "metadata": {},
          "execution_count": 69
        }
      ]
    },
    {
      "cell_type": "code",
      "source": [
        "df1['Glucose'].unique()"
      ],
      "metadata": {
        "id": "rnpI-gA3PAJx",
        "colab": {
          "base_uri": "https://localhost:8080/"
        },
        "outputId": "f89573b5-f3d7-41cd-db32-1e58183bf5ec"
      },
      "execution_count": null,
      "outputs": [
        {
          "output_type": "execute_result",
          "data": {
            "text/plain": [
              "array([148,  85, 183,  89, 137, 116,  78, 115, 197, 125, 110, 168, 139,\n",
              "       189, 166, 100, 118, 107, 103, 126,  99, 196, 119, 143, 147,  97,\n",
              "       145, 117, 109, 158,  88,  92, 122, 138, 102,  90, 111, 180, 133,\n",
              "       106, 171, 159, 146,  71, 105, 101, 176, 150,  73, 187,  84,  44,\n",
              "       141, 114,  95, 129,  79,   0,  62, 131, 112, 113,  74,  83, 136,\n",
              "        80, 123,  81, 134, 142, 144,  93, 163, 151,  96, 155,  76, 160,\n",
              "       124, 162, 132, 120, 173, 170, 128, 108, 154,  57, 156, 153, 188,\n",
              "       152, 104,  87,  75, 179, 130, 194, 181, 135, 184, 140, 177, 164,\n",
              "        91, 165,  86, 193, 191, 161, 167,  77, 182, 157, 178,  61,  98,\n",
              "       127,  82,  72, 172,  94, 175, 195,  68, 186, 198, 121,  67, 174,\n",
              "       199,  56, 169, 149,  65, 190])"
            ]
          },
          "metadata": {},
          "execution_count": 70
        }
      ]
    },
    {
      "cell_type": "code",
      "source": [
        "df1['BloodPressure'].unique()"
      ],
      "metadata": {
        "id": "_qiiN7FLPAY9",
        "colab": {
          "base_uri": "https://localhost:8080/"
        },
        "outputId": "06df08b6-f91c-4526-b2db-09b654daeff3"
      },
      "execution_count": null,
      "outputs": [
        {
          "output_type": "execute_result",
          "data": {
            "text/plain": [
              "array([ 72,  66,  64,  40,  74,  50,   0,  70,  96,  92,  80,  60,  84,\n",
              "        30,  88,  90,  94,  76,  82,  75,  58,  78,  68, 110,  56,  62,\n",
              "        85,  86,  48,  44,  65, 108,  55, 122,  54,  52,  98, 104,  95,\n",
              "        46, 102, 100,  61,  24,  38, 106, 114])"
            ]
          },
          "metadata": {},
          "execution_count": 71
        }
      ]
    },
    {
      "cell_type": "code",
      "source": [
        "df1['SkinThickness'].unique()"
      ],
      "metadata": {
        "id": "ScH0Dvq9PAtX",
        "colab": {
          "base_uri": "https://localhost:8080/"
        },
        "outputId": "ea677ad2-261c-4adb-d0d2-bdc6c1c34a8b"
      },
      "execution_count": null,
      "outputs": [
        {
          "output_type": "execute_result",
          "data": {
            "text/plain": [
              "array([35, 29,  0, 23, 32, 45, 19, 47, 38, 30, 41, 33, 26, 15, 36, 11, 31,\n",
              "       37, 42, 25, 18, 24, 39, 27, 21, 34, 10, 60, 13, 20, 22, 28, 54, 40,\n",
              "       51, 56, 14, 17, 50, 44, 12, 46, 16,  7, 52, 43, 48,  8, 49, 63, 99])"
            ]
          },
          "metadata": {},
          "execution_count": 72
        }
      ]
    },
    {
      "cell_type": "code",
      "source": [
        "df1['Insulin'].unique()"
      ],
      "metadata": {
        "id": "63b4nVHLPBCv",
        "colab": {
          "base_uri": "https://localhost:8080/"
        },
        "outputId": "c5a59ba1-3296-49bd-98ab-59ccdad57901"
      },
      "execution_count": null,
      "outputs": [
        {
          "output_type": "execute_result",
          "data": {
            "text/plain": [
              "array([  0,  94, 168,  88, 543, 846, 175, 230,  83,  96, 235, 146, 115,\n",
              "       140, 110, 245,  54, 192, 207,  70, 240,  82,  36,  23, 300, 342,\n",
              "       304, 142, 128,  38, 100,  90, 270,  71, 125, 176,  48,  64, 228,\n",
              "        76, 220,  40, 152,  18, 135, 495,  37,  51,  99, 145, 225,  49,\n",
              "        50,  92, 325,  63, 284, 119, 204, 155, 485,  53, 114, 105, 285,\n",
              "       156,  78, 130,  55,  58, 160, 210, 318,  44, 190, 280,  87, 271,\n",
              "       129, 120, 478,  56,  32, 744, 370,  45, 194, 680, 402, 258, 375,\n",
              "       150,  67,  57, 116, 278, 122, 545,  75,  74, 182, 360, 215, 184,\n",
              "        42, 132, 148, 180, 205,  85, 231,  29,  68,  52, 255, 171,  73,\n",
              "       108,  43, 167, 249, 293,  66, 465,  89, 158,  84,  72,  59,  81,\n",
              "       196, 415, 275, 165, 579, 310,  61, 474, 170, 277,  60,  14,  95,\n",
              "       237, 191, 328, 250, 480, 265, 193,  79,  86, 326, 188, 106,  65,\n",
              "       166, 274,  77, 126, 330, 600, 185,  25,  41, 272, 321, 144,  15,\n",
              "       183,  91,  46, 440, 159, 540, 200, 335, 387,  22, 291, 392, 178,\n",
              "       127, 510,  16, 112])"
            ]
          },
          "metadata": {},
          "execution_count": 73
        }
      ]
    },
    {
      "cell_type": "code",
      "source": [
        "df1['BMI'].unique()"
      ],
      "metadata": {
        "id": "pCVymSrUPBZk",
        "colab": {
          "base_uri": "https://localhost:8080/"
        },
        "outputId": "83df467c-a3bc-465a-c7f1-7caa4b20645e"
      },
      "execution_count": null,
      "outputs": [
        {
          "output_type": "execute_result",
          "data": {
            "text/plain": [
              "array([33.6, 26.6, 23.3, 28.1, 43.1, 25.6, 31. , 35.3, 30.5,  0. , 37.6,\n",
              "       38. , 27.1, 30.1, 25.8, 30. , 45.8, 29.6, 43.3, 34.6, 39.3, 35.4,\n",
              "       39.8, 29. , 36.6, 31.1, 39.4, 23.2, 22.2, 34.1, 36. , 31.6, 24.8,\n",
              "       19.9, 27.6, 24. , 33.2, 32.9, 38.2, 37.1, 34. , 40.2, 22.7, 45.4,\n",
              "       27.4, 42. , 29.7, 28. , 39.1, 19.4, 24.2, 24.4, 33.7, 34.7, 23. ,\n",
              "       37.7, 46.8, 40.5, 41.5, 25. , 25.4, 32.8, 32.5, 42.7, 19.6, 28.9,\n",
              "       28.6, 43.4, 35.1, 32. , 24.7, 32.6, 43.2, 22.4, 29.3, 24.6, 48.8,\n",
              "       32.4, 38.5, 26.5, 19.1, 46.7, 23.8, 33.9, 20.4, 28.7, 49.7, 39. ,\n",
              "       26.1, 22.5, 39.6, 29.5, 34.3, 37.4, 33.3, 31.2, 28.2, 53.2, 34.2,\n",
              "       26.8, 55. , 42.9, 34.5, 27.9, 38.3, 21.1, 33.8, 30.8, 36.9, 39.5,\n",
              "       27.3, 21.9, 40.6, 47.9, 50. , 25.2, 40.9, 37.2, 44.2, 29.9, 31.9,\n",
              "       28.4, 43.5, 32.7, 67.1, 45. , 34.9, 27.7, 35.9, 22.6, 33.1, 30.4,\n",
              "       52.3, 24.3, 22.9, 34.8, 30.9, 40.1, 23.9, 37.5, 35.5, 42.8, 42.6,\n",
              "       41.8, 35.8, 37.8, 28.8, 23.6, 35.7, 36.7, 45.2, 44. , 46.2, 35. ,\n",
              "       43.6, 44.1, 18.4, 29.2, 25.9, 32.1, 36.3, 40. , 25.1, 27.5, 45.6,\n",
              "       27.8, 24.9, 25.3, 37.9, 27. , 26. , 38.7, 20.8, 36.1, 30.7, 32.3,\n",
              "       52.9, 21. , 39.7, 25.5, 26.2, 19.3, 38.1, 23.5, 45.5, 23.1, 39.9,\n",
              "       36.8, 21.8, 41. , 42.2, 34.4, 27.2, 36.5, 29.8, 39.2, 38.4, 36.2,\n",
              "       48.3, 20. , 22.3, 45.7, 23.7, 22.1, 42.1, 42.4, 18.2, 26.4, 45.3,\n",
              "       37. , 24.5, 32.2, 59.4, 21.2, 26.7, 30.2, 46.1, 41.3, 38.8, 35.2,\n",
              "       42.3, 40.7, 46.5, 33.5, 37.3, 30.3, 26.3, 21.7, 36.4, 28.5, 26.9,\n",
              "       38.6, 31.3, 19.5, 20.1, 40.8, 23.4, 28.3, 38.9, 57.3, 35.6, 49.6,\n",
              "       44.6, 24.1, 44.5, 41.2, 49.3, 46.3])"
            ]
          },
          "metadata": {},
          "execution_count": 74
        }
      ]
    },
    {
      "cell_type": "code",
      "source": [
        "df1['DiabetesPedigreeFunction'].unique()"
      ],
      "metadata": {
        "id": "8B6qTEtnPbeP",
        "colab": {
          "base_uri": "https://localhost:8080/"
        },
        "outputId": "7fdbdc3e-e58f-4c41-f8d2-605ff0bad4c0"
      },
      "execution_count": null,
      "outputs": [
        {
          "output_type": "execute_result",
          "data": {
            "text/plain": [
              "array([0.627, 0.351, 0.672, 0.167, 2.288, 0.201, 0.248, 0.134, 0.158,\n",
              "       0.232, 0.191, 0.537, 1.441, 0.398, 0.587, 0.484, 0.551, 0.254,\n",
              "       0.183, 0.529, 0.704, 0.388, 0.451, 0.263, 0.205, 0.257, 0.487,\n",
              "       0.245, 0.337, 0.546, 0.851, 0.267, 0.188, 0.512, 0.966, 0.42 ,\n",
              "       0.665, 0.503, 1.39 , 0.271, 0.696, 0.235, 0.721, 0.294, 1.893,\n",
              "       0.564, 0.586, 0.344, 0.305, 0.491, 0.526, 0.342, 0.467, 0.718,\n",
              "       0.962, 1.781, 0.173, 0.304, 0.27 , 0.699, 0.258, 0.203, 0.855,\n",
              "       0.845, 0.334, 0.189, 0.867, 0.411, 0.583, 0.231, 0.396, 0.14 ,\n",
              "       0.391, 0.37 , 0.307, 0.102, 0.767, 0.237, 0.227, 0.698, 0.178,\n",
              "       0.324, 0.153, 0.165, 0.443, 0.261, 0.277, 0.761, 0.255, 0.13 ,\n",
              "       0.323, 0.356, 0.325, 1.222, 0.179, 0.262, 0.283, 0.93 , 0.801,\n",
              "       0.207, 0.287, 0.336, 0.247, 0.199, 0.543, 0.192, 0.588, 0.539,\n",
              "       0.22 , 0.654, 0.223, 0.759, 0.26 , 0.404, 0.186, 0.278, 0.496,\n",
              "       0.452, 0.403, 0.741, 0.361, 1.114, 0.457, 0.647, 0.088, 0.597,\n",
              "       0.532, 0.703, 0.159, 0.268, 0.286, 0.318, 0.272, 0.572, 0.096,\n",
              "       1.4  , 0.218, 0.085, 0.399, 0.432, 1.189, 0.687, 0.137, 0.637,\n",
              "       0.833, 0.229, 0.817, 0.204, 0.368, 0.743, 0.722, 0.256, 0.709,\n",
              "       0.471, 0.495, 0.18 , 0.542, 0.773, 0.678, 0.719, 0.382, 0.319,\n",
              "       0.19 , 0.956, 0.084, 0.725, 0.299, 0.244, 0.745, 0.615, 1.321,\n",
              "       0.64 , 0.142, 0.374, 0.383, 0.578, 0.136, 0.395, 0.187, 0.905,\n",
              "       0.15 , 0.874, 0.236, 0.787, 0.407, 0.605, 0.151, 0.289, 0.355,\n",
              "       0.29 , 0.375, 0.164, 0.431, 0.742, 0.514, 0.464, 1.224, 1.072,\n",
              "       0.805, 0.209, 0.666, 0.101, 0.198, 0.652, 2.329, 0.089, 0.645,\n",
              "       0.238, 0.394, 0.293, 0.479, 0.686, 0.831, 0.582, 0.446, 0.402,\n",
              "       1.318, 0.329, 1.213, 0.427, 0.282, 0.143, 0.38 , 0.284, 0.249,\n",
              "       0.926, 0.557, 0.092, 0.655, 1.353, 0.612, 0.2  , 0.226, 0.997,\n",
              "       0.933, 1.101, 0.078, 0.24 , 1.136, 0.128, 0.422, 0.251, 0.677,\n",
              "       0.296, 0.454, 0.744, 0.881, 0.28 , 0.259, 0.619, 0.808, 0.34 ,\n",
              "       0.434, 0.757, 0.613, 0.692, 0.52 , 0.412, 0.84 , 0.839, 0.156,\n",
              "       0.215, 0.326, 1.391, 0.875, 0.313, 0.433, 0.626, 1.127, 0.315,\n",
              "       0.345, 0.129, 0.527, 0.197, 0.731, 0.148, 0.123, 0.127, 0.122,\n",
              "       1.476, 0.166, 0.932, 0.343, 0.893, 0.331, 0.472, 0.673, 0.389,\n",
              "       0.485, 0.349, 0.279, 0.346, 0.252, 0.243, 0.58 , 0.559, 0.302,\n",
              "       0.569, 0.378, 0.385, 0.499, 0.306, 0.234, 2.137, 1.731, 0.545,\n",
              "       0.225, 0.816, 0.528, 0.509, 1.021, 0.821, 0.947, 1.268, 0.221,\n",
              "       0.66 , 0.239, 0.949, 0.444, 0.463, 0.803, 1.6  , 0.944, 0.196,\n",
              "       0.241, 0.161, 0.135, 0.376, 1.191, 0.702, 0.674, 1.076, 0.534,\n",
              "       1.095, 0.554, 0.624, 0.219, 0.507, 0.561, 0.421, 0.516, 0.264,\n",
              "       0.328, 0.233, 0.108, 1.138, 0.147, 0.727, 0.435, 0.497, 0.23 ,\n",
              "       0.955, 2.42 , 0.658, 0.33 , 0.51 , 0.285, 0.415, 0.381, 0.832,\n",
              "       0.498, 0.212, 0.364, 1.001, 0.46 , 0.733, 0.416, 0.705, 1.022,\n",
              "       0.269, 0.6  , 0.571, 0.607, 0.17 , 0.21 , 0.126, 0.711, 0.466,\n",
              "       0.162, 0.419, 0.63 , 0.365, 0.536, 1.159, 0.629, 0.292, 0.145,\n",
              "       1.144, 0.174, 0.547, 0.163, 0.738, 0.314, 0.968, 0.409, 0.297,\n",
              "       0.525, 0.154, 0.771, 0.107, 0.493, 0.717, 0.917, 0.501, 1.251,\n",
              "       0.735, 0.804, 0.661, 0.549, 0.825, 0.423, 1.034, 0.16 , 0.341,\n",
              "       0.68 , 0.591, 0.3  , 0.121, 0.502, 0.401, 0.601, 0.748, 0.338,\n",
              "       0.43 , 0.892, 0.813, 0.693, 0.575, 0.371, 0.206, 0.417, 1.154,\n",
              "       0.925, 0.175, 1.699, 0.682, 0.194, 0.4  , 0.1  , 1.258, 0.482,\n",
              "       0.138, 0.593, 0.878, 0.157, 1.282, 0.141, 0.246, 1.698, 1.461,\n",
              "       0.347, 0.362, 0.393, 0.144, 0.732, 0.115, 0.465, 0.649, 0.871,\n",
              "       0.149, 0.695, 0.303, 0.61 , 0.73 , 0.447, 0.455, 0.133, 0.155,\n",
              "       1.162, 1.292, 0.182, 1.394, 0.217, 0.631, 0.88 , 0.614, 0.332,\n",
              "       0.366, 0.181, 0.828, 0.335, 0.856, 0.886, 0.439, 0.253, 0.598,\n",
              "       0.904, 0.483, 0.565, 0.118, 0.177, 0.176, 0.295, 0.441, 0.352,\n",
              "       0.826, 0.97 , 0.595, 0.317, 0.265, 0.646, 0.426, 0.56 , 0.515,\n",
              "       0.453, 0.785, 0.734, 1.174, 0.488, 0.358, 1.096, 0.408, 1.182,\n",
              "       0.222, 1.057, 0.766, 0.171])"
            ]
          },
          "metadata": {},
          "execution_count": 75
        }
      ]
    },
    {
      "cell_type": "code",
      "source": [
        "df1['Age'].unique()"
      ],
      "metadata": {
        "id": "7h4vZ0gHPB19",
        "colab": {
          "base_uri": "https://localhost:8080/"
        },
        "outputId": "0f0dc7c1-c0b9-4056-8f2f-21c23e8ba627"
      },
      "execution_count": null,
      "outputs": [
        {
          "output_type": "execute_result",
          "data": {
            "text/plain": [
              "array([50, 31, 32, 21, 33, 30, 26, 29, 53, 54, 34, 57, 59, 51, 27, 41, 43,\n",
              "       22, 38, 60, 28, 45, 35, 46, 56, 37, 48, 40, 25, 24, 58, 42, 44, 39,\n",
              "       36, 23, 61, 69, 62, 55, 65, 47, 52, 66, 49, 63, 67, 72, 81, 64, 70,\n",
              "       68])"
            ]
          },
          "metadata": {},
          "execution_count": 76
        }
      ]
    },
    {
      "cell_type": "code",
      "source": [
        "df1['Outcome'].unique()"
      ],
      "metadata": {
        "id": "bDIHDH6pPC8F",
        "colab": {
          "base_uri": "https://localhost:8080/"
        },
        "outputId": "eaabe671-ae9d-4a17-81e1-d007705b898b"
      },
      "execution_count": null,
      "outputs": [
        {
          "output_type": "execute_result",
          "data": {
            "text/plain": [
              "array([1, 0])"
            ]
          },
          "metadata": {},
          "execution_count": 78
        }
      ]
    },
    {
      "cell_type": "markdown",
      "source": [
        "Dataset 2"
      ],
      "metadata": {
        "id": "9BEl9VKtN6C9"
      }
    },
    {
      "cell_type": "code",
      "source": [
        "df2['ID'].unique()"
      ],
      "metadata": {
        "id": "91SW6tN3EMMf",
        "colab": {
          "base_uri": "https://localhost:8080/"
        },
        "outputId": "08e3ac0c-7956-40ac-f541-16c9931cb162"
      },
      "execution_count": null,
      "outputs": [
        {
          "output_type": "execute_result",
          "data": {
            "text/plain": [
              "array([502, 735, 420, 680, 504, 634, 721, 421, 670, 759, 636, 788,  82,\n",
              "       132, 402, 566, 596, 676, 729, 742,  64,  97, 126, 390, 458, 470,\n",
              "       494, 564, 696, 106, 138, 315, 650, 678, 699, 703, 708, 719, 740,\n",
              "       741, 746, 794, 219, 255, 450, 626, 664, 704, 799, 210, 237, 318,\n",
              "       620, 640, 668, 701, 174, 276, 345, 482, 630, 789, 348,   7,   9,\n",
              "        10,  42,  47,  71,  72,  83,  88,  89,  96,  98,  99, 102, 134,\n",
              "       137, 139, 141, 143, 144, 145, 147, 149, 150, 153, 154, 157, 161,\n",
              "       165, 166, 171, 180, 181, 182, 186, 190, 197, 435, 472,  85, 710,\n",
              "       429, 702,   4, 189, 201, 285, 393, 468, 492, 496, 498, 684, 700,\n",
              "       716, 366, 399, 490, 500, 672, 690, 718, 264, 464, 466, 686, 688,\n",
              "        16, 705, 709,  19, 123, 476, 682, 706, 754,  68, 342, 712, 715,\n",
              "        12,  20,  41,  60,  79,  81, 133, 135, 146, 152, 178,  18,  24,\n",
              "       675,  39, 474, 648,  48, 656,  57, 658,  69, 662, 714,  87, 231,\n",
              "       505, 654,  61, 127, 228, 674, 744,  58, 108, 198, 357, 588, 666,\n",
              "       698, 753, 110, 113, 119, 122, 452, 652, 660, 673, 162, 168, 580,\n",
              "       694, 790, 140, 375, 426, 453, 534, 612, 692, 717, 725, 777,  67,\n",
              "       109, 351, 552, 685, 750,  31, 129, 173, 176, 179, 183, 185, 195,\n",
              "       316, 646, 187, 188, 191, 194, 200, 203, 411, 520, 622, 758, 206,\n",
              "       600,  76,  86, 209, 212, 215, 218, 221, 224, 227, 438, 456, 510,\n",
              "       602, 772, 230, 233, 236, 239, 242, 252, 312, 614, 647, 739,   1,\n",
              "       243, 245, 251, 254, 257, 258, 260, 263, 266, 306, 536, 577, 655,\n",
              "       734,  37, 159, 269, 272, 462,  15, 275, 278, 281, 282, 405, 463,\n",
              "         3,  36,  46,  59,  91, 120, 284, 287, 290, 293, 296, 299, 302,\n",
              "       305, 308, 475, 484, 528, 723, 730,  21, 160, 184, 273, 311, 314,\n",
              "       317, 320, 323, 326, 329, 332, 423, 427, 503, 546, 597, 778,   6,\n",
              "        65,  73, 177, 222, 297, 335, 338, 341, 344, 347, 350, 353, 356,\n",
              "       488, 508, 616, 100, 163, 359, 362, 365, 368, 509, 521, 270, 354,\n",
              "       371, 374, 377, 380, 383, 386, 430, 526, 642,  55,  56,  75, 118,\n",
              "       307, 339, 372, 389, 392, 395, 398, 401, 404, 407, 410, 413, 416,\n",
              "       419, 483, 516, 530, 563, 615, 422, 425, 428, 628, 635, 783, 431,\n",
              "       432, 434, 437, 440, 443, 486, 707, 787,  62, 444, 446, 449, 511,\n",
              "       598, 651,  63, 478, 601,  33,  74,  92, 156, 549, 578, 417, 445,\n",
              "       467, 738,  49, 238, 594, 608, 771, 158, 587, 653,  22, 220, 234,\n",
              "       241, 593, 196, 300, 396, 447, 495, 629, 748, 769,  51, 111, 202,\n",
              "       657, 112, 151, 757, 261, 265, 336, 355, 542, 613, 683,  30, 244,\n",
              "       406, 408, 793, 798,  13,  17,  45, 192, 346, 384, 460,   5,  54,\n",
              "       387, 761, 763, 262, 397, 681, 749, 321, 381, 727,  27, 175, 286,\n",
              "       512, 555,  94, 249, 295, 394, 638, 737,  14, 105, 333, 369, 385,\n",
              "       649, 677, 784,  38,  84, 557, 604, 439, 493, 606, 376, 617, 216,\n",
              "       477, 775,  32, 232, 480, 487, 767,   2, 279, 618,  52, 409, 609,\n",
              "       469,  28, 103, 104, 378, 481, 522, 776, 267, 280, 382, 544, 559,\n",
              "       624, 762,  29, 117, 155,  80, 499, 773, 268, 271, 288, 403, 679,\n",
              "       755, 766, 142, 330, 720,  70, 538, 556, 695, 774,  53, 136, 363,\n",
              "       501, 540, 592, 603, 167, 289, 550, 558, 584,  66,  95, 661, 667,\n",
              "        78, 517, 561, 585, 116,  90, 164, 518, 259, 747,  23, 204, 448,\n",
              "       687, 298, 352, 451, 541, 553, 565, 582, 590, 752, 121, 170, 309,\n",
              "       532, 610, 659, 724, 782,   8,  11, 246, 736,  34,  93, 240, 128,\n",
              "       358, 539, 570, 589, 791, 796, 310, 327, 337, 360, 361, 631, 441,\n",
              "       554, 562, 581, 591, 623, 291, 514, 586, 507, 574, 235, 334, 465,\n",
              "       513, 595, 575, 751, 213, 506, 573, 473, 560, 459, 643, 663, 214,\n",
              "       324, 731, 223, 303, 567, 576, 641, 722, 568, 599, 697, 531, 644,\n",
              "       364, 373, 388, 732, 745,  25, 328, 607, 665, 107, 524, 792, 797,\n",
              "       131,  43, 294, 768, 779,  77, 645, 412, 572, 125, 569, 621, 172,\n",
              "       340, 632, 217, 292, 711, 130, 349, 537, 795, 800, 101, 391, 527,\n",
              "       633,  44, 579,  26, 571, 433, 454, 199, 639, 229, 400, 713, 728,\n",
              "       193, 274, 442, 455, 457, 619, 627, 765, 551, 124, 331, 343, 535,\n",
              "       756, 786, 283, 471, 479, 545, 253, 148, 548, 250, 379, 414, 583,\n",
              "       225, 726, 370, 114, 489, 529, 547, 764, 780, 525, 226, 523, 115,\n",
              "       256, 743, 319, 424, 485, 689, 770,  50, 301, 367, 304, 785, 207,\n",
              "       637, 691, 533, 625, 733,  40,  35, 205, 247, 169, 497, 313, 605,\n",
              "       611, 211, 693, 277, 461, 322, 208, 760, 325, 543, 436, 519, 418,\n",
              "       491, 415, 515, 781, 671, 669, 248])"
            ]
          },
          "metadata": {},
          "execution_count": 79
        }
      ]
    },
    {
      "cell_type": "code",
      "source": [
        "df2['No_Pation'].unique()"
      ],
      "metadata": {
        "id": "8oDz_KeAEZN-",
        "colab": {
          "base_uri": "https://localhost:8080/"
        },
        "outputId": "13b7d47f-a6a2-438a-81f0-3b558395354a"
      },
      "execution_count": null,
      "outputs": [
        {
          "output_type": "execute_result",
          "data": {
            "text/plain": [
              "array([   17975,    34221,    47975,    87656,    34223,    34224,\n",
              "          34225,    34227,    34229,    34230,    34231,    34232,\n",
              "          46815,    34234,    34235,    34236,    34237,    87654,\n",
              "          34238,    34239,    34240,    12744,    34302,    34282,\n",
              "          34242,    46675,    45566,    34309,    87664,    34245,\n",
              "          34246,    34294, 75435657,    87655,    34290,    34248,\n",
              "          34249,    34298,    34250,    34251,    34299,    34285,\n",
              "          48759,    34293,     6402,    34254,    78554,    34255,\n",
              "          34517,    34257,    34258,    34259,    34260,    34261,\n",
              "          34262,    34295,    34264,    34271,    34273,    34274,\n",
              "          34275,    34277,    34281,    21354,    85922,   568412,\n",
              "           1168,   789566,    85764,    86745,   741741,    21747,\n",
              "           4172,    42585,     8572,    78585,    57252,    45396,\n",
              "          45367,    45388,    45399,    45389,    45374,    45410,\n",
              "          45377,    45390,    45365,    45381,    45382,    45391,\n",
              "          45369,    45392,    45406,    45412,    45383,    45434,\n",
              "         454316,    34241,      463,    46300,    87671,    48036,\n",
              "          87667,    34301,    30383,    45573,    47069,    47496,\n",
              "            298,    13281,    56826,   488496,    87658,    87666,\n",
              "          87674,    11826,    47513,    48969,    23513,    34247,\n",
              "          87661,    87675,    44433,     1111,    26665,    87659,\n",
              "          87660,    20321,    87668,    87670,    26925,    34263,\n",
              "           7402,    87657,    87669,    34296,    29008,    41281,\n",
              "          87672,    87673,      685,    19112,     1655,   546543,\n",
              "            252,     7414,    45366,    45397,    45368,    45378,\n",
              "          45384,    23975,    23977,    23979, 33656789,    23984,\n",
              "          67036,   745326,    23987,   768585,    23990,    97643,\n",
              "          23994,    12543,    34268,    24000,    14389,    23044,\n",
              "         233457,    34278,    34279,    24005,     9860,    34280,\n",
              "          34283,    34284,    34286,    34270,    24007,    34287,\n",
              "          34288,    73566,    34243,    66456,    87665,    34291,\n",
              "          34292,    24009,    24011,    24012,    34253,   780087,\n",
              "         875444, 66467878,    24016,     8644,    34228,    34297,\n",
              "          87663,    34300,    24018,    24019,    24020,    24025,\n",
              "          34226,    41044,    48112,    34305,    34267,    87662,\n",
              "          34306,    34307,    34269,    34222,    46638,    34266,\n",
              "          34308,    34310,    34244,    34252,    34311,    24029,\n",
              "          24030,    24031,    24032,    34312,    24033,    34313,\n",
              "          39963,    34314,    34315,    47586,    24034,    24035,\n",
              "          24036,    24037,    24038,    24039,    34316,    34317,\n",
              "           9423,    34318,    24040,    34319,     9903,    34320,\n",
              "          24041,    24042,    24043,    24044,    24045,    24046,\n",
              "          24047,    13713,    34321,     5432,    34322,    24048,\n",
              "          24049,    24050,    24051,    24052,    17922,    44518,\n",
              "          34323,    75433,    34324,    34325,    23974,    48806,\n",
              "          24053,    24055,    24056,    24057,    34326,    24058,\n",
              "          24059,    24060,     5474,    34327,    34328,    34329,\n",
              "          34330,    34233,    12779,    24061,    24062,    34331,\n",
              "          23976,    24063,    24064,    24065,    34332,    47552,\n",
              "          41420,    23972,    23983,    27988,    46374,    34333,\n",
              "          24066,    24067,    24068,    24069,    24070,    24071,\n",
              "          24072,    24073,    24074,    34334,     3451,    34335,\n",
              "          34336,    34337,    23978,    34338,    45431,    34339,\n",
              "          24075,    24076,    24077,    24078,    24079,    24080,\n",
              "          24081,    24082,      825,    34340,    34341,    34342,\n",
              "           3275,    34343,    23973,    46123,     9575,    34344,\n",
              "          34345,    34346,    24083,    24084,    24085,    24086,\n",
              "          24087,    24088,    24089,    24090,     5609,     6578,\n",
              "          34347,    23985,     8109,    34348,    24091,    24092,\n",
              "          24093,    24094,    34349,     9896,    34350,    34351,\n",
              "          47295,    24095,    24096,    24097,    24098,    24099,\n",
              "          24100,    34352,     5677,  8432454,    34353,    39550,\n",
              "          23996,    23268,    34354,     5980,    34355,    24101,\n",
              "          24102,    24103,    24104,    24105,    24106,    24107,\n",
              "          24108,    24109,    24110,    24111,     4567,     7898,\n",
              "          33450,    34356,   905146,    24112,    24113,    24114,\n",
              "           8554,   754338,    34357,    34358,    24115,    34359,\n",
              "          24116,    24117,    24118,    24119,     2341,    34360,\n",
              "          34361,    46059,    24120,    24121,    34362,     8971,\n",
              "          34363,    23992,     4356,     2345,    23982,    34364,\n",
              "          34365,    24017,    25368,    34366,      632,    34367,\n",
              "          34368,    34369,    34370,    46203,   344454,     6632,\n",
              "          66624,    23998,    34371,    24024,    34372,    34373,\n",
              "          34374,    34375,    23456,    34376,    34377,    48609,\n",
              "          34378,    34379,    34380,    34381,    34382,    34383,\n",
              "          34384,    23988,    24008,    34265,    34385,    34386,\n",
              "          40468,    34387,    49040,    34388,    34389,    41096,\n",
              "          34390,    98023,    94345,    34391,    23981,    34392,\n",
              "          34393,    47555,    34394,    34516,    34395,    34396,\n",
              "          23986,    34397,    41079,    47478,    34398,    35150,\n",
              "          23989,     6093,    17416,    34399,    34400,    47889,\n",
              "          47514,    34401,    34402,    34403,    32336,    34404,\n",
              "          23980,    46202,    45520,    34405,    20098,    34406,\n",
              "          34407,     4369,    48822,    39576,    34408,   744467,\n",
              "          34409,    43261,    24006,    34410,    34411,    34412,\n",
              "          34413,    34414,    34415,    45824,    23999,    45219,\n",
              "          34416,    34417,   876543,    34418,    34419,    54324,\n",
              "          34420,    47415,    64348,    34421,    34422,    34423,\n",
              "          45752,    34424,     7687,    34425,    34426,    44835,\n",
              "           2143,    23457,     2850,    23995,    34427,    34428,\n",
              "          34429,    23991,    34430,    34431,    24003,     1859,\n",
              "          34432,    34433,    34434,     2567,    34435,    49036,\n",
              "          34436,    34437,    34438,    18645,    34439,   356355,\n",
              "          34440,     4035,    34256,    24023,    34441,    34442,\n",
              "          34220,    11868,    48885,    34443,     7363,    34444,\n",
              "          34445,    34446,    34447,    34448,    34449,    34450,\n",
              "          34451,      654,    34452,    34453,    34454,     7747,\n",
              "          34455,    34456,     2570,     8876,    34457,    24027,\n",
              "          23610,      123,     3525,      234,    23993,    46377,\n",
              "          34458,    34459,    23997,    24022,    34460,    34461,\n",
              "          34462,    24010,    24001,    24021,    24026,     2348,\n",
              "          43494,    34463,    26062,    42329,     5237,     1645,\n",
              "          34464,    47157,    34465,    35706,    34466,    34467,\n",
              "            244,      743,      567,     7845,    34468,    34469,\n",
              "          48925,    24028,    34272,     3592,    85653,    34470,\n",
              "          34471,    34472,    45703,    45702,    48817,    34473,\n",
              "          34474,    24002,   345454,    24014,    47768,    34475,\n",
              "          14560,     5325,      355,    34476,    34514,    47177,\n",
              "          43671,    34477,     1218,    34478,    34479,    11590,\n",
              "          98776,    34480,      345,      574,      886,    34481,\n",
              "          34482,    32625,    43604,     3247,      856,    42564,\n",
              "           4509,     1289,    34483,    22261,    34484,    34485,\n",
              "          34486,    34487,    34488,    34303,    34304,    34489,\n",
              "          34490,    35256,    48353,    34491,    34492,    27458,\n",
              "           2094,    34276,    23350,    47175,     7324,    86422,\n",
              "          34493,      532,    34494,    34495,    34496,   853224,\n",
              "          15475,    47337,    34497,    34498,    34499,    42448,\n",
              "          34500,    34501,    34502,    42927,    23356,    34503,\n",
              "          34515,    24015,    27010,    34289,    34504,    34505,\n",
              "          34506,    34507,    10969,      987,    24013,    34508,\n",
              "          98564,    34509,    34510,    56743,    21761,    34511,\n",
              "          34512,    32171,    39807,     2407,    34513,    34518,\n",
              "          42211,    34519,    34520,    34521,    12662,     3034,\n",
              "          34522,    48613,    34523,    48786,    34524,    34525,\n",
              "          34526,    48088,    48567,    47994,    34527,    48312,\n",
              "          34528,   755889,    34529,    34530,    48938,    43539,\n",
              "          34531,     9625,    34532,    34533,    47065,    34534,\n",
              "          34535,    34536,    34537,    34538,    34539,    34540,\n",
              "           3856,    34541,    34542,    48773,    34543,    20794,\n",
              "          48926,    44836,    34544,     1495,    87562,    34545,\n",
              "          34546,    34547,    34548,    34549,    34550,    48858,\n",
              "          34551,    45370,    34552,    34553,    34554,    34555,\n",
              "          34556,    47150,    34557,    34558,    34559,    48704,\n",
              "         985322,    34560,    34561,    45511,    34562,    34563,\n",
              "           4084,    40725,    34564,    34565,    45440,    34566,\n",
              "          34567,    34568,    34569,    48707,    34570,    48362,\n",
              "           1334,    34571,    34572,    34573,    34574,    34575,\n",
              "          34576,    48032,    34577,    48511,    34578,    48086,\n",
              "          34579,    34580,    41248,    18642,    51477,    45308,\n",
              "          79133,   749215,      466,    51567,    65455,    51573,\n",
              "          46545,    14191,    51623,     7523,    51625,    71255,\n",
              "          49220,    51646,    78151,    51677,     5415,     6546,\n",
              "           8851,   878451,    35645,   458451,      451,      215,\n",
              "          12154,     2256,     2156,    21654,   216544,     8451,\n",
              "           6451,     9963,    45215,  1036556,   789451,  4515131,\n",
              "           4534,     5653,    67564,    43534,     6544,     6734,\n",
              "         745654,    65456,    45466,     3456,    65645,      356,\n",
              "         456456,     2335,    34677,    87876,   786745,    65632,\n",
              "           2435,     8978,     4564,     5727,     3858,    71741,\n",
              "           7147,    41741,  8785782,     7175,     5525,   247255,\n",
              "         415787,    85282,   858725,      785,    58587,    75275,\n",
              "          45645,   345456,    46546,     5645,     5464,    24345,\n",
              "         233243,    56345,    45646,    54656,    45643,    67547,\n",
              "        7565435,   865754,    77657,    56567,   565474,    65756,\n",
              "           5676,    75634,   543453,    45447,    45385,    45416,\n",
              "          45386,    45387,    45373,    45427,    45413,    45375,\n",
              "          45380,    45448,    45376,    45451,    45398,    45446,\n",
              "          45393,    45450,    45394,    45449,    45371,    45452,\n",
              "          45395,    45372,    45441,    45411,    45414,    45445,\n",
              "          45364,   834578,     4543,   454317,   876534,    24004,\n",
              "          24054])"
            ]
          },
          "metadata": {},
          "execution_count": 80
        }
      ]
    },
    {
      "cell_type": "code",
      "source": [
        "df2['Gender'].unique()"
      ],
      "metadata": {
        "id": "yXLhHzoVPsB5",
        "colab": {
          "base_uri": "https://localhost:8080/"
        },
        "outputId": "67b112b6-4ef3-48a1-a867-8f72c84f437e"
      },
      "execution_count": null,
      "outputs": [
        {
          "output_type": "execute_result",
          "data": {
            "text/plain": [
              "array(['F', 'M', 'f'], dtype=object)"
            ]
          },
          "metadata": {},
          "execution_count": 81
        }
      ]
    },
    {
      "cell_type": "code",
      "source": [
        "df2['AGE'].unique()"
      ],
      "metadata": {
        "id": "jU_6lIDsPsSo",
        "colab": {
          "base_uri": "https://localhost:8080/"
        },
        "outputId": "bb131007-3ca4-44f6-ef80-ae7640046fd7"
      },
      "execution_count": null,
      "outputs": [
        {
          "output_type": "execute_result",
          "data": {
            "text/plain": [
              "array([50., 26., 33., 45., 48., 43., 32., 31., 30., 49., 42., 39., 41.,\n",
              "       44., 47., 36., 38., 46., 35., 40., 59., 51., 57., 63., 25., 60.,\n",
              "       77., 54., 34., 55., 28., 56., 52., 69., 73., 61., 58., 53., 66.,\n",
              "       68., 62., 64., 67., 70., 79., 76., 65., 75., nan, 71.])"
            ]
          },
          "metadata": {},
          "execution_count": 82
        }
      ]
    },
    {
      "cell_type": "code",
      "source": [
        "df2['Urea'].unique()"
      ],
      "metadata": {
        "id": "rbbaBIiYPsoL",
        "colab": {
          "base_uri": "https://localhost:8080/"
        },
        "outputId": "cee0c07d-a2c2-4dd0-bc39-ea7e52bad69b"
      },
      "execution_count": null,
      "outputs": [
        {
          "output_type": "execute_result",
          "data": {
            "text/plain": [
              "array([ 4.7  ,  4.5  ,  7.1  ,  2.3  ,  2.   ,  2.6  ,  3.6  ,  4.4  ,\n",
              "        3.3  ,  3.   ,  4.6  ,  3.5  ,  5.5  ,  5.9  ,  2.2  ,  3.8  ,\n",
              "       13.5  ,  5.   ,  5.3  ,  4.   ,  3.2  ,  4.8  ,  4.2  ,  4.3  ,\n",
              "        7.5  ,  5.6  ,  6.   ,  3.4  ,  4.1  ,  2.7  ,  5.7  ,  3.7  ,\n",
              "        3.1  ,  2.4  ,  5.4  ,  2.1  ,  3.9  ,  2.8  ,  7.6  ,  6.8  ,\n",
              "        5.2  ,  6.3  ,  6.6  ,  5.8  , 10.   ,  9.6  ,  7.3  , 22.   ,\n",
              "        6.1  , 17.1  ,  7.7  ,  1.8  ,  5.1  ,  9.1  ,  8.5  ,  6.5  ,\n",
              "        4.16 ,  8.7  , 20.8  ,  1.2  ,  2.9  , 14.1  ,  9.9  ,  9.3  ,\n",
              "       11.7  ,  7.8  ,  4.9  ,  8.   , 20.   ,  4.66 , 14.   ,  6.2  ,\n",
              "        5.66 ,  6.66 ,  3.66 , 10.5  ,  7.   ,  6.4  , 10.4  ,  1.9  ,\n",
              "        3.33 ,  8.6  ,  2.5  , 14.5  ,  8.9  ,  6.7  , 11.3  , 11.   ,\n",
              "        0.5  , 13.2  , 24.   , 10.3  ,  7.4  ,  6.833, 11.1  , 13.3  ,\n",
              "        7.9  ,  7.2  ,  1.1  ,  9.   , 14.9  ,  4.33 ,  9.2  , 11.2  ,\n",
              "       38.9  ,  6.9  , 26.4  ,  8.1  ,  8.2  ,  8.8  ,    nan])"
            ]
          },
          "metadata": {},
          "execution_count": 83
        }
      ]
    },
    {
      "cell_type": "code",
      "source": [
        "df2['Cr'].unique()"
      ],
      "metadata": {
        "id": "rJ50t00QPtJJ",
        "colab": {
          "base_uri": "https://localhost:8080/"
        },
        "outputId": "faa0be68-dedd-4508-9ec1-12a0c6928979"
      },
      "execution_count": null,
      "outputs": [
        {
          "output_type": "execute_result",
          "data": {
            "text/plain": [
              "array([ 46.,  62.,  24.,  50.,  47.,  67.,  28.,  55.,  53.,  42.,  54.,\n",
              "        39.,  74., 175.,  73.,  45.,  80.,  99.,  49.,  82.,  70.,  20.,\n",
              "        48.,  31.,  44.,  60.,  57.,  40.,  69.,  52.,  32.,  38.,  85.,\n",
              "        64.,  63.,   6.,  56.,  58.,  88.,  61.,  97., 106.,  35., 123.,\n",
              "        79., 203., 132., 159.,  83.,  81.,  87.,  59.,  75.,  37., 344.,\n",
              "        77.,  65.,  76.,  72.,  96.,  91., 370.,  68.,  23.,  92.,  71.,\n",
              "        93.,  78., 800.,  25.,  34.,  33., 146.,  30., 136., 315.,  66.,\n",
              "        36.,  95., 111.,  41.,  84.,  86., 243., 179., 120.,  51., 130.,\n",
              "       145.,  26.,  89.,  98., 401., 112.,  43., 139.,  22., 107., 230.,\n",
              "        90.,  27.,  29., 126., 327., 101., 198., 228., 168., 114., 194.,\n",
              "        nan, 150., 113., 185.])"
            ]
          },
          "metadata": {},
          "execution_count": 84
        }
      ]
    },
    {
      "cell_type": "code",
      "source": [
        "df2['Chol'].unique()"
      ],
      "metadata": {
        "id": "hGA33BzOPtfK",
        "colab": {
          "base_uri": "https://localhost:8080/"
        },
        "outputId": "63256d8f-b3ca-4879-a6fc-665f84fcd431"
      },
      "execution_count": null,
      "outputs": [
        {
          "output_type": "execute_result",
          "data": {
            "text/plain": [
              "array([ 4.2 ,  3.7 ,  4.9 ,  2.9 ,  3.6 ,  3.8 ,  4.  ,  5.3 ,  5.  ,\n",
              "        4.4 ,  0.5 ,  6.2 ,  4.8 ,  4.6 ,  5.5 ,  2.8 ,  5.6 ,  3.2 ,\n",
              "        6.5 ,  3.  ,  9.5 ,  4.7 ,  5.2 ,  4.3 ,  4.1 ,  3.9 ,  3.1 ,\n",
              "        3.4 ,  7.6 ,  6.3 ,  4.5 ,  2.  ,  0.  ,  5.9 ,  5.4 ,  2.1 ,\n",
              "        6.1 ,  5.7 ,  5.1 ,  6.  ,  6.7 ,  6.8 ,  2.5 ,  2.4 ,  5.8 ,\n",
              "        7.  ,  7.1 ,  6.6 ,  7.2 ,  3.5 ,  2.7 ,  2.6 ,  0.6 ,  8.5 ,\n",
              "        2.3 ,  3.3 ,  8.8 ,  7.3 ,  6.4 ,  6.9 ,  9.9 ,  9.8 ,  9.3 ,\n",
              "        7.9 , 10.3 ,  9.7 ,  9.1 ,  1.2 ,  6.12,  8.4 ,  7.7 ,  9.2 ,\n",
              "        8.1 ,  8.  ,  7.4 ,   nan,  8.6 ,  7.5 ])"
            ]
          },
          "metadata": {},
          "execution_count": 85
        }
      ]
    },
    {
      "cell_type": "code",
      "source": [
        "df2['TG'].unique()"
      ],
      "metadata": {
        "id": "K7RjyUHPPt1T",
        "colab": {
          "base_uri": "https://localhost:8080/"
        },
        "outputId": "0a513160-86d2-4533-9b5e-fb09c90cb691"
      },
      "execution_count": null,
      "outputs": [
        {
          "output_type": "execute_result",
          "data": {
            "text/plain": [
              "array([ 0.9 ,  1.4 ,  1.  ,  1.3 ,  0.8 ,  2.  ,  0.7 ,  1.1 ,  1.7 ,\n",
              "        1.5 ,  1.9 ,  1.8 ,  2.9 ,  0.6 ,  1.2 ,  1.6 ,  2.1 ,  2.3 ,\n",
              "        2.8 ,  5.9 ,  2.5 ,  4.5 ,  2.7 ,  3.5 ,  5.3 ,  3.9 ,  3.7 ,\n",
              "        3.  ,  2.2 ,  2.4 ,  3.8 ,  6.  ,  3.1 ,  3.2 ,  4.4 ,  4.6 ,\n",
              "        4.2 ,  5.1 ,  3.3 ,  3.4 ,  6.8 ,  2.6 ,  2.03,  1.19,  1.91,\n",
              "        4.1 ,  4.3 ,  3.6 ,  4.9 ,  0.3 ,  5.4 ,  5.8 ,  6.7 ,  5.  ,\n",
              "        7.  ,  4.  , 13.8 ,  7.2 ,  6.3 ,  7.7 ,  5.5 ,  0.5 , 12.7 ,\n",
              "        4.7 ,  8.7 ,  8.5 ,  4.8 , 11.6 ,   nan,  5.7 ])"
            ]
          },
          "metadata": {},
          "execution_count": 86
        }
      ]
    },
    {
      "cell_type": "code",
      "source": [
        "df2['HDL'].unique()"
      ],
      "metadata": {
        "id": "b7fKSTqxPuR-",
        "colab": {
          "base_uri": "https://localhost:8080/"
        },
        "outputId": "8245ab53-ef09-4909-fc22-b515a123d1ef"
      },
      "execution_count": null,
      "outputs": [
        {
          "output_type": "execute_result",
          "data": {
            "text/plain": [
              "array([2.4 , 1.1 , 0.8 , 1.  , 0.9 , 1.7 , 1.2 , 1.3 , 1.4 , 1.6 , 0.6 ,\n",
              "       0.7 , 2.3 , 2.1 , 2.  , 0.5 , 4.  , 1.5 , 1.8 , 2.5 , 0.75, 1.9 ,\n",
              "       3.9 , 2.8 , 3.1 , 1.95, 6.6 , 1.08, 6.3 , 0.95, 3.2 , 1.45, 1.75,\n",
              "       0.4 , 1.05, 3.6 , 1.35, 2.6 , 1.03, 3.8 , 0.2 , 3.4 , 1.85, 1.73,\n",
              "       9.9 , 5.  , 9.  , 2.2 ,  nan])"
            ]
          },
          "metadata": {},
          "execution_count": 87
        }
      ]
    },
    {
      "cell_type": "code",
      "source": [
        "df2['LDL'].unique()"
      ],
      "metadata": {
        "id": "ScLr61mdPutp",
        "colab": {
          "base_uri": "https://localhost:8080/"
        },
        "outputId": "0448867f-bcaf-48c4-f439-b6a4964936f1"
      },
      "execution_count": null,
      "outputs": [
        {
          "output_type": "execute_result",
          "data": {
            "text/plain": [
              "array([1.4 , 2.1 , 2.  , 1.5 , 1.6 , 3.7 , 3.8 , 2.7 , 3.2 , 2.2 , 4.1 ,\n",
              "       3.3 , 1.3 , 2.8 , 4.6 , 2.3 , 3.6 , 3.  , 3.5 , 2.4 , 0.9 , 4.2 ,\n",
              "       1.9 , 4.9 , 2.6 , 2.5 , 0.3 , 1.7 , 1.2 , 1.8 , 4.3 , 3.4 , 1.1 ,\n",
              "       3.1 , 1.  , 1.35, 3.9 , 0.8 , 2.9 , 4.5 , 4.7 , 0.6 , 0.7 , 1.95,\n",
              "       9.9 , 4.4 , 5.  , 4.8 , 5.5 , 5.6 , 4.  , 0.75, 0.95, 0.96, 7.5 ,\n",
              "       7.9 , 6.4 , 2.04, 0.5 , 5.9 , 1.04, 5.1 , 1.45, 7.  ,  nan, 5.3 ])"
            ]
          },
          "metadata": {},
          "execution_count": 88
        }
      ]
    },
    {
      "cell_type": "code",
      "source": [
        "df2['VLDL'].unique()"
      ],
      "metadata": {
        "id": "Y-pQwCd2PvRF",
        "colab": {
          "base_uri": "https://localhost:8080/"
        },
        "outputId": "ce44dc3f-2e7e-4fbf-fb97-ec6e7b7e30a1"
      },
      "execution_count": null,
      "outputs": [
        {
          "output_type": "execute_result",
          "data": {
            "text/plain": [
              "array([ 0.5,  0.6,  0.4,  1. ,  0.3,  0.8,  0.7,  1.3,  4.1,  5. , 14.5,\n",
              "        0.2,  1.2,  1.1,  1.4,  0.9,  1.8,  2.4,  1.7,  1.6, 15.4,  8.1,\n",
              "        9.5, 10.4, 12.7,  7.2, 14. , 13.1, 12.2, 10. ,  1.5, 31.8,  3.1,\n",
              "       22.2,  1.9,  0.1,  2.2, 22.7, 35. , 31. ,  2. , 11.3, 16.3, 33.6,\n",
              "        2.6,  2.1, 19.5, 18.1,  6.3,  7. ,  2.8, 24.5,  3.5, 27.2,  2.5,\n",
              "        5.8,  3.4,  9. ,  3. ,  5.2,  nan])"
            ]
          },
          "metadata": {},
          "execution_count": 89
        }
      ]
    },
    {
      "cell_type": "code",
      "source": [
        "df2['BMI'].unique()"
      ],
      "metadata": {
        "id": "P-py02JVPvgR",
        "colab": {
          "base_uri": "https://localhost:8080/"
        },
        "outputId": "f18db28e-c664-4f7a-e50c-34f6ea6503a1"
      },
      "execution_count": null,
      "outputs": [
        {
          "output_type": "execute_result",
          "data": {
            "text/plain": [
              "array([24.  , 23.  , 21.  , 22.  , 19.  , 20.  , 23.5 , 24.5 , 22.5 ,\n",
              "       24.6 , 25.  , 30.  , 31.  , 32.  , 29.  , 28.  , 19.5 , 27.  ,\n",
              "       37.2 , 27.4 , 34.3 , 29.5 , 34.6 , 27.3 , 31.2 , 40.5 , 47.  ,\n",
              "       21.17, 40.  , 28.3 , 31.5 , 37.  , 35.  , 33.  , 39.  , 38.  ,\n",
              "       26.  , 33.9 , 31.4 , 36.  , 34.  , 36.6 , 30.1 , 29.36, 32.9 ,\n",
              "       43.25, 39.18, 34.5 , 33.6 , 34.05, 27.75, 35.2 , 36.11, 38.62,\n",
              "       30.2 , 29.63, 28.36, 47.75, 37.62, 35.16, 27.33, 27.17, 32.65,\n",
              "       25.6 ])"
            ]
          },
          "metadata": {},
          "execution_count": 90
        }
      ]
    },
    {
      "cell_type": "code",
      "source": [
        "df2['CLASS'].unique()"
      ],
      "metadata": {
        "id": "E0Pa6HJaPv3e",
        "colab": {
          "base_uri": "https://localhost:8080/"
        },
        "outputId": "4231ee6c-710c-4b6b-e62e-7a0b5432b9a7"
      },
      "execution_count": null,
      "outputs": [
        {
          "output_type": "execute_result",
          "data": {
            "text/plain": [
              "array(['N', 'N ', 'P', 'Y', 'Y '], dtype=object)"
            ]
          },
          "metadata": {},
          "execution_count": 91
        }
      ]
    },
    {
      "cell_type": "markdown",
      "source": [
        "## **c. Lakukan data cleaning jika teridentifikasi adanya permasalahan data yang ditemukan pada soal no. 1.b**"
      ],
      "metadata": {
        "id": "NHRr0lRkNe77"
      }
    },
    {
      "cell_type": "code",
      "source": [
        "import pandas as pd\n",
        "import seaborn as sns"
      ],
      "metadata": {
        "id": "5V09dnIqPQXy"
      },
      "execution_count": null,
      "outputs": []
    },
    {
      "cell_type": "markdown",
      "source": [
        "**Menampilkan data teratas**"
      ],
      "metadata": {
        "id": "Zpi2hdkMPPaq"
      }
    },
    {
      "cell_type": "markdown",
      "source": [
        "Dataset 1"
      ],
      "metadata": {
        "id": "o2N4vCfDPcR2"
      }
    },
    {
      "cell_type": "code",
      "source": [
        "df1.head()"
      ],
      "metadata": {
        "id": "ehjlZSAUPbxf",
        "colab": {
          "base_uri": "https://localhost:8080/",
          "height": 226
        },
        "outputId": "effe4e2c-822a-466c-d743-eccab86e761d"
      },
      "execution_count": null,
      "outputs": [
        {
          "output_type": "execute_result",
          "data": {
            "text/plain": [
              "   Pregnancies  Glucose  BloodPressure  SkinThickness  Insulin   BMI  \\\n",
              "0            6      148             72             35        0  33.6   \n",
              "1            1       85             66             29        0  26.6   \n",
              "2            8      183             64              0        0  23.3   \n",
              "3            1       89             66             23       94  28.1   \n",
              "4            0      137             40             35      168  43.1   \n",
              "\n",
              "   DiabetesPedigreeFunction  Age  Outcome  \n",
              "0                     0.627   50        1  \n",
              "1                     0.351   31        0  \n",
              "2                     0.672   32        1  \n",
              "3                     0.167   21        0  \n",
              "4                     2.288   33        1  "
            ],
            "text/html": [
              "\n",
              "  <div id=\"df-0bcee3a5-066f-4330-bbd9-e9dd235b5f85\" class=\"colab-df-container\">\n",
              "    <div>\n",
              "<style scoped>\n",
              "    .dataframe tbody tr th:only-of-type {\n",
              "        vertical-align: middle;\n",
              "    }\n",
              "\n",
              "    .dataframe tbody tr th {\n",
              "        vertical-align: top;\n",
              "    }\n",
              "\n",
              "    .dataframe thead th {\n",
              "        text-align: right;\n",
              "    }\n",
              "</style>\n",
              "<table border=\"1\" class=\"dataframe\">\n",
              "  <thead>\n",
              "    <tr style=\"text-align: right;\">\n",
              "      <th></th>\n",
              "      <th>Pregnancies</th>\n",
              "      <th>Glucose</th>\n",
              "      <th>BloodPressure</th>\n",
              "      <th>SkinThickness</th>\n",
              "      <th>Insulin</th>\n",
              "      <th>BMI</th>\n",
              "      <th>DiabetesPedigreeFunction</th>\n",
              "      <th>Age</th>\n",
              "      <th>Outcome</th>\n",
              "    </tr>\n",
              "  </thead>\n",
              "  <tbody>\n",
              "    <tr>\n",
              "      <th>0</th>\n",
              "      <td>6</td>\n",
              "      <td>148</td>\n",
              "      <td>72</td>\n",
              "      <td>35</td>\n",
              "      <td>0</td>\n",
              "      <td>33.6</td>\n",
              "      <td>0.627</td>\n",
              "      <td>50</td>\n",
              "      <td>1</td>\n",
              "    </tr>\n",
              "    <tr>\n",
              "      <th>1</th>\n",
              "      <td>1</td>\n",
              "      <td>85</td>\n",
              "      <td>66</td>\n",
              "      <td>29</td>\n",
              "      <td>0</td>\n",
              "      <td>26.6</td>\n",
              "      <td>0.351</td>\n",
              "      <td>31</td>\n",
              "      <td>0</td>\n",
              "    </tr>\n",
              "    <tr>\n",
              "      <th>2</th>\n",
              "      <td>8</td>\n",
              "      <td>183</td>\n",
              "      <td>64</td>\n",
              "      <td>0</td>\n",
              "      <td>0</td>\n",
              "      <td>23.3</td>\n",
              "      <td>0.672</td>\n",
              "      <td>32</td>\n",
              "      <td>1</td>\n",
              "    </tr>\n",
              "    <tr>\n",
              "      <th>3</th>\n",
              "      <td>1</td>\n",
              "      <td>89</td>\n",
              "      <td>66</td>\n",
              "      <td>23</td>\n",
              "      <td>94</td>\n",
              "      <td>28.1</td>\n",
              "      <td>0.167</td>\n",
              "      <td>21</td>\n",
              "      <td>0</td>\n",
              "    </tr>\n",
              "    <tr>\n",
              "      <th>4</th>\n",
              "      <td>0</td>\n",
              "      <td>137</td>\n",
              "      <td>40</td>\n",
              "      <td>35</td>\n",
              "      <td>168</td>\n",
              "      <td>43.1</td>\n",
              "      <td>2.288</td>\n",
              "      <td>33</td>\n",
              "      <td>1</td>\n",
              "    </tr>\n",
              "  </tbody>\n",
              "</table>\n",
              "</div>\n",
              "    <div class=\"colab-df-buttons\">\n",
              "\n",
              "  <div class=\"colab-df-container\">\n",
              "    <button class=\"colab-df-convert\" onclick=\"convertToInteractive('df-0bcee3a5-066f-4330-bbd9-e9dd235b5f85')\"\n",
              "            title=\"Convert this dataframe to an interactive table.\"\n",
              "            style=\"display:none;\">\n",
              "\n",
              "  <svg xmlns=\"http://www.w3.org/2000/svg\" height=\"24px\" viewBox=\"0 -960 960 960\">\n",
              "    <path d=\"M120-120v-720h720v720H120Zm60-500h600v-160H180v160Zm220 220h160v-160H400v160Zm0 220h160v-160H400v160ZM180-400h160v-160H180v160Zm440 0h160v-160H620v160ZM180-180h160v-160H180v160Zm440 0h160v-160H620v160Z\"/>\n",
              "  </svg>\n",
              "    </button>\n",
              "\n",
              "  <style>\n",
              "    .colab-df-container {\n",
              "      display:flex;\n",
              "      gap: 12px;\n",
              "    }\n",
              "\n",
              "    .colab-df-convert {\n",
              "      background-color: #E8F0FE;\n",
              "      border: none;\n",
              "      border-radius: 50%;\n",
              "      cursor: pointer;\n",
              "      display: none;\n",
              "      fill: #1967D2;\n",
              "      height: 32px;\n",
              "      padding: 0 0 0 0;\n",
              "      width: 32px;\n",
              "    }\n",
              "\n",
              "    .colab-df-convert:hover {\n",
              "      background-color: #E2EBFA;\n",
              "      box-shadow: 0px 1px 2px rgba(60, 64, 67, 0.3), 0px 1px 3px 1px rgba(60, 64, 67, 0.15);\n",
              "      fill: #174EA6;\n",
              "    }\n",
              "\n",
              "    .colab-df-buttons div {\n",
              "      margin-bottom: 4px;\n",
              "    }\n",
              "\n",
              "    [theme=dark] .colab-df-convert {\n",
              "      background-color: #3B4455;\n",
              "      fill: #D2E3FC;\n",
              "    }\n",
              "\n",
              "    [theme=dark] .colab-df-convert:hover {\n",
              "      background-color: #434B5C;\n",
              "      box-shadow: 0px 1px 3px 1px rgba(0, 0, 0, 0.15);\n",
              "      filter: drop-shadow(0px 1px 2px rgba(0, 0, 0, 0.3));\n",
              "      fill: #FFFFFF;\n",
              "    }\n",
              "  </style>\n",
              "\n",
              "    <script>\n",
              "      const buttonEl =\n",
              "        document.querySelector('#df-0bcee3a5-066f-4330-bbd9-e9dd235b5f85 button.colab-df-convert');\n",
              "      buttonEl.style.display =\n",
              "        google.colab.kernel.accessAllowed ? 'block' : 'none';\n",
              "\n",
              "      async function convertToInteractive(key) {\n",
              "        const element = document.querySelector('#df-0bcee3a5-066f-4330-bbd9-e9dd235b5f85');\n",
              "        const dataTable =\n",
              "          await google.colab.kernel.invokeFunction('convertToInteractive',\n",
              "                                                    [key], {});\n",
              "        if (!dataTable) return;\n",
              "\n",
              "        const docLinkHtml = 'Like what you see? Visit the ' +\n",
              "          '<a target=\"_blank\" href=https://colab.research.google.com/notebooks/data_table.ipynb>data table notebook</a>'\n",
              "          + ' to learn more about interactive tables.';\n",
              "        element.innerHTML = '';\n",
              "        dataTable['output_type'] = 'display_data';\n",
              "        await google.colab.output.renderOutput(dataTable, element);\n",
              "        const docLink = document.createElement('div');\n",
              "        docLink.innerHTML = docLinkHtml;\n",
              "        element.appendChild(docLink);\n",
              "      }\n",
              "    </script>\n",
              "  </div>\n",
              "\n",
              "\n",
              "<div id=\"df-53f72bc0-6489-42bc-ab36-dfcce3439478\">\n",
              "  <button class=\"colab-df-quickchart\" onclick=\"quickchart('df-53f72bc0-6489-42bc-ab36-dfcce3439478')\"\n",
              "            title=\"Suggest charts.\"\n",
              "            style=\"display:none;\">\n",
              "\n",
              "<svg xmlns=\"http://www.w3.org/2000/svg\" height=\"24px\"viewBox=\"0 0 24 24\"\n",
              "     width=\"24px\">\n",
              "    <g>\n",
              "        <path d=\"M19 3H5c-1.1 0-2 .9-2 2v14c0 1.1.9 2 2 2h14c1.1 0 2-.9 2-2V5c0-1.1-.9-2-2-2zM9 17H7v-7h2v7zm4 0h-2V7h2v10zm4 0h-2v-4h2v4z\"/>\n",
              "    </g>\n",
              "</svg>\n",
              "  </button>\n",
              "\n",
              "<style>\n",
              "  .colab-df-quickchart {\n",
              "      --bg-color: #E8F0FE;\n",
              "      --fill-color: #1967D2;\n",
              "      --hover-bg-color: #E2EBFA;\n",
              "      --hover-fill-color: #174EA6;\n",
              "      --disabled-fill-color: #AAA;\n",
              "      --disabled-bg-color: #DDD;\n",
              "  }\n",
              "\n",
              "  [theme=dark] .colab-df-quickchart {\n",
              "      --bg-color: #3B4455;\n",
              "      --fill-color: #D2E3FC;\n",
              "      --hover-bg-color: #434B5C;\n",
              "      --hover-fill-color: #FFFFFF;\n",
              "      --disabled-bg-color: #3B4455;\n",
              "      --disabled-fill-color: #666;\n",
              "  }\n",
              "\n",
              "  .colab-df-quickchart {\n",
              "    background-color: var(--bg-color);\n",
              "    border: none;\n",
              "    border-radius: 50%;\n",
              "    cursor: pointer;\n",
              "    display: none;\n",
              "    fill: var(--fill-color);\n",
              "    height: 32px;\n",
              "    padding: 0;\n",
              "    width: 32px;\n",
              "  }\n",
              "\n",
              "  .colab-df-quickchart:hover {\n",
              "    background-color: var(--hover-bg-color);\n",
              "    box-shadow: 0 1px 2px rgba(60, 64, 67, 0.3), 0 1px 3px 1px rgba(60, 64, 67, 0.15);\n",
              "    fill: var(--button-hover-fill-color);\n",
              "  }\n",
              "\n",
              "  .colab-df-quickchart-complete:disabled,\n",
              "  .colab-df-quickchart-complete:disabled:hover {\n",
              "    background-color: var(--disabled-bg-color);\n",
              "    fill: var(--disabled-fill-color);\n",
              "    box-shadow: none;\n",
              "  }\n",
              "\n",
              "  .colab-df-spinner {\n",
              "    border: 2px solid var(--fill-color);\n",
              "    border-color: transparent;\n",
              "    border-bottom-color: var(--fill-color);\n",
              "    animation:\n",
              "      spin 1s steps(1) infinite;\n",
              "  }\n",
              "\n",
              "  @keyframes spin {\n",
              "    0% {\n",
              "      border-color: transparent;\n",
              "      border-bottom-color: var(--fill-color);\n",
              "      border-left-color: var(--fill-color);\n",
              "    }\n",
              "    20% {\n",
              "      border-color: transparent;\n",
              "      border-left-color: var(--fill-color);\n",
              "      border-top-color: var(--fill-color);\n",
              "    }\n",
              "    30% {\n",
              "      border-color: transparent;\n",
              "      border-left-color: var(--fill-color);\n",
              "      border-top-color: var(--fill-color);\n",
              "      border-right-color: var(--fill-color);\n",
              "    }\n",
              "    40% {\n",
              "      border-color: transparent;\n",
              "      border-right-color: var(--fill-color);\n",
              "      border-top-color: var(--fill-color);\n",
              "    }\n",
              "    60% {\n",
              "      border-color: transparent;\n",
              "      border-right-color: var(--fill-color);\n",
              "    }\n",
              "    80% {\n",
              "      border-color: transparent;\n",
              "      border-right-color: var(--fill-color);\n",
              "      border-bottom-color: var(--fill-color);\n",
              "    }\n",
              "    90% {\n",
              "      border-color: transparent;\n",
              "      border-bottom-color: var(--fill-color);\n",
              "    }\n",
              "  }\n",
              "</style>\n",
              "\n",
              "  <script>\n",
              "    async function quickchart(key) {\n",
              "      const quickchartButtonEl =\n",
              "        document.querySelector('#' + key + ' button');\n",
              "      quickchartButtonEl.disabled = true;  // To prevent multiple clicks.\n",
              "      quickchartButtonEl.classList.add('colab-df-spinner');\n",
              "      try {\n",
              "        const charts = await google.colab.kernel.invokeFunction(\n",
              "            'suggestCharts', [key], {});\n",
              "      } catch (error) {\n",
              "        console.error('Error during call to suggestCharts:', error);\n",
              "      }\n",
              "      quickchartButtonEl.classList.remove('colab-df-spinner');\n",
              "      quickchartButtonEl.classList.add('colab-df-quickchart-complete');\n",
              "    }\n",
              "    (() => {\n",
              "      let quickchartButtonEl =\n",
              "        document.querySelector('#df-53f72bc0-6489-42bc-ab36-dfcce3439478 button');\n",
              "      quickchartButtonEl.style.display =\n",
              "        google.colab.kernel.accessAllowed ? 'block' : 'none';\n",
              "    })();\n",
              "  </script>\n",
              "</div>\n",
              "    </div>\n",
              "  </div>\n"
            ]
          },
          "metadata": {},
          "execution_count": 93
        }
      ]
    },
    {
      "cell_type": "markdown",
      "source": [
        "Dataset 2"
      ],
      "metadata": {
        "id": "6UaUQ_KBPgkF"
      }
    },
    {
      "cell_type": "code",
      "source": [
        "df2.head()"
      ],
      "metadata": {
        "id": "cdqzTcIKPibu",
        "colab": {
          "base_uri": "https://localhost:8080/",
          "height": 206
        },
        "outputId": "3e722732-cbc5-4ee6-9b99-8a928eb497bc"
      },
      "execution_count": null,
      "outputs": [
        {
          "output_type": "execute_result",
          "data": {
            "text/plain": [
              "    ID  No_Pation Gender   AGE  Urea    Cr  HbA1c  Chol   TG  HDL  LDL  VLDL  \\\n",
              "0  502      17975      F  50.0   4.7  46.0    4.9   4.2  0.9  2.4  1.4   0.5   \n",
              "1  735      34221      M  26.0   4.5  62.0    4.9   3.7  1.4  1.1  2.1   0.6   \n",
              "2  420      47975      F  50.0   4.7  46.0    4.9   4.2  0.9  2.4  1.4   0.5   \n",
              "3  680      87656      F  50.0   4.7  46.0    4.9   4.2  0.9  2.4  1.4   0.5   \n",
              "4  504      34223      M  33.0   7.1  46.0    4.9   4.9  1.0  0.8  2.0   0.4   \n",
              "\n",
              "    BMI CLASS  \n",
              "0  24.0     N  \n",
              "1  23.0     N  \n",
              "2  24.0     N  \n",
              "3  24.0     N  \n",
              "4  21.0     N  "
            ],
            "text/html": [
              "\n",
              "  <div id=\"df-110205ff-78ec-4e17-b1e0-f66a92e6ae1c\" class=\"colab-df-container\">\n",
              "    <div>\n",
              "<style scoped>\n",
              "    .dataframe tbody tr th:only-of-type {\n",
              "        vertical-align: middle;\n",
              "    }\n",
              "\n",
              "    .dataframe tbody tr th {\n",
              "        vertical-align: top;\n",
              "    }\n",
              "\n",
              "    .dataframe thead th {\n",
              "        text-align: right;\n",
              "    }\n",
              "</style>\n",
              "<table border=\"1\" class=\"dataframe\">\n",
              "  <thead>\n",
              "    <tr style=\"text-align: right;\">\n",
              "      <th></th>\n",
              "      <th>ID</th>\n",
              "      <th>No_Pation</th>\n",
              "      <th>Gender</th>\n",
              "      <th>AGE</th>\n",
              "      <th>Urea</th>\n",
              "      <th>Cr</th>\n",
              "      <th>HbA1c</th>\n",
              "      <th>Chol</th>\n",
              "      <th>TG</th>\n",
              "      <th>HDL</th>\n",
              "      <th>LDL</th>\n",
              "      <th>VLDL</th>\n",
              "      <th>BMI</th>\n",
              "      <th>CLASS</th>\n",
              "    </tr>\n",
              "  </thead>\n",
              "  <tbody>\n",
              "    <tr>\n",
              "      <th>0</th>\n",
              "      <td>502</td>\n",
              "      <td>17975</td>\n",
              "      <td>F</td>\n",
              "      <td>50.0</td>\n",
              "      <td>4.7</td>\n",
              "      <td>46.0</td>\n",
              "      <td>4.9</td>\n",
              "      <td>4.2</td>\n",
              "      <td>0.9</td>\n",
              "      <td>2.4</td>\n",
              "      <td>1.4</td>\n",
              "      <td>0.5</td>\n",
              "      <td>24.0</td>\n",
              "      <td>N</td>\n",
              "    </tr>\n",
              "    <tr>\n",
              "      <th>1</th>\n",
              "      <td>735</td>\n",
              "      <td>34221</td>\n",
              "      <td>M</td>\n",
              "      <td>26.0</td>\n",
              "      <td>4.5</td>\n",
              "      <td>62.0</td>\n",
              "      <td>4.9</td>\n",
              "      <td>3.7</td>\n",
              "      <td>1.4</td>\n",
              "      <td>1.1</td>\n",
              "      <td>2.1</td>\n",
              "      <td>0.6</td>\n",
              "      <td>23.0</td>\n",
              "      <td>N</td>\n",
              "    </tr>\n",
              "    <tr>\n",
              "      <th>2</th>\n",
              "      <td>420</td>\n",
              "      <td>47975</td>\n",
              "      <td>F</td>\n",
              "      <td>50.0</td>\n",
              "      <td>4.7</td>\n",
              "      <td>46.0</td>\n",
              "      <td>4.9</td>\n",
              "      <td>4.2</td>\n",
              "      <td>0.9</td>\n",
              "      <td>2.4</td>\n",
              "      <td>1.4</td>\n",
              "      <td>0.5</td>\n",
              "      <td>24.0</td>\n",
              "      <td>N</td>\n",
              "    </tr>\n",
              "    <tr>\n",
              "      <th>3</th>\n",
              "      <td>680</td>\n",
              "      <td>87656</td>\n",
              "      <td>F</td>\n",
              "      <td>50.0</td>\n",
              "      <td>4.7</td>\n",
              "      <td>46.0</td>\n",
              "      <td>4.9</td>\n",
              "      <td>4.2</td>\n",
              "      <td>0.9</td>\n",
              "      <td>2.4</td>\n",
              "      <td>1.4</td>\n",
              "      <td>0.5</td>\n",
              "      <td>24.0</td>\n",
              "      <td>N</td>\n",
              "    </tr>\n",
              "    <tr>\n",
              "      <th>4</th>\n",
              "      <td>504</td>\n",
              "      <td>34223</td>\n",
              "      <td>M</td>\n",
              "      <td>33.0</td>\n",
              "      <td>7.1</td>\n",
              "      <td>46.0</td>\n",
              "      <td>4.9</td>\n",
              "      <td>4.9</td>\n",
              "      <td>1.0</td>\n",
              "      <td>0.8</td>\n",
              "      <td>2.0</td>\n",
              "      <td>0.4</td>\n",
              "      <td>21.0</td>\n",
              "      <td>N</td>\n",
              "    </tr>\n",
              "  </tbody>\n",
              "</table>\n",
              "</div>\n",
              "    <div class=\"colab-df-buttons\">\n",
              "\n",
              "  <div class=\"colab-df-container\">\n",
              "    <button class=\"colab-df-convert\" onclick=\"convertToInteractive('df-110205ff-78ec-4e17-b1e0-f66a92e6ae1c')\"\n",
              "            title=\"Convert this dataframe to an interactive table.\"\n",
              "            style=\"display:none;\">\n",
              "\n",
              "  <svg xmlns=\"http://www.w3.org/2000/svg\" height=\"24px\" viewBox=\"0 -960 960 960\">\n",
              "    <path d=\"M120-120v-720h720v720H120Zm60-500h600v-160H180v160Zm220 220h160v-160H400v160Zm0 220h160v-160H400v160ZM180-400h160v-160H180v160Zm440 0h160v-160H620v160ZM180-180h160v-160H180v160Zm440 0h160v-160H620v160Z\"/>\n",
              "  </svg>\n",
              "    </button>\n",
              "\n",
              "  <style>\n",
              "    .colab-df-container {\n",
              "      display:flex;\n",
              "      gap: 12px;\n",
              "    }\n",
              "\n",
              "    .colab-df-convert {\n",
              "      background-color: #E8F0FE;\n",
              "      border: none;\n",
              "      border-radius: 50%;\n",
              "      cursor: pointer;\n",
              "      display: none;\n",
              "      fill: #1967D2;\n",
              "      height: 32px;\n",
              "      padding: 0 0 0 0;\n",
              "      width: 32px;\n",
              "    }\n",
              "\n",
              "    .colab-df-convert:hover {\n",
              "      background-color: #E2EBFA;\n",
              "      box-shadow: 0px 1px 2px rgba(60, 64, 67, 0.3), 0px 1px 3px 1px rgba(60, 64, 67, 0.15);\n",
              "      fill: #174EA6;\n",
              "    }\n",
              "\n",
              "    .colab-df-buttons div {\n",
              "      margin-bottom: 4px;\n",
              "    }\n",
              "\n",
              "    [theme=dark] .colab-df-convert {\n",
              "      background-color: #3B4455;\n",
              "      fill: #D2E3FC;\n",
              "    }\n",
              "\n",
              "    [theme=dark] .colab-df-convert:hover {\n",
              "      background-color: #434B5C;\n",
              "      box-shadow: 0px 1px 3px 1px rgba(0, 0, 0, 0.15);\n",
              "      filter: drop-shadow(0px 1px 2px rgba(0, 0, 0, 0.3));\n",
              "      fill: #FFFFFF;\n",
              "    }\n",
              "  </style>\n",
              "\n",
              "    <script>\n",
              "      const buttonEl =\n",
              "        document.querySelector('#df-110205ff-78ec-4e17-b1e0-f66a92e6ae1c button.colab-df-convert');\n",
              "      buttonEl.style.display =\n",
              "        google.colab.kernel.accessAllowed ? 'block' : 'none';\n",
              "\n",
              "      async function convertToInteractive(key) {\n",
              "        const element = document.querySelector('#df-110205ff-78ec-4e17-b1e0-f66a92e6ae1c');\n",
              "        const dataTable =\n",
              "          await google.colab.kernel.invokeFunction('convertToInteractive',\n",
              "                                                    [key], {});\n",
              "        if (!dataTable) return;\n",
              "\n",
              "        const docLinkHtml = 'Like what you see? Visit the ' +\n",
              "          '<a target=\"_blank\" href=https://colab.research.google.com/notebooks/data_table.ipynb>data table notebook</a>'\n",
              "          + ' to learn more about interactive tables.';\n",
              "        element.innerHTML = '';\n",
              "        dataTable['output_type'] = 'display_data';\n",
              "        await google.colab.output.renderOutput(dataTable, element);\n",
              "        const docLink = document.createElement('div');\n",
              "        docLink.innerHTML = docLinkHtml;\n",
              "        element.appendChild(docLink);\n",
              "      }\n",
              "    </script>\n",
              "  </div>\n",
              "\n",
              "\n",
              "<div id=\"df-df3cf581-2710-4cc3-aeb2-ebce09f5c9ca\">\n",
              "  <button class=\"colab-df-quickchart\" onclick=\"quickchart('df-df3cf581-2710-4cc3-aeb2-ebce09f5c9ca')\"\n",
              "            title=\"Suggest charts.\"\n",
              "            style=\"display:none;\">\n",
              "\n",
              "<svg xmlns=\"http://www.w3.org/2000/svg\" height=\"24px\"viewBox=\"0 0 24 24\"\n",
              "     width=\"24px\">\n",
              "    <g>\n",
              "        <path d=\"M19 3H5c-1.1 0-2 .9-2 2v14c0 1.1.9 2 2 2h14c1.1 0 2-.9 2-2V5c0-1.1-.9-2-2-2zM9 17H7v-7h2v7zm4 0h-2V7h2v10zm4 0h-2v-4h2v4z\"/>\n",
              "    </g>\n",
              "</svg>\n",
              "  </button>\n",
              "\n",
              "<style>\n",
              "  .colab-df-quickchart {\n",
              "      --bg-color: #E8F0FE;\n",
              "      --fill-color: #1967D2;\n",
              "      --hover-bg-color: #E2EBFA;\n",
              "      --hover-fill-color: #174EA6;\n",
              "      --disabled-fill-color: #AAA;\n",
              "      --disabled-bg-color: #DDD;\n",
              "  }\n",
              "\n",
              "  [theme=dark] .colab-df-quickchart {\n",
              "      --bg-color: #3B4455;\n",
              "      --fill-color: #D2E3FC;\n",
              "      --hover-bg-color: #434B5C;\n",
              "      --hover-fill-color: #FFFFFF;\n",
              "      --disabled-bg-color: #3B4455;\n",
              "      --disabled-fill-color: #666;\n",
              "  }\n",
              "\n",
              "  .colab-df-quickchart {\n",
              "    background-color: var(--bg-color);\n",
              "    border: none;\n",
              "    border-radius: 50%;\n",
              "    cursor: pointer;\n",
              "    display: none;\n",
              "    fill: var(--fill-color);\n",
              "    height: 32px;\n",
              "    padding: 0;\n",
              "    width: 32px;\n",
              "  }\n",
              "\n",
              "  .colab-df-quickchart:hover {\n",
              "    background-color: var(--hover-bg-color);\n",
              "    box-shadow: 0 1px 2px rgba(60, 64, 67, 0.3), 0 1px 3px 1px rgba(60, 64, 67, 0.15);\n",
              "    fill: var(--button-hover-fill-color);\n",
              "  }\n",
              "\n",
              "  .colab-df-quickchart-complete:disabled,\n",
              "  .colab-df-quickchart-complete:disabled:hover {\n",
              "    background-color: var(--disabled-bg-color);\n",
              "    fill: var(--disabled-fill-color);\n",
              "    box-shadow: none;\n",
              "  }\n",
              "\n",
              "  .colab-df-spinner {\n",
              "    border: 2px solid var(--fill-color);\n",
              "    border-color: transparent;\n",
              "    border-bottom-color: var(--fill-color);\n",
              "    animation:\n",
              "      spin 1s steps(1) infinite;\n",
              "  }\n",
              "\n",
              "  @keyframes spin {\n",
              "    0% {\n",
              "      border-color: transparent;\n",
              "      border-bottom-color: var(--fill-color);\n",
              "      border-left-color: var(--fill-color);\n",
              "    }\n",
              "    20% {\n",
              "      border-color: transparent;\n",
              "      border-left-color: var(--fill-color);\n",
              "      border-top-color: var(--fill-color);\n",
              "    }\n",
              "    30% {\n",
              "      border-color: transparent;\n",
              "      border-left-color: var(--fill-color);\n",
              "      border-top-color: var(--fill-color);\n",
              "      border-right-color: var(--fill-color);\n",
              "    }\n",
              "    40% {\n",
              "      border-color: transparent;\n",
              "      border-right-color: var(--fill-color);\n",
              "      border-top-color: var(--fill-color);\n",
              "    }\n",
              "    60% {\n",
              "      border-color: transparent;\n",
              "      border-right-color: var(--fill-color);\n",
              "    }\n",
              "    80% {\n",
              "      border-color: transparent;\n",
              "      border-right-color: var(--fill-color);\n",
              "      border-bottom-color: var(--fill-color);\n",
              "    }\n",
              "    90% {\n",
              "      border-color: transparent;\n",
              "      border-bottom-color: var(--fill-color);\n",
              "    }\n",
              "  }\n",
              "</style>\n",
              "\n",
              "  <script>\n",
              "    async function quickchart(key) {\n",
              "      const quickchartButtonEl =\n",
              "        document.querySelector('#' + key + ' button');\n",
              "      quickchartButtonEl.disabled = true;  // To prevent multiple clicks.\n",
              "      quickchartButtonEl.classList.add('colab-df-spinner');\n",
              "      try {\n",
              "        const charts = await google.colab.kernel.invokeFunction(\n",
              "            'suggestCharts', [key], {});\n",
              "      } catch (error) {\n",
              "        console.error('Error during call to suggestCharts:', error);\n",
              "      }\n",
              "      quickchartButtonEl.classList.remove('colab-df-spinner');\n",
              "      quickchartButtonEl.classList.add('colab-df-quickchart-complete');\n",
              "    }\n",
              "    (() => {\n",
              "      let quickchartButtonEl =\n",
              "        document.querySelector('#df-df3cf581-2710-4cc3-aeb2-ebce09f5c9ca button');\n",
              "      quickchartButtonEl.style.display =\n",
              "        google.colab.kernel.accessAllowed ? 'block' : 'none';\n",
              "    })();\n",
              "  </script>\n",
              "</div>\n",
              "    </div>\n",
              "  </div>\n"
            ]
          },
          "metadata": {},
          "execution_count": 94
        }
      ]
    },
    {
      "cell_type": "markdown",
      "source": [
        "**Merubah nama kolom atau atribut**"
      ],
      "metadata": {
        "id": "0Cp85LhnPmYe"
      }
    },
    {
      "cell_type": "markdown",
      "source": [
        "Dataset 1"
      ],
      "metadata": {
        "id": "2OQbGO6iSEep"
      }
    },
    {
      "cell_type": "code",
      "source": [
        "df1.rename(columns={\"BloodPressure\":\"Blood_Pressure\"}, inplace=True)"
      ],
      "metadata": {
        "id": "v8a4-uGhPqzt"
      },
      "execution_count": null,
      "outputs": []
    },
    {
      "cell_type": "markdown",
      "source": [
        "Dataset 2"
      ],
      "metadata": {
        "id": "Q_xFfCOdSGqL"
      }
    },
    {
      "cell_type": "code",
      "source": [
        "df2.rename(columns={\"No_Pation\":\"Patients_No\"}, inplace=True)"
      ],
      "metadata": {
        "id": "C3Yk63E_SIll"
      },
      "execution_count": null,
      "outputs": []
    },
    {
      "cell_type": "markdown",
      "source": [
        "**Menampilkan nama kolom terbaru**"
      ],
      "metadata": {
        "id": "kRpGnHJBPwQN"
      }
    },
    {
      "cell_type": "markdown",
      "source": [
        "Dataset 1"
      ],
      "metadata": {
        "id": "WJwuPLOhP_3I"
      }
    },
    {
      "cell_type": "code",
      "source": [
        "df1.columns"
      ],
      "metadata": {
        "id": "7BLc82JxP8Xu",
        "colab": {
          "base_uri": "https://localhost:8080/"
        },
        "outputId": "f443205d-13ea-4ff8-b60e-c8d08f3801c7"
      },
      "execution_count": null,
      "outputs": [
        {
          "output_type": "execute_result",
          "data": {
            "text/plain": [
              "Index(['Pregnancies', 'Glucose', 'Blood_Pressure', 'SkinThickness', 'Insulin',\n",
              "       'BMI', 'DiabetesPedigreeFunction', 'Age', 'Outcome'],\n",
              "      dtype='object')"
            ]
          },
          "metadata": {},
          "execution_count": 97
        }
      ]
    },
    {
      "cell_type": "markdown",
      "source": [
        "Dataset 2"
      ],
      "metadata": {
        "id": "xDEern7qQBZR"
      }
    },
    {
      "cell_type": "code",
      "source": [
        "df2.columns"
      ],
      "metadata": {
        "id": "FZ9F09KlQCb2",
        "colab": {
          "base_uri": "https://localhost:8080/"
        },
        "outputId": "65ccb233-18bd-4650-93a0-a5c094df070b"
      },
      "execution_count": null,
      "outputs": [
        {
          "output_type": "execute_result",
          "data": {
            "text/plain": [
              "Index(['ID', 'Patients_No', 'Gender', 'AGE', 'Urea', 'Cr', 'HbA1c', 'Chol',\n",
              "       'TG', 'HDL', 'LDL', 'VLDL', 'BMI', 'CLASS'],\n",
              "      dtype='object')"
            ]
          },
          "metadata": {},
          "execution_count": 98
        }
      ]
    },
    {
      "cell_type": "markdown",
      "source": [
        "**Melihat ada atau tidaknya missing value**"
      ],
      "metadata": {
        "id": "2nHWxbwvQF_a"
      }
    },
    {
      "cell_type": "markdown",
      "source": [
        "Dataset 1"
      ],
      "metadata": {
        "id": "gU3axVAZQN60"
      }
    },
    {
      "cell_type": "code",
      "source": [
        "df1.isnull().sum()"
      ],
      "metadata": {
        "id": "ulfByF1FQLvq",
        "colab": {
          "base_uri": "https://localhost:8080/"
        },
        "outputId": "c3f6ee48-7e97-4773-855a-d8ac8e2fc8cd"
      },
      "execution_count": null,
      "outputs": [
        {
          "output_type": "execute_result",
          "data": {
            "text/plain": [
              "Pregnancies                 0\n",
              "Glucose                     0\n",
              "Blood_Pressure              0\n",
              "SkinThickness               0\n",
              "Insulin                     0\n",
              "BMI                         0\n",
              "DiabetesPedigreeFunction    0\n",
              "Age                         0\n",
              "Outcome                     0\n",
              "dtype: int64"
            ]
          },
          "metadata": {},
          "execution_count": 99
        }
      ]
    },
    {
      "cell_type": "markdown",
      "source": [
        "Dataset 2"
      ],
      "metadata": {
        "id": "mGwFEgVsQR4I"
      }
    },
    {
      "cell_type": "code",
      "source": [
        "df2.isnull().sum()"
      ],
      "metadata": {
        "id": "BP2uAHK8QTkq",
        "colab": {
          "base_uri": "https://localhost:8080/"
        },
        "outputId": "5ab9b03c-1193-47b7-d025-950d53b9848f"
      },
      "execution_count": null,
      "outputs": [
        {
          "output_type": "execute_result",
          "data": {
            "text/plain": [
              "ID             0\n",
              "Patients_No    0\n",
              "Gender         0\n",
              "AGE            1\n",
              "Urea           1\n",
              "Cr             2\n",
              "HbA1c          3\n",
              "Chol           2\n",
              "TG             2\n",
              "HDL            1\n",
              "LDL            2\n",
              "VLDL           1\n",
              "BMI            0\n",
              "CLASS          0\n",
              "dtype: int64"
            ]
          },
          "metadata": {},
          "execution_count": 100
        }
      ]
    },
    {
      "cell_type": "markdown",
      "source": [
        "**Melihat nilai rata-rata**"
      ],
      "metadata": {
        "id": "MqL7EVCqQVp1"
      }
    },
    {
      "cell_type": "markdown",
      "source": [
        "Dataset 1"
      ],
      "metadata": {
        "id": "vjuYHNDwQZ2x"
      }
    },
    {
      "cell_type": "code",
      "source": [
        "mean_value = df1[\"DiabetesPedigreeFunction\"].mean()\n",
        "mean_value"
      ],
      "metadata": {
        "id": "3Q-qC_97QeEd",
        "colab": {
          "base_uri": "https://localhost:8080/"
        },
        "outputId": "4c6d0d78-796a-4a6a-bcc9-04a12d4d206d"
      },
      "execution_count": null,
      "outputs": [
        {
          "output_type": "execute_result",
          "data": {
            "text/plain": [
              "0.47187630208333325"
            ]
          },
          "metadata": {},
          "execution_count": 101
        }
      ]
    },
    {
      "cell_type": "markdown",
      "source": [
        "Dataset 2"
      ],
      "metadata": {
        "id": "NyYlojcTQff-"
      }
    },
    {
      "cell_type": "code",
      "source": [
        "mean_value = df2[\"HbA1c\"].mean()\n",
        "mean_value"
      ],
      "metadata": {
        "id": "7zERaizyQjE-",
        "colab": {
          "base_uri": "https://localhost:8080/"
        },
        "outputId": "2dae6404-bfba-47e6-d7dc-b814553d6910"
      },
      "execution_count": null,
      "outputs": [
        {
          "output_type": "execute_result",
          "data": {
            "text/plain": [
              "8.284155069582505"
            ]
          },
          "metadata": {},
          "execution_count": 102
        }
      ]
    },
    {
      "cell_type": "markdown",
      "source": [
        "Menghilangkan missing value atribut HbA1c pada dataset 2"
      ],
      "metadata": {
        "id": "gIe7SYkzSkrk"
      }
    },
    {
      "cell_type": "code",
      "source": [
        "df2[\"HbA1c\"].fillna(mean_value, inplace=True)"
      ],
      "metadata": {
        "id": "YeurCXAyStLm"
      },
      "execution_count": null,
      "outputs": []
    },
    {
      "cell_type": "markdown",
      "source": [
        "Menghilangkan missing value secara keseluruhan pada dataset 2"
      ],
      "metadata": {
        "id": "-_-29AtDSzig"
      }
    },
    {
      "cell_type": "code",
      "source": [
        "df2 = df2.dropna()\n",
        "df2.isnull().sum()"
      ],
      "metadata": {
        "id": "hKoFl412S40N",
        "colab": {
          "base_uri": "https://localhost:8080/"
        },
        "outputId": "9785a46c-9208-483a-8d58-ae7515a8477a"
      },
      "execution_count": null,
      "outputs": [
        {
          "output_type": "execute_result",
          "data": {
            "text/plain": [
              "ID             0\n",
              "Patients_No    0\n",
              "Gender         0\n",
              "AGE            0\n",
              "Urea           0\n",
              "Cr             0\n",
              "HbA1c          0\n",
              "Chol           0\n",
              "TG             0\n",
              "HDL            0\n",
              "LDL            0\n",
              "VLDL           0\n",
              "BMI            0\n",
              "CLASS          0\n",
              "dtype: int64"
            ]
          },
          "metadata": {},
          "execution_count": 104
        }
      ]
    },
    {
      "cell_type": "markdown",
      "source": [
        "**Menampilkan informasi mengenai dataframe pada dataset**"
      ],
      "metadata": {
        "id": "rw2EhfHbQnVh"
      }
    },
    {
      "cell_type": "markdown",
      "source": [
        "Dataset 1"
      ],
      "metadata": {
        "id": "dcCFHEtdQwAY"
      }
    },
    {
      "cell_type": "code",
      "source": [
        "df1.info()"
      ],
      "metadata": {
        "id": "CUF-kmioQp_r",
        "colab": {
          "base_uri": "https://localhost:8080/"
        },
        "outputId": "7af929a1-2f7f-4f0e-e955-72024dca535c"
      },
      "execution_count": null,
      "outputs": [
        {
          "output_type": "stream",
          "name": "stdout",
          "text": [
            "<class 'pandas.core.frame.DataFrame'>\n",
            "RangeIndex: 768 entries, 0 to 767\n",
            "Data columns (total 9 columns):\n",
            " #   Column                    Non-Null Count  Dtype  \n",
            "---  ------                    --------------  -----  \n",
            " 0   Pregnancies               768 non-null    int64  \n",
            " 1   Glucose                   768 non-null    int64  \n",
            " 2   Blood_Pressure            768 non-null    int64  \n",
            " 3   SkinThickness             768 non-null    int64  \n",
            " 4   Insulin                   768 non-null    int64  \n",
            " 5   BMI                       768 non-null    float64\n",
            " 6   DiabetesPedigreeFunction  768 non-null    float64\n",
            " 7   Age                       768 non-null    int64  \n",
            " 8   Outcome                   768 non-null    int64  \n",
            "dtypes: float64(2), int64(7)\n",
            "memory usage: 54.1 KB\n"
          ]
        }
      ]
    },
    {
      "cell_type": "markdown",
      "source": [
        "Dataset 2"
      ],
      "metadata": {
        "id": "7GHiX_mmQxhM"
      }
    },
    {
      "cell_type": "code",
      "source": [
        "df2.info()"
      ],
      "metadata": {
        "id": "q4xRynBqQufy",
        "colab": {
          "base_uri": "https://localhost:8080/"
        },
        "outputId": "97a0b69e-c72f-40df-c873-0196427f1c10"
      },
      "execution_count": null,
      "outputs": [
        {
          "output_type": "stream",
          "name": "stdout",
          "text": [
            "<class 'pandas.core.frame.DataFrame'>\n",
            "Int64Index: 997 entries, 0 to 1008\n",
            "Data columns (total 14 columns):\n",
            " #   Column       Non-Null Count  Dtype  \n",
            "---  ------       --------------  -----  \n",
            " 0   ID           997 non-null    int64  \n",
            " 1   Patients_No  997 non-null    int64  \n",
            " 2   Gender       997 non-null    object \n",
            " 3   AGE          997 non-null    float64\n",
            " 4   Urea         997 non-null    float64\n",
            " 5   Cr           997 non-null    float64\n",
            " 6   HbA1c        997 non-null    float64\n",
            " 7   Chol         997 non-null    float64\n",
            " 8   TG           997 non-null    float64\n",
            " 9   HDL          997 non-null    float64\n",
            " 10  LDL          997 non-null    float64\n",
            " 11  VLDL         997 non-null    float64\n",
            " 12  BMI          997 non-null    float64\n",
            " 13  CLASS        997 non-null    object \n",
            "dtypes: float64(10), int64(2), object(2)\n",
            "memory usage: 116.8+ KB\n"
          ]
        }
      ]
    },
    {
      "cell_type": "markdown",
      "source": [
        "**Menghitung jumlah BMI yang telah digunakan**"
      ],
      "metadata": {
        "id": "nWE6jhKeQ1DD"
      }
    },
    {
      "cell_type": "code",
      "source": [
        "df1.groupby('BMI')['BMI'].agg(\"count\")"
      ],
      "metadata": {
        "id": "4GCOIKLeQ48F",
        "colab": {
          "base_uri": "https://localhost:8080/"
        },
        "outputId": "f54584fe-49fc-4ade-d595-990400f301d4"
      },
      "execution_count": null,
      "outputs": [
        {
          "output_type": "execute_result",
          "data": {
            "text/plain": [
              "BMI\n",
              "0.0     11\n",
              "18.2     3\n",
              "18.4     1\n",
              "19.1     1\n",
              "19.3     1\n",
              "        ..\n",
              "53.2     1\n",
              "55.0     1\n",
              "57.3     1\n",
              "59.4     1\n",
              "67.1     1\n",
              "Name: BMI, Length: 248, dtype: int64"
            ]
          },
          "metadata": {},
          "execution_count": 107
        }
      ]
    },
    {
      "cell_type": "markdown",
      "source": [
        "**Melihat data unik**"
      ],
      "metadata": {
        "id": "CuHQPbb7RCpI"
      }
    },
    {
      "cell_type": "markdown",
      "source": [
        "Dataset 1"
      ],
      "metadata": {
        "id": "T4dFU9P-RIEW"
      }
    },
    {
      "cell_type": "code",
      "source": [
        "df1['BMI'].unique()"
      ],
      "metadata": {
        "id": "G3bv1LQXRJx4",
        "colab": {
          "base_uri": "https://localhost:8080/"
        },
        "outputId": "2b9c83aa-dbc4-4cad-bf0a-78d59815002d"
      },
      "execution_count": null,
      "outputs": [
        {
          "output_type": "execute_result",
          "data": {
            "text/plain": [
              "array([33.6, 26.6, 23.3, 28.1, 43.1, 25.6, 31. , 35.3, 30.5,  0. , 37.6,\n",
              "       38. , 27.1, 30.1, 25.8, 30. , 45.8, 29.6, 43.3, 34.6, 39.3, 35.4,\n",
              "       39.8, 29. , 36.6, 31.1, 39.4, 23.2, 22.2, 34.1, 36. , 31.6, 24.8,\n",
              "       19.9, 27.6, 24. , 33.2, 32.9, 38.2, 37.1, 34. , 40.2, 22.7, 45.4,\n",
              "       27.4, 42. , 29.7, 28. , 39.1, 19.4, 24.2, 24.4, 33.7, 34.7, 23. ,\n",
              "       37.7, 46.8, 40.5, 41.5, 25. , 25.4, 32.8, 32.5, 42.7, 19.6, 28.9,\n",
              "       28.6, 43.4, 35.1, 32. , 24.7, 32.6, 43.2, 22.4, 29.3, 24.6, 48.8,\n",
              "       32.4, 38.5, 26.5, 19.1, 46.7, 23.8, 33.9, 20.4, 28.7, 49.7, 39. ,\n",
              "       26.1, 22.5, 39.6, 29.5, 34.3, 37.4, 33.3, 31.2, 28.2, 53.2, 34.2,\n",
              "       26.8, 55. , 42.9, 34.5, 27.9, 38.3, 21.1, 33.8, 30.8, 36.9, 39.5,\n",
              "       27.3, 21.9, 40.6, 47.9, 50. , 25.2, 40.9, 37.2, 44.2, 29.9, 31.9,\n",
              "       28.4, 43.5, 32.7, 67.1, 45. , 34.9, 27.7, 35.9, 22.6, 33.1, 30.4,\n",
              "       52.3, 24.3, 22.9, 34.8, 30.9, 40.1, 23.9, 37.5, 35.5, 42.8, 42.6,\n",
              "       41.8, 35.8, 37.8, 28.8, 23.6, 35.7, 36.7, 45.2, 44. , 46.2, 35. ,\n",
              "       43.6, 44.1, 18.4, 29.2, 25.9, 32.1, 36.3, 40. , 25.1, 27.5, 45.6,\n",
              "       27.8, 24.9, 25.3, 37.9, 27. , 26. , 38.7, 20.8, 36.1, 30.7, 32.3,\n",
              "       52.9, 21. , 39.7, 25.5, 26.2, 19.3, 38.1, 23.5, 45.5, 23.1, 39.9,\n",
              "       36.8, 21.8, 41. , 42.2, 34.4, 27.2, 36.5, 29.8, 39.2, 38.4, 36.2,\n",
              "       48.3, 20. , 22.3, 45.7, 23.7, 22.1, 42.1, 42.4, 18.2, 26.4, 45.3,\n",
              "       37. , 24.5, 32.2, 59.4, 21.2, 26.7, 30.2, 46.1, 41.3, 38.8, 35.2,\n",
              "       42.3, 40.7, 46.5, 33.5, 37.3, 30.3, 26.3, 21.7, 36.4, 28.5, 26.9,\n",
              "       38.6, 31.3, 19.5, 20.1, 40.8, 23.4, 28.3, 38.9, 57.3, 35.6, 49.6,\n",
              "       44.6, 24.1, 44.5, 41.2, 49.3, 46.3])"
            ]
          },
          "metadata": {},
          "execution_count": 108
        }
      ]
    },
    {
      "cell_type": "code",
      "source": [
        "import numpy as np\n",
        "q11,q31 = np.percentile(df1['Pregnancies'],[25,27])\n",
        "s1 = q31+q11\n",
        "bal = q31+(1.5*s1)\n",
        "bwl=q11-(1.5*s1)\n",
        "print(q11)\n",
        "print(q31)\n",
        "print(s1)\n",
        "print(bal)\n",
        "print(bwl)"
      ],
      "metadata": {
        "id": "U-oLspHsyTff",
        "colab": {
          "base_uri": "https://localhost:8080/"
        },
        "outputId": "7314b8a9-64ef-465c-e2de-f7fcccf09661"
      },
      "execution_count": null,
      "outputs": [
        {
          "output_type": "stream",
          "name": "stdout",
          "text": [
            "1.0\n",
            "1.0\n",
            "2.0\n",
            "4.0\n",
            "-2.0\n"
          ]
        }
      ]
    },
    {
      "cell_type": "code",
      "source": [
        "dt1 = df1[(df1['Pregnancies']<bwl) | (df1['Pregnancies']>bal)]\n",
        "dt1"
      ],
      "metadata": {
        "id": "iHENwcvSyTxf",
        "colab": {
          "base_uri": "https://localhost:8080/",
          "height": 444
        },
        "outputId": "c4212662-8d99-49be-8de0-4fed7f2298e2"
      },
      "execution_count": null,
      "outputs": [
        {
          "output_type": "execute_result",
          "data": {
            "text/plain": [
              "     Pregnancies  Glucose  Blood_Pressure  SkinThickness  Insulin   BMI  \\\n",
              "0              6      148              72             35        0  33.6   \n",
              "2              8      183              64              0        0  23.3   \n",
              "5              5      116              74              0        0  25.6   \n",
              "7             10      115               0              0        0  35.3   \n",
              "9              8      125              96              0        0   0.0   \n",
              "..           ...      ...             ...            ...      ...   ...   \n",
              "759            6      190              92              0        0  35.5   \n",
              "761            9      170              74             31        0  44.0   \n",
              "762            9       89              62              0        0  22.5   \n",
              "763           10      101              76             48      180  32.9   \n",
              "765            5      121              72             23      112  26.2   \n",
              "\n",
              "     DiabetesPedigreeFunction  Age  Outcome  \n",
              "0                       0.627   50        1  \n",
              "2                       0.672   32        1  \n",
              "5                       0.201   30        0  \n",
              "7                       0.134   29        0  \n",
              "9                       0.232   54        1  \n",
              "..                        ...  ...      ...  \n",
              "759                     0.278   66        1  \n",
              "761                     0.403   43        1  \n",
              "762                     0.142   33        0  \n",
              "763                     0.171   63        0  \n",
              "765                     0.245   30        0  \n",
              "\n",
              "[276 rows x 9 columns]"
            ],
            "text/html": [
              "\n",
              "  <div id=\"df-7d7f2e2d-07df-4b31-a700-3f2b60fc8be2\" class=\"colab-df-container\">\n",
              "    <div>\n",
              "<style scoped>\n",
              "    .dataframe tbody tr th:only-of-type {\n",
              "        vertical-align: middle;\n",
              "    }\n",
              "\n",
              "    .dataframe tbody tr th {\n",
              "        vertical-align: top;\n",
              "    }\n",
              "\n",
              "    .dataframe thead th {\n",
              "        text-align: right;\n",
              "    }\n",
              "</style>\n",
              "<table border=\"1\" class=\"dataframe\">\n",
              "  <thead>\n",
              "    <tr style=\"text-align: right;\">\n",
              "      <th></th>\n",
              "      <th>Pregnancies</th>\n",
              "      <th>Glucose</th>\n",
              "      <th>Blood_Pressure</th>\n",
              "      <th>SkinThickness</th>\n",
              "      <th>Insulin</th>\n",
              "      <th>BMI</th>\n",
              "      <th>DiabetesPedigreeFunction</th>\n",
              "      <th>Age</th>\n",
              "      <th>Outcome</th>\n",
              "    </tr>\n",
              "  </thead>\n",
              "  <tbody>\n",
              "    <tr>\n",
              "      <th>0</th>\n",
              "      <td>6</td>\n",
              "      <td>148</td>\n",
              "      <td>72</td>\n",
              "      <td>35</td>\n",
              "      <td>0</td>\n",
              "      <td>33.6</td>\n",
              "      <td>0.627</td>\n",
              "      <td>50</td>\n",
              "      <td>1</td>\n",
              "    </tr>\n",
              "    <tr>\n",
              "      <th>2</th>\n",
              "      <td>8</td>\n",
              "      <td>183</td>\n",
              "      <td>64</td>\n",
              "      <td>0</td>\n",
              "      <td>0</td>\n",
              "      <td>23.3</td>\n",
              "      <td>0.672</td>\n",
              "      <td>32</td>\n",
              "      <td>1</td>\n",
              "    </tr>\n",
              "    <tr>\n",
              "      <th>5</th>\n",
              "      <td>5</td>\n",
              "      <td>116</td>\n",
              "      <td>74</td>\n",
              "      <td>0</td>\n",
              "      <td>0</td>\n",
              "      <td>25.6</td>\n",
              "      <td>0.201</td>\n",
              "      <td>30</td>\n",
              "      <td>0</td>\n",
              "    </tr>\n",
              "    <tr>\n",
              "      <th>7</th>\n",
              "      <td>10</td>\n",
              "      <td>115</td>\n",
              "      <td>0</td>\n",
              "      <td>0</td>\n",
              "      <td>0</td>\n",
              "      <td>35.3</td>\n",
              "      <td>0.134</td>\n",
              "      <td>29</td>\n",
              "      <td>0</td>\n",
              "    </tr>\n",
              "    <tr>\n",
              "      <th>9</th>\n",
              "      <td>8</td>\n",
              "      <td>125</td>\n",
              "      <td>96</td>\n",
              "      <td>0</td>\n",
              "      <td>0</td>\n",
              "      <td>0.0</td>\n",
              "      <td>0.232</td>\n",
              "      <td>54</td>\n",
              "      <td>1</td>\n",
              "    </tr>\n",
              "    <tr>\n",
              "      <th>...</th>\n",
              "      <td>...</td>\n",
              "      <td>...</td>\n",
              "      <td>...</td>\n",
              "      <td>...</td>\n",
              "      <td>...</td>\n",
              "      <td>...</td>\n",
              "      <td>...</td>\n",
              "      <td>...</td>\n",
              "      <td>...</td>\n",
              "    </tr>\n",
              "    <tr>\n",
              "      <th>759</th>\n",
              "      <td>6</td>\n",
              "      <td>190</td>\n",
              "      <td>92</td>\n",
              "      <td>0</td>\n",
              "      <td>0</td>\n",
              "      <td>35.5</td>\n",
              "      <td>0.278</td>\n",
              "      <td>66</td>\n",
              "      <td>1</td>\n",
              "    </tr>\n",
              "    <tr>\n",
              "      <th>761</th>\n",
              "      <td>9</td>\n",
              "      <td>170</td>\n",
              "      <td>74</td>\n",
              "      <td>31</td>\n",
              "      <td>0</td>\n",
              "      <td>44.0</td>\n",
              "      <td>0.403</td>\n",
              "      <td>43</td>\n",
              "      <td>1</td>\n",
              "    </tr>\n",
              "    <tr>\n",
              "      <th>762</th>\n",
              "      <td>9</td>\n",
              "      <td>89</td>\n",
              "      <td>62</td>\n",
              "      <td>0</td>\n",
              "      <td>0</td>\n",
              "      <td>22.5</td>\n",
              "      <td>0.142</td>\n",
              "      <td>33</td>\n",
              "      <td>0</td>\n",
              "    </tr>\n",
              "    <tr>\n",
              "      <th>763</th>\n",
              "      <td>10</td>\n",
              "      <td>101</td>\n",
              "      <td>76</td>\n",
              "      <td>48</td>\n",
              "      <td>180</td>\n",
              "      <td>32.9</td>\n",
              "      <td>0.171</td>\n",
              "      <td>63</td>\n",
              "      <td>0</td>\n",
              "    </tr>\n",
              "    <tr>\n",
              "      <th>765</th>\n",
              "      <td>5</td>\n",
              "      <td>121</td>\n",
              "      <td>72</td>\n",
              "      <td>23</td>\n",
              "      <td>112</td>\n",
              "      <td>26.2</td>\n",
              "      <td>0.245</td>\n",
              "      <td>30</td>\n",
              "      <td>0</td>\n",
              "    </tr>\n",
              "  </tbody>\n",
              "</table>\n",
              "<p>276 rows × 9 columns</p>\n",
              "</div>\n",
              "    <div class=\"colab-df-buttons\">\n",
              "\n",
              "  <div class=\"colab-df-container\">\n",
              "    <button class=\"colab-df-convert\" onclick=\"convertToInteractive('df-7d7f2e2d-07df-4b31-a700-3f2b60fc8be2')\"\n",
              "            title=\"Convert this dataframe to an interactive table.\"\n",
              "            style=\"display:none;\">\n",
              "\n",
              "  <svg xmlns=\"http://www.w3.org/2000/svg\" height=\"24px\" viewBox=\"0 -960 960 960\">\n",
              "    <path d=\"M120-120v-720h720v720H120Zm60-500h600v-160H180v160Zm220 220h160v-160H400v160Zm0 220h160v-160H400v160ZM180-400h160v-160H180v160Zm440 0h160v-160H620v160ZM180-180h160v-160H180v160Zm440 0h160v-160H620v160Z\"/>\n",
              "  </svg>\n",
              "    </button>\n",
              "\n",
              "  <style>\n",
              "    .colab-df-container {\n",
              "      display:flex;\n",
              "      gap: 12px;\n",
              "    }\n",
              "\n",
              "    .colab-df-convert {\n",
              "      background-color: #E8F0FE;\n",
              "      border: none;\n",
              "      border-radius: 50%;\n",
              "      cursor: pointer;\n",
              "      display: none;\n",
              "      fill: #1967D2;\n",
              "      height: 32px;\n",
              "      padding: 0 0 0 0;\n",
              "      width: 32px;\n",
              "    }\n",
              "\n",
              "    .colab-df-convert:hover {\n",
              "      background-color: #E2EBFA;\n",
              "      box-shadow: 0px 1px 2px rgba(60, 64, 67, 0.3), 0px 1px 3px 1px rgba(60, 64, 67, 0.15);\n",
              "      fill: #174EA6;\n",
              "    }\n",
              "\n",
              "    .colab-df-buttons div {\n",
              "      margin-bottom: 4px;\n",
              "    }\n",
              "\n",
              "    [theme=dark] .colab-df-convert {\n",
              "      background-color: #3B4455;\n",
              "      fill: #D2E3FC;\n",
              "    }\n",
              "\n",
              "    [theme=dark] .colab-df-convert:hover {\n",
              "      background-color: #434B5C;\n",
              "      box-shadow: 0px 1px 3px 1px rgba(0, 0, 0, 0.15);\n",
              "      filter: drop-shadow(0px 1px 2px rgba(0, 0, 0, 0.3));\n",
              "      fill: #FFFFFF;\n",
              "    }\n",
              "  </style>\n",
              "\n",
              "    <script>\n",
              "      const buttonEl =\n",
              "        document.querySelector('#df-7d7f2e2d-07df-4b31-a700-3f2b60fc8be2 button.colab-df-convert');\n",
              "      buttonEl.style.display =\n",
              "        google.colab.kernel.accessAllowed ? 'block' : 'none';\n",
              "\n",
              "      async function convertToInteractive(key) {\n",
              "        const element = document.querySelector('#df-7d7f2e2d-07df-4b31-a700-3f2b60fc8be2');\n",
              "        const dataTable =\n",
              "          await google.colab.kernel.invokeFunction('convertToInteractive',\n",
              "                                                    [key], {});\n",
              "        if (!dataTable) return;\n",
              "\n",
              "        const docLinkHtml = 'Like what you see? Visit the ' +\n",
              "          '<a target=\"_blank\" href=https://colab.research.google.com/notebooks/data_table.ipynb>data table notebook</a>'\n",
              "          + ' to learn more about interactive tables.';\n",
              "        element.innerHTML = '';\n",
              "        dataTable['output_type'] = 'display_data';\n",
              "        await google.colab.output.renderOutput(dataTable, element);\n",
              "        const docLink = document.createElement('div');\n",
              "        docLink.innerHTML = docLinkHtml;\n",
              "        element.appendChild(docLink);\n",
              "      }\n",
              "    </script>\n",
              "  </div>\n",
              "\n",
              "\n",
              "<div id=\"df-b649862b-e6d1-4fad-bc59-83f8a2cd7c91\">\n",
              "  <button class=\"colab-df-quickchart\" onclick=\"quickchart('df-b649862b-e6d1-4fad-bc59-83f8a2cd7c91')\"\n",
              "            title=\"Suggest charts.\"\n",
              "            style=\"display:none;\">\n",
              "\n",
              "<svg xmlns=\"http://www.w3.org/2000/svg\" height=\"24px\"viewBox=\"0 0 24 24\"\n",
              "     width=\"24px\">\n",
              "    <g>\n",
              "        <path d=\"M19 3H5c-1.1 0-2 .9-2 2v14c0 1.1.9 2 2 2h14c1.1 0 2-.9 2-2V5c0-1.1-.9-2-2-2zM9 17H7v-7h2v7zm4 0h-2V7h2v10zm4 0h-2v-4h2v4z\"/>\n",
              "    </g>\n",
              "</svg>\n",
              "  </button>\n",
              "\n",
              "<style>\n",
              "  .colab-df-quickchart {\n",
              "      --bg-color: #E8F0FE;\n",
              "      --fill-color: #1967D2;\n",
              "      --hover-bg-color: #E2EBFA;\n",
              "      --hover-fill-color: #174EA6;\n",
              "      --disabled-fill-color: #AAA;\n",
              "      --disabled-bg-color: #DDD;\n",
              "  }\n",
              "\n",
              "  [theme=dark] .colab-df-quickchart {\n",
              "      --bg-color: #3B4455;\n",
              "      --fill-color: #D2E3FC;\n",
              "      --hover-bg-color: #434B5C;\n",
              "      --hover-fill-color: #FFFFFF;\n",
              "      --disabled-bg-color: #3B4455;\n",
              "      --disabled-fill-color: #666;\n",
              "  }\n",
              "\n",
              "  .colab-df-quickchart {\n",
              "    background-color: var(--bg-color);\n",
              "    border: none;\n",
              "    border-radius: 50%;\n",
              "    cursor: pointer;\n",
              "    display: none;\n",
              "    fill: var(--fill-color);\n",
              "    height: 32px;\n",
              "    padding: 0;\n",
              "    width: 32px;\n",
              "  }\n",
              "\n",
              "  .colab-df-quickchart:hover {\n",
              "    background-color: var(--hover-bg-color);\n",
              "    box-shadow: 0 1px 2px rgba(60, 64, 67, 0.3), 0 1px 3px 1px rgba(60, 64, 67, 0.15);\n",
              "    fill: var(--button-hover-fill-color);\n",
              "  }\n",
              "\n",
              "  .colab-df-quickchart-complete:disabled,\n",
              "  .colab-df-quickchart-complete:disabled:hover {\n",
              "    background-color: var(--disabled-bg-color);\n",
              "    fill: var(--disabled-fill-color);\n",
              "    box-shadow: none;\n",
              "  }\n",
              "\n",
              "  .colab-df-spinner {\n",
              "    border: 2px solid var(--fill-color);\n",
              "    border-color: transparent;\n",
              "    border-bottom-color: var(--fill-color);\n",
              "    animation:\n",
              "      spin 1s steps(1) infinite;\n",
              "  }\n",
              "\n",
              "  @keyframes spin {\n",
              "    0% {\n",
              "      border-color: transparent;\n",
              "      border-bottom-color: var(--fill-color);\n",
              "      border-left-color: var(--fill-color);\n",
              "    }\n",
              "    20% {\n",
              "      border-color: transparent;\n",
              "      border-left-color: var(--fill-color);\n",
              "      border-top-color: var(--fill-color);\n",
              "    }\n",
              "    30% {\n",
              "      border-color: transparent;\n",
              "      border-left-color: var(--fill-color);\n",
              "      border-top-color: var(--fill-color);\n",
              "      border-right-color: var(--fill-color);\n",
              "    }\n",
              "    40% {\n",
              "      border-color: transparent;\n",
              "      border-right-color: var(--fill-color);\n",
              "      border-top-color: var(--fill-color);\n",
              "    }\n",
              "    60% {\n",
              "      border-color: transparent;\n",
              "      border-right-color: var(--fill-color);\n",
              "    }\n",
              "    80% {\n",
              "      border-color: transparent;\n",
              "      border-right-color: var(--fill-color);\n",
              "      border-bottom-color: var(--fill-color);\n",
              "    }\n",
              "    90% {\n",
              "      border-color: transparent;\n",
              "      border-bottom-color: var(--fill-color);\n",
              "    }\n",
              "  }\n",
              "</style>\n",
              "\n",
              "  <script>\n",
              "    async function quickchart(key) {\n",
              "      const quickchartButtonEl =\n",
              "        document.querySelector('#' + key + ' button');\n",
              "      quickchartButtonEl.disabled = true;  // To prevent multiple clicks.\n",
              "      quickchartButtonEl.classList.add('colab-df-spinner');\n",
              "      try {\n",
              "        const charts = await google.colab.kernel.invokeFunction(\n",
              "            'suggestCharts', [key], {});\n",
              "      } catch (error) {\n",
              "        console.error('Error during call to suggestCharts:', error);\n",
              "      }\n",
              "      quickchartButtonEl.classList.remove('colab-df-spinner');\n",
              "      quickchartButtonEl.classList.add('colab-df-quickchart-complete');\n",
              "    }\n",
              "    (() => {\n",
              "      let quickchartButtonEl =\n",
              "        document.querySelector('#df-b649862b-e6d1-4fad-bc59-83f8a2cd7c91 button');\n",
              "      quickchartButtonEl.style.display =\n",
              "        google.colab.kernel.accessAllowed ? 'block' : 'none';\n",
              "    })();\n",
              "  </script>\n",
              "</div>\n",
              "    </div>\n",
              "  </div>\n"
            ]
          },
          "metadata": {},
          "execution_count": 111
        }
      ]
    },
    {
      "cell_type": "code",
      "source": [
        "data2 = df1.drop([88,159,298,455])"
      ],
      "metadata": {
        "id": "_vV8bA3M3SA2"
      },
      "execution_count": null,
      "outputs": []
    },
    {
      "cell_type": "code",
      "source": [
        "data2.info()"
      ],
      "metadata": {
        "id": "0tLGonN63a4k",
        "colab": {
          "base_uri": "https://localhost:8080/"
        },
        "outputId": "197d2fd0-5033-4e95-facd-4ab912a7869d"
      },
      "execution_count": null,
      "outputs": [
        {
          "output_type": "stream",
          "name": "stdout",
          "text": [
            "<class 'pandas.core.frame.DataFrame'>\n",
            "Int64Index: 764 entries, 0 to 767\n",
            "Data columns (total 9 columns):\n",
            " #   Column                    Non-Null Count  Dtype  \n",
            "---  ------                    --------------  -----  \n",
            " 0   Pregnancies               764 non-null    int64  \n",
            " 1   Glucose                   764 non-null    int64  \n",
            " 2   Blood_Pressure            764 non-null    int64  \n",
            " 3   SkinThickness             764 non-null    int64  \n",
            " 4   Insulin                   764 non-null    int64  \n",
            " 5   BMI                       764 non-null    float64\n",
            " 6   DiabetesPedigreeFunction  764 non-null    float64\n",
            " 7   Age                       764 non-null    int64  \n",
            " 8   Outcome                   764 non-null    int64  \n",
            "dtypes: float64(2), int64(7)\n",
            "memory usage: 59.7 KB\n"
          ]
        }
      ]
    },
    {
      "cell_type": "code",
      "source": [
        "data2['Outcome'].unique()"
      ],
      "metadata": {
        "id": "jWhi5Rw83lSV",
        "colab": {
          "base_uri": "https://localhost:8080/"
        },
        "outputId": "d52a4896-1816-4fd2-82e2-49218ef0890d"
      },
      "execution_count": null,
      "outputs": [
        {
          "output_type": "execute_result",
          "data": {
            "text/plain": [
              "array([1, 0])"
            ]
          },
          "metadata": {},
          "execution_count": 114
        }
      ]
    },
    {
      "cell_type": "code",
      "source": [
        "data2['Outcome'].value_counts()"
      ],
      "metadata": {
        "id": "4atmusUz303p",
        "colab": {
          "base_uri": "https://localhost:8080/"
        },
        "outputId": "44654afa-a7c2-408c-b934-74ad35fdb058"
      },
      "execution_count": null,
      "outputs": [
        {
          "output_type": "execute_result",
          "data": {
            "text/plain": [
              "0    500\n",
              "1    264\n",
              "Name: Outcome, dtype: int64"
            ]
          },
          "metadata": {},
          "execution_count": 115
        }
      ]
    },
    {
      "cell_type": "code",
      "source": [
        "data3 = (data2.groupby('Outcome', as_index=False).apply(lambda x:x.sample(n=252)).reset_index(drop=True))"
      ],
      "metadata": {
        "id": "mPIKXZIp31JA"
      },
      "execution_count": null,
      "outputs": []
    },
    {
      "cell_type": "code",
      "source": [
        "data3.info()"
      ],
      "metadata": {
        "id": "9sW73gNW31XJ",
        "colab": {
          "base_uri": "https://localhost:8080/"
        },
        "outputId": "2d703998-3cf0-43e0-a4fc-b4188888e974"
      },
      "execution_count": null,
      "outputs": [
        {
          "output_type": "stream",
          "name": "stdout",
          "text": [
            "<class 'pandas.core.frame.DataFrame'>\n",
            "RangeIndex: 504 entries, 0 to 503\n",
            "Data columns (total 9 columns):\n",
            " #   Column                    Non-Null Count  Dtype  \n",
            "---  ------                    --------------  -----  \n",
            " 0   Pregnancies               504 non-null    int64  \n",
            " 1   Glucose                   504 non-null    int64  \n",
            " 2   Blood_Pressure            504 non-null    int64  \n",
            " 3   SkinThickness             504 non-null    int64  \n",
            " 4   Insulin                   504 non-null    int64  \n",
            " 5   BMI                       504 non-null    float64\n",
            " 6   DiabetesPedigreeFunction  504 non-null    float64\n",
            " 7   Age                       504 non-null    int64  \n",
            " 8   Outcome                   504 non-null    int64  \n",
            "dtypes: float64(2), int64(7)\n",
            "memory usage: 35.6 KB\n"
          ]
        }
      ]
    },
    {
      "cell_type": "code",
      "source": [
        "data3['Outcome'].value_counts()"
      ],
      "metadata": {
        "colab": {
          "base_uri": "https://localhost:8080/"
        },
        "id": "tFsvghaO4SZp",
        "outputId": "e4d10908-987c-4d8e-ccf4-05fe24a1e0a7"
      },
      "execution_count": null,
      "outputs": [
        {
          "output_type": "execute_result",
          "data": {
            "text/plain": [
              "0    252\n",
              "1    252\n",
              "Name: Outcome, dtype: int64"
            ]
          },
          "metadata": {},
          "execution_count": 118
        }
      ]
    },
    {
      "cell_type": "markdown",
      "source": [
        "Dataset 2"
      ],
      "metadata": {
        "id": "waMWLwNBROwb"
      }
    },
    {
      "cell_type": "code",
      "source": [
        "import numpy as np\n",
        "q11,q31 = np.percentile(df2['BMI'],[25,27])\n",
        "s1 = q31+q11\n",
        "bal = q31+(1.5*s1)\n",
        "bwl=q11-(1.5*s1)\n",
        "print(q11)\n",
        "print(q31)\n",
        "print(s1)\n",
        "print(bal)\n",
        "print(bwl)"
      ],
      "metadata": {
        "id": "E80wVDHOvJ9M",
        "colab": {
          "base_uri": "https://localhost:8080/"
        },
        "outputId": "18d7a646-7a37-4746-9305-1c8661fa1baf"
      },
      "execution_count": null,
      "outputs": [
        {
          "output_type": "stream",
          "name": "stdout",
          "text": [
            "26.0\n",
            "26.0\n",
            "52.0\n",
            "104.0\n",
            "-52.0\n"
          ]
        }
      ]
    },
    {
      "cell_type": "code",
      "source": [
        "dt2 = df2[(df2['BMI']<bwl) | (df2['BMI']>bal)]\n",
        "dt2"
      ],
      "metadata": {
        "id": "UvBECZ47vKLb",
        "colab": {
          "base_uri": "https://localhost:8080/",
          "height": 53
        },
        "outputId": "2cac284e-ef13-4573-c12b-d8494a8c3e18"
      },
      "execution_count": null,
      "outputs": [
        {
          "output_type": "execute_result",
          "data": {
            "text/plain": [
              "Empty DataFrame\n",
              "Columns: [ID, Patients_No, Gender, AGE, Urea, Cr, HbA1c, Chol, TG, HDL, LDL, VLDL, BMI, CLASS]\n",
              "Index: []"
            ],
            "text/html": [
              "\n",
              "  <div id=\"df-fe45d178-21c7-4044-a888-4fc97b1d9621\" class=\"colab-df-container\">\n",
              "    <div>\n",
              "<style scoped>\n",
              "    .dataframe tbody tr th:only-of-type {\n",
              "        vertical-align: middle;\n",
              "    }\n",
              "\n",
              "    .dataframe tbody tr th {\n",
              "        vertical-align: top;\n",
              "    }\n",
              "\n",
              "    .dataframe thead th {\n",
              "        text-align: right;\n",
              "    }\n",
              "</style>\n",
              "<table border=\"1\" class=\"dataframe\">\n",
              "  <thead>\n",
              "    <tr style=\"text-align: right;\">\n",
              "      <th></th>\n",
              "      <th>ID</th>\n",
              "      <th>Patients_No</th>\n",
              "      <th>Gender</th>\n",
              "      <th>AGE</th>\n",
              "      <th>Urea</th>\n",
              "      <th>Cr</th>\n",
              "      <th>HbA1c</th>\n",
              "      <th>Chol</th>\n",
              "      <th>TG</th>\n",
              "      <th>HDL</th>\n",
              "      <th>LDL</th>\n",
              "      <th>VLDL</th>\n",
              "      <th>BMI</th>\n",
              "      <th>CLASS</th>\n",
              "    </tr>\n",
              "  </thead>\n",
              "  <tbody>\n",
              "  </tbody>\n",
              "</table>\n",
              "</div>\n",
              "    <div class=\"colab-df-buttons\">\n",
              "\n",
              "  <div class=\"colab-df-container\">\n",
              "    <button class=\"colab-df-convert\" onclick=\"convertToInteractive('df-fe45d178-21c7-4044-a888-4fc97b1d9621')\"\n",
              "            title=\"Convert this dataframe to an interactive table.\"\n",
              "            style=\"display:none;\">\n",
              "\n",
              "  <svg xmlns=\"http://www.w3.org/2000/svg\" height=\"24px\" viewBox=\"0 -960 960 960\">\n",
              "    <path d=\"M120-120v-720h720v720H120Zm60-500h600v-160H180v160Zm220 220h160v-160H400v160Zm0 220h160v-160H400v160ZM180-400h160v-160H180v160Zm440 0h160v-160H620v160ZM180-180h160v-160H180v160Zm440 0h160v-160H620v160Z\"/>\n",
              "  </svg>\n",
              "    </button>\n",
              "\n",
              "  <style>\n",
              "    .colab-df-container {\n",
              "      display:flex;\n",
              "      gap: 12px;\n",
              "    }\n",
              "\n",
              "    .colab-df-convert {\n",
              "      background-color: #E8F0FE;\n",
              "      border: none;\n",
              "      border-radius: 50%;\n",
              "      cursor: pointer;\n",
              "      display: none;\n",
              "      fill: #1967D2;\n",
              "      height: 32px;\n",
              "      padding: 0 0 0 0;\n",
              "      width: 32px;\n",
              "    }\n",
              "\n",
              "    .colab-df-convert:hover {\n",
              "      background-color: #E2EBFA;\n",
              "      box-shadow: 0px 1px 2px rgba(60, 64, 67, 0.3), 0px 1px 3px 1px rgba(60, 64, 67, 0.15);\n",
              "      fill: #174EA6;\n",
              "    }\n",
              "\n",
              "    .colab-df-buttons div {\n",
              "      margin-bottom: 4px;\n",
              "    }\n",
              "\n",
              "    [theme=dark] .colab-df-convert {\n",
              "      background-color: #3B4455;\n",
              "      fill: #D2E3FC;\n",
              "    }\n",
              "\n",
              "    [theme=dark] .colab-df-convert:hover {\n",
              "      background-color: #434B5C;\n",
              "      box-shadow: 0px 1px 3px 1px rgba(0, 0, 0, 0.15);\n",
              "      filter: drop-shadow(0px 1px 2px rgba(0, 0, 0, 0.3));\n",
              "      fill: #FFFFFF;\n",
              "    }\n",
              "  </style>\n",
              "\n",
              "    <script>\n",
              "      const buttonEl =\n",
              "        document.querySelector('#df-fe45d178-21c7-4044-a888-4fc97b1d9621 button.colab-df-convert');\n",
              "      buttonEl.style.display =\n",
              "        google.colab.kernel.accessAllowed ? 'block' : 'none';\n",
              "\n",
              "      async function convertToInteractive(key) {\n",
              "        const element = document.querySelector('#df-fe45d178-21c7-4044-a888-4fc97b1d9621');\n",
              "        const dataTable =\n",
              "          await google.colab.kernel.invokeFunction('convertToInteractive',\n",
              "                                                    [key], {});\n",
              "        if (!dataTable) return;\n",
              "\n",
              "        const docLinkHtml = 'Like what you see? Visit the ' +\n",
              "          '<a target=\"_blank\" href=https://colab.research.google.com/notebooks/data_table.ipynb>data table notebook</a>'\n",
              "          + ' to learn more about interactive tables.';\n",
              "        element.innerHTML = '';\n",
              "        dataTable['output_type'] = 'display_data';\n",
              "        await google.colab.output.renderOutput(dataTable, element);\n",
              "        const docLink = document.createElement('div');\n",
              "        docLink.innerHTML = docLinkHtml;\n",
              "        element.appendChild(docLink);\n",
              "      }\n",
              "    </script>\n",
              "  </div>\n",
              "\n",
              "    </div>\n",
              "  </div>\n"
            ]
          },
          "metadata": {},
          "execution_count": 124
        }
      ]
    },
    {
      "cell_type": "code",
      "source": [
        "dt2.info()"
      ],
      "metadata": {
        "id": "OR2KyVLovKbb",
        "colab": {
          "base_uri": "https://localhost:8080/"
        },
        "outputId": "d6354687-7c24-42c2-d97d-3e5557023312"
      },
      "execution_count": null,
      "outputs": [
        {
          "output_type": "stream",
          "name": "stdout",
          "text": [
            "<class 'pandas.core.frame.DataFrame'>\n",
            "Int64Index: 0 entries\n",
            "Data columns (total 14 columns):\n",
            " #   Column       Non-Null Count  Dtype  \n",
            "---  ------       --------------  -----  \n",
            " 0   ID           0 non-null      int64  \n",
            " 1   Patients_No  0 non-null      int64  \n",
            " 2   Gender       0 non-null      object \n",
            " 3   AGE          0 non-null      float64\n",
            " 4   Urea         0 non-null      float64\n",
            " 5   Cr           0 non-null      float64\n",
            " 6   HbA1c        0 non-null      float64\n",
            " 7   Chol         0 non-null      float64\n",
            " 8   TG           0 non-null      float64\n",
            " 9   HDL          0 non-null      float64\n",
            " 10  LDL          0 non-null      float64\n",
            " 11  VLDL         0 non-null      float64\n",
            " 12  BMI          0 non-null      float64\n",
            " 13  CLASS        0 non-null      object \n",
            "dtypes: float64(10), int64(2), object(2)\n",
            "memory usage: 0.0+ bytes\n"
          ]
        }
      ]
    },
    {
      "cell_type": "code",
      "source": [
        "dt2['BMI'].unique()"
      ],
      "metadata": {
        "id": "SSCSnyoj7pWQ",
        "colab": {
          "base_uri": "https://localhost:8080/"
        },
        "outputId": "bd8961f6-a1b8-4e25-c72d-1507a7294dbc"
      },
      "execution_count": null,
      "outputs": [
        {
          "output_type": "execute_result",
          "data": {
            "text/plain": [
              "array([], dtype=float64)"
            ]
          },
          "metadata": {},
          "execution_count": 126
        }
      ]
    },
    {
      "cell_type": "code",
      "source": [
        "from google.colab import files\n",
        "\n",
        "# Simpan DataFrame ke file CSV\n",
        "# Misalkan df adalah DataFrame Anda\n",
        "df2.to_csv('121450005_ANNISANOVANTIKA_MODUL1(2).csv')\n",
        "\n",
        "# Download file CSV\n",
        "files.download('121450005_ANNISANOVANTIKA_MODUL1(2).csv')"
      ],
      "metadata": {
        "id": "v14vWC39kFvg",
        "colab": {
          "base_uri": "https://localhost:8080/",
          "height": 17
        },
        "outputId": "351bf763-4c08-4513-ac09-c6d0bd6e524e"
      },
      "execution_count": null,
      "outputs": [
        {
          "output_type": "display_data",
          "data": {
            "text/plain": [
              "<IPython.core.display.Javascript object>"
            ],
            "application/javascript": [
              "\n",
              "    async function download(id, filename, size) {\n",
              "      if (!google.colab.kernel.accessAllowed) {\n",
              "        return;\n",
              "      }\n",
              "      const div = document.createElement('div');\n",
              "      const label = document.createElement('label');\n",
              "      label.textContent = `Downloading \"${filename}\": `;\n",
              "      div.appendChild(label);\n",
              "      const progress = document.createElement('progress');\n",
              "      progress.max = size;\n",
              "      div.appendChild(progress);\n",
              "      document.body.appendChild(div);\n",
              "\n",
              "      const buffers = [];\n",
              "      let downloaded = 0;\n",
              "\n",
              "      const channel = await google.colab.kernel.comms.open(id);\n",
              "      // Send a message to notify the kernel that we're ready.\n",
              "      channel.send({})\n",
              "\n",
              "      for await (const message of channel.messages) {\n",
              "        // Send a message to notify the kernel that we're ready.\n",
              "        channel.send({})\n",
              "        if (message.buffers) {\n",
              "          for (const buffer of message.buffers) {\n",
              "            buffers.push(buffer);\n",
              "            downloaded += buffer.byteLength;\n",
              "            progress.value = downloaded;\n",
              "          }\n",
              "        }\n",
              "      }\n",
              "      const blob = new Blob(buffers, {type: 'application/binary'});\n",
              "      const a = document.createElement('a');\n",
              "      a.href = window.URL.createObjectURL(blob);\n",
              "      a.download = filename;\n",
              "      div.appendChild(a);\n",
              "      a.click();\n",
              "      div.remove();\n",
              "    }\n",
              "  "
            ]
          },
          "metadata": {}
        },
        {
          "output_type": "display_data",
          "data": {
            "text/plain": [
              "<IPython.core.display.Javascript object>"
            ],
            "application/javascript": [
              "download(\"download_41c3714e-cf8e-4bc2-bb09-caa241c91d15\", \"121450005_ANNISANOVANTIKA_MODUL1(2).csv\", 61076)"
            ]
          },
          "metadata": {}
        }
      ]
    }
  ]
}